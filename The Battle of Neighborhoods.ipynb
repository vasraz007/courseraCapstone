{
    "cells": [
        {
            "cell_type": "code",
            "execution_count": null,
            "metadata": {},
            "outputs": [],
            "source": "!pip install -U geocoder\n!pip install -U geopy\n!pip install -U googlemaps\n!pip install -U folium\n\nimport pandas as pd\nimport numpy as np\n\n#from bs4 import BeautifulSoup\n\nfrom pandas.io.json import json_normalize # tranform JSON file into a pandas dataframe\n\nimport googlemaps\nfrom datetime import datetime\n#from geopy.geocoders import GeoNames\n#from geopy.geocoders import GoogleV3\n#from geopy.geocoders import Nominatim\nimport requests\nimport geopy\ngeopy.geocoders.options.default_user_agent = \"my-application\"\n\nimport time\nimport folium"
        },
        {
            "cell_type": "code",
            "execution_count": null,
            "metadata": {},
            "outputs": [],
            "source": "# The code was removed by Watson Studio for sharing."
        },
        {
            "cell_type": "code",
            "execution_count": null,
            "metadata": {},
            "outputs": [],
            "source": "!wget --cookies=on --save-cookies cookies.txt --keep-session-cookies --post-data 'user=EMAIL&password=PASSWORD' 'https://www.ctt.pt/fecas/login?service=https%3A%2F%2Fwww.ctt.pt%2Ffemgu%2Fj_spring_cas_security_check.jspx'\n!wget --cookies=on --load-cookies cookies.txt --keep-session-cookies 'https://www.ctt.pt/feapl_2/app/restricted/postalCodeSearch/postalCodeDownloadFiles!downloadPostalCodeFile.jspx' -O PostCodeFull.Pt.zip"
        },
        {
            "cell_type": "code",
            "execution_count": null,
            "metadata": {},
            "outputs": [],
            "source": "!rm -f login*\n!ls -la"
        },
        {
            "cell_type": "code",
            "execution_count": null,
            "metadata": {},
            "outputs": [],
            "source": "#!unzip -x todos_cp.zip"
        },
        {
            "cell_type": "code",
            "execution_count": null,
            "metadata": {},
            "outputs": [],
            "source": "!cat cookies.txt"
        },
        {
            "cell_type": "code",
            "execution_count": null,
            "metadata": {},
            "outputs": [],
            "source": "# The code was removed by Watson Studio for sharing."
        },
        {
            "cell_type": "code",
            "execution_count": null,
            "metadata": {},
            "outputs": [],
            "source": "from ibm_botocore.client import Config\nimport ibm_boto3\ncos = ibm_boto3.client(service_name='s3',\n    ibm_api_key_id=credentials['IBM_API_KEY_ID'],\n    ibm_service_instance_id=credentials['IAM_SERVICE_ID'],\n    ibm_auth_endpoint=credentials['IBM_AUTH_ENDPOINT'],\n    config=Config(signature_version='oauth'),\n    endpoint_url=credentials['ENDPOINT'])\ndir(cos)"
        },
        {
            "cell_type": "code",
            "execution_count": null,
            "metadata": {},
            "outputs": [],
            "source": "from ibm_botocore.client import Config\nimport ibm_boto3\ndef download_file_cos(credentials,local_file_name,key):  \n    cos = ibm_boto3.client(service_name='s3',\n    ibm_api_key_id=credentials['IBM_API_KEY_ID'],\n    ibm_service_instance_id=credentials['IAM_SERVICE_ID'],\n    ibm_auth_endpoint=credentials['IBM_AUTH_ENDPOINT'],\n    config=Config(signature_version='oauth'),\n    endpoint_url=credentials['ENDPOINT'])\n    try:\n        res=cos.download_file(Bucket=credentials['BUCKET'],Key=key,Filename=local_file_name)\n    except Exception as e:\n        print(Exception, e)\n    else:\n        print('File Downloaded')"
        },
        {
            "cell_type": "code",
            "execution_count": null,
            "metadata": {},
            "outputs": [],
            "source": "def upload_file_cos(credentials,local_file_name,key):  \n    cos = ibm_boto3.client(service_name='s3',\n    ibm_api_key_id=credentials['IBM_API_KEY_ID'],\n    ibm_service_instance_id=credentials['IAM_SERVICE_ID'],\n    ibm_auth_endpoint=credentials['IBM_AUTH_ENDPOINT'],\n    config=Config(signature_version='oauth'),\n    endpoint_url=credentials['ENDPOINT'])\n    try:\n        res=cos.upload_file(Filename=local_file_name, Bucket=credentials['BUCKET'],Key=key)\n    except Exception as e:\n        print(Exception, e)\n    else:\n        print(' File Uploaded')"
        },
        {
            "cell_type": "code",
            "execution_count": null,
            "metadata": {},
            "outputs": [],
            "source": "download_file_cos(credentials,'concelhos.txt','concelhos.txt')\ndownload_file_cos(credentials,'distritos.txt','distritos.txt')\ndownload_file_cos(credentials,'todos_cp.txt','todos_cp.txt')\ndownload_file_cos(credentials,'location_geometry.csv','location_geometry.csv')"
        },
        {
            "cell_type": "code",
            "execution_count": null,
            "metadata": {},
            "outputs": [],
            "source": "!ls -la"
        },
        {
            "cell_type": "code",
            "execution_count": null,
            "metadata": {},
            "outputs": [],
            "source": "df_DD=pd.read_csv('distritos.txt',sep=';',encoding='iso8859_15')\ndf_DD"
        },
        {
            "cell_type": "code",
            "execution_count": null,
            "metadata": {},
            "outputs": [],
            "source": "df_CC=pd.read_csv('concelhos.txt',sep=';',encoding='iso8859_15')\ndf_CC=df_CC[df_CC['DD']==8]\ndf_CC"
        },
        {
            "cell_type": "code",
            "execution_count": null,
            "metadata": {},
            "outputs": [],
            "source": "#columns_1={'DD','CC','LLLL','LOCALIDADE','ART_COD','ART_TIPO','PRI_PREP','ART_TITULO','SEG_PREP','ART_DESIG','ART_LOCAL','TRO\u00c7O','PORTA','CLIENTE','CP4','CP3','CPALF'}\ndf_PostalCode=pd.read_csv('todos_cp.txt',sep=';',encoding='iso8859_15')\n#df_PostalCode=pd.read_csv('todos_cp.txt',sep=';',encoding='latin-1',header=None,names=columns_1,usecols=columns_1)[columns_1]\ndf_PostalCode.shape"
        },
        {
            "cell_type": "code",
            "execution_count": null,
            "metadata": {},
            "outputs": [],
            "source": "df_PostalCode[df_PostalCode['CPALF']=='LAGOS'].head()"
        },
        {
            "cell_type": "code",
            "execution_count": null,
            "metadata": {},
            "outputs": [],
            "source": "df_PostalCode=df_PostalCode[['DD','CC','LLLL','LOCALIDADE','CP4','CP3','CPALF']]\ndf_PostalCode.head()"
        },
        {
            "cell_type": "code",
            "execution_count": null,
            "metadata": {},
            "outputs": [],
            "source": "#new_df=pd.DataFrame(df_PostalCode[df_PostalCode['DD']==8].groupby(['CPALF','CP4'])['CP3'].count())\n#new_df=new_df.reset_index()[['CPALF','CP4']]\n#new_df.head()\n\nnew_df=pd.DataFrame(df_PostalCode[df_PostalCode['DD']==8].groupby(['CPALF'])['CP4'].count())\nnew_df=new_df.reset_index()[['CPALF']]\nnew_df.head()"
        },
        {
            "cell_type": "code",
            "execution_count": null,
            "metadata": {},
            "outputs": [],
            "source": "new_df.size"
        },
        {
            "cell_type": "code",
            "execution_count": null,
            "metadata": {},
            "outputs": [],
            "source": "#new_df[['CPALF','CP4']]"
        },
        {
            "cell_type": "code",
            "execution_count": null,
            "metadata": {},
            "outputs": [],
            "source": "# The code was removed by Watson Studio for sharing."
        },
        {
            "cell_type": "code",
            "execution_count": null,
            "metadata": {},
            "outputs": [],
            "source": "gmaps = googlemaps.Client(key=GOOGLE_MAPS_API_KEY)\naddress='Silves, Algarve, Portugal'\n#address='Silves, Algarve, 8300, Portugal'\n#location = gmaps.geocode(components={\"city\": \"Silves\", \"country\": \"PT\"})\n#location = gmaps.geocode(components={\"city\": \"Silves\", \"country\": \"PT\", \"postal_code\": \"8300\"})\nlocation = gmaps.geocode(address)\nprint(location)\nresult=json_normalize(location)\nprint(result['geometry.location.lat'][0])\nprint(result['geometry.location.lng'][0])\nprint(type(result))\n#dir(location)\n#latitude = location.latitude\n#print(latitude)\n#longitude = location.longitude\n#print(longitude)"
        },
        {
            "cell_type": "code",
            "execution_count": null,
            "metadata": {},
            "outputs": [],
            "source": ""
        },
        {
            "cell_type": "code",
            "execution_count": null,
            "metadata": {},
            "outputs": [],
            "source": ""
        },
        {
            "cell_type": "code",
            "execution_count": null,
            "metadata": {},
            "outputs": [],
            "source": ""
        },
        {
            "cell_type": "code",
            "execution_count": null,
            "metadata": {},
            "outputs": [],
            "source": ""
        },
        {
            "cell_type": "code",
            "execution_count": null,
            "metadata": {},
            "outputs": [],
            "source": "for ind in new_df.index:\n    address='{}, Algarve, Portugal'.format(new_df['CPALF'][ind])\n    print(address)"
        },
        {
            "cell_type": "code",
            "execution_count": null,
            "metadata": {},
            "outputs": [],
            "source": "all_locations=pd.DataFrame()\nfor ind in new_df.index:\n    address='{}, Algarve, Portugal'.format(new_df['CPALF'][ind])\n    try:\n        gmaps = googlemaps.Client(key=GOOGLE_MAPS_API_KEY)\n        location = gmaps.geocode(address)\n    except geopy.exc.GeocoderUnavailable:\n        print('GeocoderUnavailable')\n        print(name)\n    except urllib.error.URLError:\n        print('URLError')\n        print(name)\n    except OSError:\n        print('OSError')\n        print(name)\n\n\n    if all_locations.empty:\n        all_locations=pd.DataFrame(json_normalize(location))\n    else:\n        all_locations=all_locations.append(json_normalize(location),sort=False)\n\n#        print(json_normalize(location))\n#    print(type(json_normalize(location)))\n#    if not location.empty():\n#    all_locations.append(json_normalize(location))\n#print(len(all_locations))\nprint(all_locations.shape)"
        },
        {
            "cell_type": "code",
            "execution_count": null,
            "metadata": {},
            "outputs": [],
            "source": "#all_locations = list(filter(all_locations.empty, all_locations))\nall_locations=all_locations.reset_index()\nall_locations.head()"
        },
        {
            "cell_type": "code",
            "execution_count": null,
            "metadata": {},
            "outputs": [],
            "source": "all_locations.dtypes"
        },
        {
            "cell_type": "code",
            "execution_count": null,
            "metadata": {},
            "outputs": [],
            "source": "location_geometry=all_locations[['geometry.location.lat','geometry.location.lng']]\nlocation_geometry.head()"
        },
        {
            "cell_type": "code",
            "execution_count": null,
            "metadata": {},
            "outputs": [],
            "source": "location_geometry.to_csv('location_geometry.csv',index=False)"
        },
        {
            "cell_type": "code",
            "execution_count": null,
            "metadata": {},
            "outputs": [],
            "source": "upload_file_cos(credentials,'location_geometry.csv','location_geometry.csv')"
        },
        {
            "cell_type": "code",
            "execution_count": null,
            "metadata": {},
            "outputs": [],
            "source": "location_geometry=pd.read_csv('location_geometry.csv',sep=',',encoding='iso8859_15')\nlocation_geometry"
        },
        {
            "cell_type": "code",
            "execution_count": null,
            "metadata": {},
            "outputs": [],
            "source": "# The code was removed by Watson Studio for sharing."
        },
        {
            "cell_type": "code",
            "execution_count": null,
            "metadata": {},
            "outputs": [],
            "source": "Resort +\n4bf58dd8d48988d12f951735\n\nVacation Rental - apartamentos\n56aa371be4b08b9a8d5734e1\n\nHotel Pool - just pool\n4bf58dd8d48988d132951735\n\nBed & Breakfast - pensao\n4bf58dd8d48988d1f8931735\n\nBoarding House\n4f4530a74b9074f6e4fb0100\n\nInn - not found\n5bae9231bedf3950379f89cb\n\nHostel -\n4bf58dd8d48988d1ee931735\n\nMotel - apartamentos\n4bf58dd8d48988d1fb931735\n\nNightlife Spot\n4d4b7105d754a06376d81259"
        },
        {
            "cell_type": "code",
            "execution_count": null,
            "metadata": {},
            "outputs": [],
            "source": "category='4bf58dd8d48988d12f951735' # Resort\n#category='4bf58dd8d48988d1fa931735' # Hotel\n#category='5bae9231bedf3950379f89cb' # Inn\n#category='4f4530a74b9074f6e4fb0100' # Boarding House\n\nlatitude=37.089072\nlongitude=-8.247880\nurl = 'https://api.foursquare.com/v2/venues/search?&client_id={}&client_secret={}&v={}&ll={},{}&radius={}&limit={}&intent=browse&categoryId={}'.format(\n#url = 'https://api.foursquare.com/v2/venues/explore?&client_id={}&client_secret={}&v={}&ll={},{}&radius={}&limit={}'.format(\nCLIENT_ID, \nCLIENT_SECRET,\nVERSION,\nlatitude,\nlongitude,\n1500,\n50,\ncategory)\nresults = json_normalize(requests.get(url).json())\nprint('Done')"
        },
        {
            "cell_type": "code",
            "execution_count": null,
            "metadata": {},
            "outputs": [],
            "source": "results.head()"
        },
        {
            "cell_type": "code",
            "execution_count": null,
            "metadata": {},
            "outputs": [],
            "source": "aa=pd.DataFrame(results['response.venues'][0])\n#aa\nbb=pd.DataFrame(aa['location'])\nbb"
        },
        {
            "cell_type": "code",
            "execution_count": null,
            "metadata": {},
            "outputs": [],
            "source": "for ind in bb.index:\n    zz = bb['location'][ind]\n    xx=pd.DataFrame(zz['labeledLatLngs'])\n    print(xx['lat'][0],xx['lng'][0])"
        },
        {
            "cell_type": "code",
            "execution_count": null,
            "metadata": {},
            "outputs": [],
            "source": "#category='4d4b7105d754a06374d81259' # Food\ncategory='52e81612bcbc57f1066b7a01' # Austrian Restaurant\n\n#37.145662, -8.124255 Algarve\n#38.723653, -9.137163 Lisbon\n#47.072581, 15.440042 Graz\n#50.451301, 30.515182 Kiev\n\nlatitude='50.451301'\nlongitude='30.515182'\nurl = 'https://api.foursquare.com/v2/venues/search?&client_id={}&client_secret={}&v={}&ll={},{}&radius={}&limit={}&intent=browse&categoryId={}'.format(\n#url = 'https://api.foursquare.com/v2/venues/explore?&client_id={}&client_secret={}&v={}&ll={},{}&radius={}&limit={}'.format(\nCLIENT_ID, \nCLIENT_SECRET,\nVERSION,\nlatitude,\nlongitude,\n30000,\n50,\ncategory)\nresults = json_normalize(requests.get(url).json())\nprint('Done')"
        },
        {
            "cell_type": "code",
            "execution_count": null,
            "metadata": {},
            "outputs": [],
            "source": "results.head()"
        },
        {
            "cell_type": "code",
            "execution_count": null,
            "metadata": {},
            "outputs": [],
            "source": "aa=pd.DataFrame(results['response.venues'][0])\naa.head()"
        },
        {
            "cell_type": "code",
            "execution_count": null,
            "metadata": {},
            "outputs": [],
            "source": "latitude=37.089072\nlongitude=-8.247880\nurl = 'https://api.foursquare.com/v2/venues/search?&client_id={}&client_secret={}&v={}&ll={},{}&radius={}&limit={}&intent=browse&categoryId=4bf58dd8d48988d1fa931735'.format(\n#url = 'https://api.foursquare.com/v2/venues/explore?&client_id={}&client_secret={}&v={}&ll={},{}&radius={}&limit={}'.format(\nCLIENT_ID, \nCLIENT_SECRET,\nVERSION,\nlatitude,\nlongitude,\n999,\n9)\nresults = json_normalize(requests.get(url).json())\nprint(results)\ntry:\n    if not results.empty:\n        response_groups=results['response.groups'][0]\n        #print(type(response_groups))\n        print('response_groups')\n        print(response_groups)\n        if response_groups:\n            items=pd.DataFrame(response_groups)['items'][0]\n            #print(type(items))\n            print('items')\n            print(items)\n            if items:\n                venue=pd.DataFrame(items)['venue'][0]\n                #print(type(venue))\n                print('venue')\n                print(venue)\n                if venue:\n                    nearby_venues=pd.DataFrame.from_dict(venue,orient='index').T\n                    #print(type(nearby_venues))\n                    print('nearby_venues')\n                    print(nearby_venues)\n\nexcept KeyError:\n    print('error')\n\n#b=results['response.groups'][0]\n#c=pd.DataFrame((b))\n#d=c['items'][0]\n#e=pd.DataFrame(d)['venue'][0]\n#name=e['name']\n#print(name)\n#latitude=e['location']['lat']\n#print(latitude)"
        },
        {
            "cell_type": "code",
            "execution_count": null,
            "metadata": {},
            "outputs": [],
            "source": "print(type(results))\nprint(type(b))\nprint(type(c))\nprint(type(d))\nprint(type(e))\nprint(type(name))"
        },
        {
            "cell_type": "code",
            "execution_count": null,
            "metadata": {},
            "outputs": [],
            "source": "nearby_venues=pd.DataFrame(pd.DataFrame(((results)['response.groups'][0]))['items'][0])['venue'][0]\na=pd.DataFrame.from_dict(nearby_venues,orient='index').T\n#a=pd.DataFrame.from_dict(nearby_venues,columns=['name','location'],orient='index')\n#nearby_venues=pd.DataFrame.from_dict(pd.DataFrame(pd.DataFrame(((results)['response.groups'][0]))['items'][0])['venue'][0].items()).T\na"
        },
        {
            "cell_type": "code",
            "execution_count": null,
            "metadata": {},
            "outputs": [],
            "source": "items=pd.DataFrame(pd.DataFrame((results['response.groups'][0]))['items'][0])\nitems['venue'][0]"
        },
        {
            "cell_type": "code",
            "execution_count": null,
            "metadata": {},
            "outputs": [],
            "source": "venue=pd.DataFrame(pd.DataFrame(((results)['response.groups'][0]))['items'][0])['venue'][0]\nname=venue['name']\nprint(name)\nlatitude=venue['location']['lat']\nprint(latitude)"
        },
        {
            "cell_type": "code",
            "execution_count": null,
            "metadata": {},
            "outputs": [],
            "source": "all_results=pd.DataFrame()\nlatitude_sum=0\nlongitude_sum=0\nfor ind in all_locations.index:\n#for ind in new_df.index:\n\n#    print(ind)\n    latitude = all_locations['geometry.location.lat'][ind]\n    longitude = all_locations['geometry.location.lng'][ind]\n#    print(latitude)\n#    print(longitude)\n    latitude_sum=latitude_sum+latitude\n    longitude_sum=longitude_sum+longitude\n    \n    url = 'https://api.foursquare.com/v2/venues/explore?&client_id={}&client_secret={}&v={}&ll={},{}&radius={}&limit={}'.format(\n    CLIENT_ID, \n    CLIENT_SECRET,\n    VERSION,\n    latitude,\n    longitude,\n    999,\n    5)\n#    print(url)\n\n    results = json_normalize(requests.get(url).json())\n    print(type(results))\n    print('results')\n#    id not results.empty and not results['response.groups'][0] and not pd.DataFrame(pd.DataFrame(results['response.groups'][0])['items'][0]).empty and not \n    try:\n        if not results.empty:\n            response_groups=results['response.groups'][0]\n            #print(type(response_groups))\n            print('response_groups')\n            if response_groups:\n                items=pd.DataFrame(response_groups)['items'][0]\n                #print(type(items))\n                print('items')\n                if items:\n                    venue=pd.DataFrame(items)['venue'][0]\n                    #print(type(venue))\n                    print('venue')\n                    if venue:\n                        nearby_venues=pd.DataFrame.from_dict(venue,orient='index').T\n                        #print(type(nearby_venues))\n                        print('nearby_venues')\n                        print(nearby_venues)\n                        if not nearby_venues.empty:\n                            if all_results.empty:\n                                all_results=pd.DataFrame(nearby_venues)\n                            else:\n                                all_results=all_results.append(nearby_venues,sort=False)\n\n\n    except KeyError:\n        print('error')\n\nprint(len(all_results))\nprint(latitude_sum)\nprint(longitude_sum)\nprint(latitude_sum/len(all_locations))\nprint(longitude_sum/len(all_locations))"
        },
        {
            "cell_type": "code",
            "execution_count": null,
            "metadata": {},
            "outputs": [],
            "source": "all_results.head()"
        },
        {
            "cell_type": "code",
            "execution_count": null,
            "metadata": {
                "scrolled": false
            },
            "outputs": [],
            "source": "# create map using latitude and longitude values\nmap_Algarve = folium.Map(location=[latitude_sum/len(all_locations), longitude_sum/len(all_locations)], zoom_start=10)\n\nfor lat, lng, venue in zip(all_results['venue.location.lat'],\n                                           all_results['venue.location.lng'],\n                                           all_results['venue.name']):\n    label = 'Venue: {}'.format(venue)\n    label = folium.Popup(label, parse_html=True)\n    folium.CircleMarker(\n        [lat, lng],\n        radius=5,\n        popup=label,\n        color='blue',\n        fill=True,\n        fill_color='#3186cc',\n        fill_opacity=0.7).add_to(map_Algarve)  \n    \nmap_Algarve"
        },
        {
            "cell_type": "code",
            "execution_count": null,
            "metadata": {},
            "outputs": [],
            "source": "all_venues=pd.DataFrame()"
        },
        {
            "cell_type": "code",
            "execution_count": null,
            "metadata": {},
            "outputs": [],
            "source": "for i in range(len(all_results)):\n#    print(i)\n    venues=all_results[i]['response']['groups'][0]['items']\n    nearby_venues = json_normalize(venues)\n    all_venues.append(nearby_venues)\n\nprint(all_venues.size)"
        },
        {
            "cell_type": "code",
            "execution_count": null,
            "metadata": {},
            "outputs": [],
            "source": "venues=all_results[0]\n#venues=all_results[2]['response']['groups'][0]['items']\n#print(type(all_results[15]))\n#print(type(all_results[15]['response']))\n#print(type(all_results[15]['response']['groups']))\n#print(type(all_results[15]['response']['groups'][0]))\n#print(type(venues))\nnearby_venues = json_normalize(venues)\n#((nearby_venues))\n#nearby_venues\nall_venues.append(nearby_venues)\nall_venues\n#print(all_venues.size)"
        },
        {
            "cell_type": "code",
            "execution_count": null,
            "metadata": {},
            "outputs": [],
            "source": "a=all_results[0].get('response')\na.get('groups')"
        },
        {
            "cell_type": "code",
            "execution_count": null,
            "metadata": {},
            "outputs": [],
            "source": "# Convert the HTML response into a BeautifulSoup Object\nsoup = BeautifulSoup(all_results[9].content, 'html.parser')\n\n# Use the BeautifulSoup find_all method to extract each top site venue details.\ntop_venues = soup.find_all('div', class_='venueDetails')"
        },
        {
            "cell_type": "code",
            "execution_count": null,
            "metadata": {},
            "outputs": [],
            "source": "dir(all_results[9])"
        },
        {
            "cell_type": "code",
            "execution_count": null,
            "metadata": {},
            "outputs": [],
            "source": "address = 'Lagos (Algarve), Portugal'\ngeolocator = Nominatim()\nlocation = geolocator.geocode(address)\nprint((location))\nlatitude = location.latitude\nlongitude = location.longitude\n\nprint(latitude)\nprint(longitude)"
        },
        {
            "cell_type": "code",
            "execution_count": null,
            "metadata": {},
            "outputs": [],
            "source": ""
        },
        {
            "cell_type": "code",
            "execution_count": null,
            "metadata": {},
            "outputs": [],
            "source": "url = 'https://api.foursquare.com/v2/venues/explore?&client_id={}&client_secret={}&v={}&ll={},{}&radius={}&limit={}'.format(\n    CLIENT_ID, \n    CLIENT_SECRET,\n    VERSION,\n    latitude,\n    longitude,\n    1000,\n    100)\nurl"
        },
        {
            "cell_type": "code",
            "execution_count": null,
            "metadata": {},
            "outputs": [],
            "source": "results = requests.get(url).json()"
        },
        {
            "cell_type": "code",
            "execution_count": null,
            "metadata": {},
            "outputs": [],
            "source": "dir(results)"
        },
        {
            "cell_type": "code",
            "execution_count": null,
            "metadata": {},
            "outputs": [],
            "source": "results.items()"
        },
        {
            "cell_type": "code",
            "execution_count": null,
            "metadata": {},
            "outputs": [],
            "source": "# Convert the HTML response into a BeautifulSoup Object\nsoup = BeautifulSoup(results.content, 'html.parser')\n\n# Use the BeautifulSoup find_all method to extract each top site venue details.\ntop_venues = soup.find_all('div', class_='venueDetails')"
        },
        {
            "cell_type": "code",
            "execution_count": null,
            "metadata": {},
            "outputs": [],
            "source": ""
        }
    ],
    "metadata": {
        "kernelspec": {
            "display_name": "Python 3.6",
            "language": "python",
            "name": "python3"
        },
        "language_info": {
            "codemirror_mode": {
                "name": "ipython",
                "version": 3
            },
            "file_extension": ".py",
            "mimetype": "text/x-python",
            "name": "python",
            "nbconvert_exporter": "python",
            "pygments_lexer": "ipython3",
            "version": "3.6.9"
        }
    },
    "nbformat": 4,
    "nbformat_minor": 1
}