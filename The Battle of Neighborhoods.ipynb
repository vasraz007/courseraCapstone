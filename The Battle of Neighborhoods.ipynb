{
    "cells": [
        {
            "cell_type": "code",
            "execution_count": 1,
            "metadata": {},
            "outputs": [
                {
                    "name": "stdout",
                    "output_type": "stream",
                    "text": "Collecting geocoder\n\u001b[?25l  Downloading https://files.pythonhosted.org/packages/4f/6b/13166c909ad2f2d76b929a4227c952630ebaf0d729f6317eb09cbceccbab/geocoder-1.38.1-py2.py3-none-any.whl (98kB)\n\u001b[K     |\u2588\u2588\u2588\u2588\u2588\u2588\u2588\u2588\u2588\u2588\u2588\u2588\u2588\u2588\u2588\u2588\u2588\u2588\u2588\u2588\u2588\u2588\u2588\u2588\u2588\u2588\u2588\u2588\u2588\u2588\u2588\u2588| 102kB 7.2MB/s ta 0:00:011\n\u001b[?25hRequirement already satisfied, skipping upgrade: six in /opt/conda/envs/Python36/lib/python3.6/site-packages (from geocoder) (1.12.0)\nRequirement already satisfied, skipping upgrade: click in /opt/conda/envs/Python36/lib/python3.6/site-packages (from geocoder) (7.0)\nCollecting ratelim (from geocoder)\n  Downloading https://files.pythonhosted.org/packages/f2/98/7e6d147fd16a10a5f821db6e25f192265d6ecca3d82957a4fdd592cad49c/ratelim-0.1.6-py2.py3-none-any.whl\nRequirement already satisfied, skipping upgrade: future in /opt/conda/envs/Python36/lib/python3.6/site-packages (from geocoder) (0.17.1)\nRequirement already satisfied, skipping upgrade: requests in /opt/conda/envs/Python36/lib/python3.6/site-packages (from geocoder) (2.21.0)\nRequirement already satisfied, skipping upgrade: decorator in /opt/conda/envs/Python36/lib/python3.6/site-packages (from ratelim->geocoder) (4.3.2)\nRequirement already satisfied, skipping upgrade: idna<2.9,>=2.5 in /opt/conda/envs/Python36/lib/python3.6/site-packages (from requests->geocoder) (2.8)\nRequirement already satisfied, skipping upgrade: urllib3<1.25,>=1.21.1 in /opt/conda/envs/Python36/lib/python3.6/site-packages (from requests->geocoder) (1.24.1)\nRequirement already satisfied, skipping upgrade: certifi>=2017.4.17 in /opt/conda/envs/Python36/lib/python3.6/site-packages (from requests->geocoder) (2019.11.28)\nRequirement already satisfied, skipping upgrade: chardet<3.1.0,>=3.0.2 in /opt/conda/envs/Python36/lib/python3.6/site-packages (from requests->geocoder) (3.0.4)\nInstalling collected packages: ratelim, geocoder\nSuccessfully installed geocoder-1.38.1 ratelim-0.1.6\nCollecting geopy\n\u001b[?25l  Downloading https://files.pythonhosted.org/packages/53/fc/3d1b47e8e82ea12c25203929efb1b964918a77067a874b2c7631e2ec35ec/geopy-1.21.0-py2.py3-none-any.whl (104kB)\n\u001b[K     |\u2588\u2588\u2588\u2588\u2588\u2588\u2588\u2588\u2588\u2588\u2588\u2588\u2588\u2588\u2588\u2588\u2588\u2588\u2588\u2588\u2588\u2588\u2588\u2588\u2588\u2588\u2588\u2588\u2588\u2588\u2588\u2588| 112kB 11.7MB/s eta 0:00:01\n\u001b[?25hRequirement already satisfied, skipping upgrade: geographiclib<2,>=1.49 in /opt/conda/envs/Python36/lib/python3.6/site-packages (from geopy) (1.49)\nInstalling collected packages: geopy\n  Found existing installation: geopy 1.18.1\n    Uninstalling geopy-1.18.1:\n      Successfully uninstalled geopy-1.18.1\nSuccessfully installed geopy-1.21.0\nCollecting googlemaps\n  Downloading https://files.pythonhosted.org/packages/07/b8/bd7ab78014a4290853250ac8a1744c5a200e569811b7e0cc9222d38fc296/googlemaps-4.2.0-py3-none-any.whl\nRequirement already satisfied, skipping upgrade: requests<3.0,>=2.20.0 in /opt/conda/envs/Python36/lib/python3.6/site-packages (from googlemaps) (2.21.0)\nRequirement already satisfied, skipping upgrade: certifi>=2017.4.17 in /opt/conda/envs/Python36/lib/python3.6/site-packages (from requests<3.0,>=2.20.0->googlemaps) (2019.11.28)\nRequirement already satisfied, skipping upgrade: idna<2.9,>=2.5 in /opt/conda/envs/Python36/lib/python3.6/site-packages (from requests<3.0,>=2.20.0->googlemaps) (2.8)\nRequirement already satisfied, skipping upgrade: chardet<3.1.0,>=3.0.2 in /opt/conda/envs/Python36/lib/python3.6/site-packages (from requests<3.0,>=2.20.0->googlemaps) (3.0.4)\nRequirement already satisfied, skipping upgrade: urllib3<1.25,>=1.21.1 in /opt/conda/envs/Python36/lib/python3.6/site-packages (from requests<3.0,>=2.20.0->googlemaps) (1.24.1)\nInstalling collected packages: googlemaps\nSuccessfully installed googlemaps-4.2.0\nCollecting folium\n\u001b[?25l  Downloading https://files.pythonhosted.org/packages/fd/a0/ccb3094026649cda4acd55bf2c3822bb8c277eb11446d13d384e5be35257/folium-0.10.1-py2.py3-none-any.whl (91kB)\n\u001b[K     |\u2588\u2588\u2588\u2588\u2588\u2588\u2588\u2588\u2588\u2588\u2588\u2588\u2588\u2588\u2588\u2588\u2588\u2588\u2588\u2588\u2588\u2588\u2588\u2588\u2588\u2588\u2588\u2588\u2588\u2588\u2588\u2588| 92kB 8.5MB/s eta 0:00:011\n\u001b[?25hRequirement already satisfied, skipping upgrade: numpy in /opt/conda/envs/Python36/lib/python3.6/site-packages (from folium) (1.15.4)\nCollecting branca>=0.3.0 (from folium)\n  Downloading https://files.pythonhosted.org/packages/81/6d/31c83485189a2521a75b4130f1fee5364f772a0375f81afff619004e5237/branca-0.4.0-py3-none-any.whl\nRequirement already satisfied, skipping upgrade: jinja2>=2.9 in /opt/conda/envs/Python36/lib/python3.6/site-packages (from folium) (2.10)\nRequirement already satisfied, skipping upgrade: requests in /opt/conda/envs/Python36/lib/python3.6/site-packages (from folium) (2.21.0)\nRequirement already satisfied, skipping upgrade: six in /opt/conda/envs/Python36/lib/python3.6/site-packages (from branca>=0.3.0->folium) (1.12.0)\nRequirement already satisfied, skipping upgrade: MarkupSafe>=0.23 in /opt/conda/envs/Python36/lib/python3.6/site-packages (from jinja2>=2.9->folium) (1.1.0)\nRequirement already satisfied, skipping upgrade: idna<2.9,>=2.5 in /opt/conda/envs/Python36/lib/python3.6/site-packages (from requests->folium) (2.8)\nRequirement already satisfied, skipping upgrade: chardet<3.1.0,>=3.0.2 in /opt/conda/envs/Python36/lib/python3.6/site-packages (from requests->folium) (3.0.4)\nRequirement already satisfied, skipping upgrade: urllib3<1.25,>=1.21.1 in /opt/conda/envs/Python36/lib/python3.6/site-packages (from requests->folium) (1.24.1)\nRequirement already satisfied, skipping upgrade: certifi>=2017.4.17 in /opt/conda/envs/Python36/lib/python3.6/site-packages (from requests->folium) (2019.11.28)\nInstalling collected packages: branca, folium\nSuccessfully installed branca-0.4.0 folium-0.10.1\n"
                }
            ],
            "source": "!pip install -U geocoder\n!pip install -U geopy\n!pip install -U googlemaps\n!pip install -U folium\n\nimport pandas as pd\nimport numpy as np\n\n#from bs4 import BeautifulSoup\n\nfrom pandas.io.json import json_normalize # tranform JSON file into a pandas dataframe\n\nimport googlemaps\nfrom datetime import datetime\n#from geopy.geocoders import GeoNames\n#from geopy.geocoders import GoogleV3\n#from geopy.geocoders import Nominatim\nimport requests\nimport geopy\ngeopy.geocoders.options.default_user_agent = \"my-application\"\n\nimport time\nimport folium"
        },
        {
            "cell_type": "code",
            "execution_count": 2,
            "metadata": {},
            "outputs": [],
            "source": "# The code was removed by Watson Studio for sharing."
        },
        {
            "cell_type": "code",
            "execution_count": 3,
            "metadata": {},
            "outputs": [
                {
                    "name": "stdout",
                    "output_type": "stream",
                    "text": "--2020-04-05 10:50:18--  https://www.ctt.pt/fecas/login?service=https%3A%2F%2Fwww.ctt.pt%2Ffemgu%2Fj_spring_cas_security_check.jspx\nResolving www.ctt.pt (www.ctt.pt)... 62.28.56.1\nConnecting to www.ctt.pt (www.ctt.pt)|62.28.56.1|:443... connected.\nHTTP request sent, awaiting response... 200 OK\nLength: 10936 (11K) [text/html]\nSaving to: \u2018login?service=https:%2F%2Fwww.ctt.pt%2Ffemgu%2Fj_spring_cas_security_check.jspx\u2019\n\n100%[======================================>] 10,936      --.-K/s   in 0.04s   \n\n2020-04-05 10:50:19 (238 KB/s) - \u2018login?service=https:%2F%2Fwww.ctt.pt%2Ffemgu%2Fj_spring_cas_security_check.jspx\u2019 saved [10936/10936]\n\n--2020-04-05 10:50:20--  https://www.ctt.pt/feapl_2/app/restricted/postalCodeSearch/postalCodeDownloadFiles!downloadPostalCodeFile.jspx\nResolving www.ctt.pt (www.ctt.pt)... 62.28.56.1\nConnecting to www.ctt.pt (www.ctt.pt)|62.28.56.1|:443... connected.\nHTTP request sent, awaiting response... 302 Found\nLocation: https://www.ctt.pt/fecas/login?service=https%3A%2F%2Fwww.ctt.pt%2Ffeapl_2%2Fj_spring_cas_security_check.jspx%3Bjsessionid%3D6MBpMN2KKSqGHRCYYn02FTbRO-O024pa4EeDEinX.application-server-six-55 [following]\n--2020-04-05 10:50:21--  https://www.ctt.pt/fecas/login?service=https%3A%2F%2Fwww.ctt.pt%2Ffeapl_2%2Fj_spring_cas_security_check.jspx%3Bjsessionid%3D6MBpMN2KKSqGHRCYYn02FTbRO-O024pa4EeDEinX.application-server-six-55\nReusing existing connection to www.ctt.pt:443.\nHTTP request sent, awaiting response... 200 OK\nLength: 9835 (9.6K) [text/html]\nSaving to: \u2018PostCodeFull.Pt.zip\u2019\n\n100%[======================================>] 9,835       --.-K/s   in 0.05s   \n\n2020-04-05 10:50:21 (213 KB/s) - \u2018PostCodeFull.Pt.zip\u2019 saved [9835/9835]\n\n"
                }
            ],
            "source": "!wget --cookies=on --save-cookies cookies.txt --keep-session-cookies --post-data 'user=EMAIL&password=PASSWORD' 'https://www.ctt.pt/fecas/login?service=https%3A%2F%2Fwww.ctt.pt%2Ffemgu%2Fj_spring_cas_security_check.jspx'\n!wget --cookies=on --load-cookies cookies.txt --keep-session-cookies 'https://www.ctt.pt/feapl_2/app/restricted/postalCodeSearch/postalCodeDownloadFiles!downloadPostalCodeFile.jspx' -O PostCodeFull.Pt.zip"
        },
        {
            "cell_type": "code",
            "execution_count": 4,
            "metadata": {},
            "outputs": [
                {
                    "name": "stdout",
                    "output_type": "stream",
                    "text": "total 24\r\ndrwxr-x--- 2 dsxuser dsxuser 4096 Apr  5 10:50 .\r\ndrwx------ 1 dsxuser dsxuser 4096 Apr  5 10:49 ..\r\n-rw-r----- 1 dsxuser dsxuser  201 Apr  5 10:50 cookies.txt\r\n-rw-r----- 1 dsxuser dsxuser 9835 Apr  5 10:50 PostCodeFull.Pt.zip\r\n"
                }
            ],
            "source": "!rm -f login*\n!ls -la"
        },
        {
            "cell_type": "code",
            "execution_count": 22,
            "metadata": {},
            "outputs": [],
            "source": "#!unzip -x todos_cp.zip"
        },
        {
            "cell_type": "code",
            "execution_count": 23,
            "metadata": {},
            "outputs": [
                {
                    "name": "stdout",
                    "output_type": "stream",
                    "text": "# HTTP cookie file.\r\n# Generated by Wget on 2020-04-05 10:50:19.\r\n# Edit at your own risk.\r\n\r\nwww.ctt.pt\tFALSE\t/fecas\tFALSE\t0\tJSESSIONID\tRMWZMEYQ1za4KX7eEOUNuy_hr1n622FP6Rymf_n1.application-server-four-55\r\n"
                }
            ],
            "source": "!cat cookies.txt"
        },
        {
            "cell_type": "code",
            "execution_count": 24,
            "metadata": {},
            "outputs": [],
            "source": "# The code was removed by Watson Studio for sharing."
        },
        {
            "cell_type": "code",
            "execution_count": 25,
            "metadata": {},
            "outputs": [],
            "source": "from ibm_botocore.client import Config\nimport ibm_boto3\ncos = ibm_boto3.client(service_name='s3',\n    ibm_api_key_id=credentials['IBM_API_KEY_ID'],\n    ibm_service_instance_id=credentials['IAM_SERVICE_ID'],\n    ibm_auth_endpoint=credentials['IBM_AUTH_ENDPOINT'],\n    config=Config(signature_version='oauth'),\n    endpoint_url=credentials['ENDPOINT'])"
        },
        {
            "cell_type": "code",
            "execution_count": 26,
            "metadata": {},
            "outputs": [],
            "source": "from ibm_botocore.client import Config\nimport ibm_boto3\ndef download_file_cos(credentials,local_file_name,key):  \n    cos = ibm_boto3.client(service_name='s3',\n    ibm_api_key_id=credentials['IBM_API_KEY_ID'],\n    ibm_service_instance_id=credentials['IAM_SERVICE_ID'],\n    ibm_auth_endpoint=credentials['IBM_AUTH_ENDPOINT'],\n    config=Config(signature_version='oauth'),\n    endpoint_url=credentials['ENDPOINT'])\n    try:\n        res=cos.download_file(Bucket=credentials['BUCKET'],Key=key,Filename=local_file_name)\n    except Exception as e:\n        print(Exception, e)\n    else:\n        print('File Downloaded')"
        },
        {
            "cell_type": "code",
            "execution_count": 27,
            "metadata": {},
            "outputs": [
                {
                    "name": "stdout",
                    "output_type": "stream",
                    "text": "File Downloaded\nFile Downloaded\nFile Downloaded\n"
                }
            ],
            "source": "download_file_cos(credentials,'concelhos.txt','concelhos.txt')\ndownload_file_cos(credentials,'distritos.txt','distritos.txt')\ndownload_file_cos(credentials,'todos_cp.txt','todos_cp.txt')"
        },
        {
            "cell_type": "code",
            "execution_count": 28,
            "metadata": {},
            "outputs": [
                {
                    "name": "stdout",
                    "output_type": "stream",
                    "text": "total 26216\r\ndrwxr-x--- 2 dsxuser dsxuser     4096 Apr  5 10:51 .\r\ndrwx------ 1 dsxuser dsxuser     4096 Apr  5 10:49 ..\r\n-rw-r----- 1 dsxuser dsxuser     5703 Apr  5 10:51 concelhos.txt\r\n-rw-r----- 1 dsxuser dsxuser      201 Apr  5 10:50 cookies.txt\r\n-rw-r----- 1 dsxuser dsxuser      456 Apr  5 10:51 distritos.txt\r\n-rw-r----- 1 dsxuser dsxuser     9835 Apr  5 10:50 PostCodeFull.Pt.zip\r\n-rw-r----- 1 dsxuser dsxuser 26807486 Apr  5 10:51 todos_cp.txt\r\n"
                }
            ],
            "source": "!ls -la"
        },
        {
            "cell_type": "code",
            "execution_count": 29,
            "metadata": {},
            "outputs": [
                {
                    "data": {
                        "text/html": "<div>\n<style scoped>\n    .dataframe tbody tr th:only-of-type {\n        vertical-align: middle;\n    }\n\n    .dataframe tbody tr th {\n        vertical-align: top;\n    }\n\n    .dataframe thead th {\n        text-align: right;\n    }\n</style>\n<table border=\"1\" class=\"dataframe\">\n  <thead>\n    <tr style=\"text-align: right;\">\n      <th></th>\n      <th>DD</th>\n      <th>DESIG</th>\n    </tr>\n  </thead>\n  <tbody>\n    <tr>\n      <th>0</th>\n      <td>1</td>\n      <td>Aveiro</td>\n    </tr>\n    <tr>\n      <th>1</th>\n      <td>2</td>\n      <td>Beja</td>\n    </tr>\n    <tr>\n      <th>2</th>\n      <td>3</td>\n      <td>Braga</td>\n    </tr>\n    <tr>\n      <th>3</th>\n      <td>4</td>\n      <td>Bragan\u00e7a</td>\n    </tr>\n    <tr>\n      <th>4</th>\n      <td>5</td>\n      <td>Castelo Branco</td>\n    </tr>\n    <tr>\n      <th>5</th>\n      <td>6</td>\n      <td>Coimbra</td>\n    </tr>\n    <tr>\n      <th>6</th>\n      <td>7</td>\n      <td>\u00c9vora</td>\n    </tr>\n    <tr>\n      <th>7</th>\n      <td>8</td>\n      <td>Faro</td>\n    </tr>\n    <tr>\n      <th>8</th>\n      <td>9</td>\n      <td>Guarda</td>\n    </tr>\n    <tr>\n      <th>9</th>\n      <td>10</td>\n      <td>Leiria</td>\n    </tr>\n    <tr>\n      <th>10</th>\n      <td>11</td>\n      <td>Lisboa</td>\n    </tr>\n    <tr>\n      <th>11</th>\n      <td>12</td>\n      <td>Portalegre</td>\n    </tr>\n    <tr>\n      <th>12</th>\n      <td>13</td>\n      <td>Porto</td>\n    </tr>\n    <tr>\n      <th>13</th>\n      <td>14</td>\n      <td>Santar\u00e9m</td>\n    </tr>\n    <tr>\n      <th>14</th>\n      <td>15</td>\n      <td>Set\u00fabal</td>\n    </tr>\n    <tr>\n      <th>15</th>\n      <td>16</td>\n      <td>Viana do Castelo</td>\n    </tr>\n    <tr>\n      <th>16</th>\n      <td>17</td>\n      <td>Vila Real</td>\n    </tr>\n    <tr>\n      <th>17</th>\n      <td>18</td>\n      <td>Viseu</td>\n    </tr>\n    <tr>\n      <th>18</th>\n      <td>31</td>\n      <td>Ilha da Madeira</td>\n    </tr>\n    <tr>\n      <th>19</th>\n      <td>32</td>\n      <td>Ilha de Porto Santo</td>\n    </tr>\n    <tr>\n      <th>20</th>\n      <td>41</td>\n      <td>Ilha de Santa Maria</td>\n    </tr>\n    <tr>\n      <th>21</th>\n      <td>42</td>\n      <td>Ilha de S\u00e3o Miguel</td>\n    </tr>\n    <tr>\n      <th>22</th>\n      <td>43</td>\n      <td>Ilha Terceira</td>\n    </tr>\n    <tr>\n      <th>23</th>\n      <td>44</td>\n      <td>Ilha da Graciosa</td>\n    </tr>\n    <tr>\n      <th>24</th>\n      <td>45</td>\n      <td>Ilha de S\u00e3o Jorge</td>\n    </tr>\n    <tr>\n      <th>25</th>\n      <td>46</td>\n      <td>Ilha do Pico</td>\n    </tr>\n    <tr>\n      <th>26</th>\n      <td>47</td>\n      <td>Ilha do Faial</td>\n    </tr>\n    <tr>\n      <th>27</th>\n      <td>48</td>\n      <td>Ilha das Flores</td>\n    </tr>\n    <tr>\n      <th>28</th>\n      <td>49</td>\n      <td>Ilha do Corvo</td>\n    </tr>\n  </tbody>\n</table>\n</div>",
                        "text/plain": "    DD                DESIG\n0    1               Aveiro\n1    2                 Beja\n2    3                Braga\n3    4             Bragan\u00e7a\n4    5       Castelo Branco\n5    6              Coimbra\n6    7                \u00c9vora\n7    8                 Faro\n8    9               Guarda\n9   10               Leiria\n10  11               Lisboa\n11  12           Portalegre\n12  13                Porto\n13  14             Santar\u00e9m\n14  15              Set\u00fabal\n15  16     Viana do Castelo\n16  17            Vila Real\n17  18                Viseu\n18  31      Ilha da Madeira\n19  32  Ilha de Porto Santo\n20  41  Ilha de Santa Maria\n21  42   Ilha de S\u00e3o Miguel\n22  43        Ilha Terceira\n23  44     Ilha da Graciosa\n24  45    Ilha de S\u00e3o Jorge\n25  46         Ilha do Pico\n26  47        Ilha do Faial\n27  48      Ilha das Flores\n28  49        Ilha do Corvo"
                    },
                    "execution_count": 29,
                    "metadata": {},
                    "output_type": "execute_result"
                }
            ],
            "source": "df_DD=pd.read_csv('distritos.txt',sep=';',encoding='iso8859_15')\ndf_DD"
        },
        {
            "cell_type": "code",
            "execution_count": 30,
            "metadata": {},
            "outputs": [
                {
                    "data": {
                        "text/html": "<div>\n<style scoped>\n    .dataframe tbody tr th:only-of-type {\n        vertical-align: middle;\n    }\n\n    .dataframe tbody tr th {\n        vertical-align: top;\n    }\n\n    .dataframe thead th {\n        text-align: right;\n    }\n</style>\n<table border=\"1\" class=\"dataframe\">\n  <thead>\n    <tr style=\"text-align: right;\">\n      <th></th>\n      <th>DD</th>\n      <th>CC</th>\n      <th>DESIG</th>\n    </tr>\n  </thead>\n  <tbody>\n    <tr>\n      <th>101</th>\n      <td>8</td>\n      <td>6</td>\n      <td>Lagoa (Algarve)</td>\n    </tr>\n    <tr>\n      <th>102</th>\n      <td>8</td>\n      <td>7</td>\n      <td>Lagos</td>\n    </tr>\n    <tr>\n      <th>103</th>\n      <td>8</td>\n      <td>8</td>\n      <td>Loul\u00e9</td>\n    </tr>\n    <tr>\n      <th>104</th>\n      <td>8</td>\n      <td>9</td>\n      <td>Monchique</td>\n    </tr>\n    <tr>\n      <th>105</th>\n      <td>8</td>\n      <td>10</td>\n      <td>Olh\u00e3o</td>\n    </tr>\n    <tr>\n      <th>106</th>\n      <td>8</td>\n      <td>11</td>\n      <td>Portim\u00e3o</td>\n    </tr>\n    <tr>\n      <th>107</th>\n      <td>8</td>\n      <td>12</td>\n      <td>S\u00e3o Br\u00e1s de Alportel</td>\n    </tr>\n    <tr>\n      <th>108</th>\n      <td>8</td>\n      <td>13</td>\n      <td>Silves</td>\n    </tr>\n    <tr>\n      <th>109</th>\n      <td>8</td>\n      <td>14</td>\n      <td>Tavira</td>\n    </tr>\n    <tr>\n      <th>110</th>\n      <td>8</td>\n      <td>15</td>\n      <td>Vila do Bispo</td>\n    </tr>\n    <tr>\n      <th>111</th>\n      <td>8</td>\n      <td>16</td>\n      <td>Vila Real de Santo Ant\u00f3nio</td>\n    </tr>\n    <tr>\n      <th>112</th>\n      <td>8</td>\n      <td>1</td>\n      <td>Albufeira</td>\n    </tr>\n    <tr>\n      <th>113</th>\n      <td>8</td>\n      <td>2</td>\n      <td>Alcoutim</td>\n    </tr>\n    <tr>\n      <th>114</th>\n      <td>8</td>\n      <td>3</td>\n      <td>Aljezur</td>\n    </tr>\n    <tr>\n      <th>115</th>\n      <td>8</td>\n      <td>4</td>\n      <td>Castro Marim</td>\n    </tr>\n    <tr>\n      <th>116</th>\n      <td>8</td>\n      <td>5</td>\n      <td>Faro</td>\n    </tr>\n  </tbody>\n</table>\n</div>",
                        "text/plain": "     DD  CC                       DESIG\n101   8   6             Lagoa (Algarve)\n102   8   7                       Lagos\n103   8   8                       Loul\u00e9\n104   8   9                   Monchique\n105   8  10                       Olh\u00e3o\n106   8  11                    Portim\u00e3o\n107   8  12        S\u00e3o Br\u00e1s de Alportel\n108   8  13                      Silves\n109   8  14                      Tavira\n110   8  15               Vila do Bispo\n111   8  16  Vila Real de Santo Ant\u00f3nio\n112   8   1                   Albufeira\n113   8   2                    Alcoutim\n114   8   3                     Aljezur\n115   8   4                Castro Marim\n116   8   5                        Faro"
                    },
                    "execution_count": 30,
                    "metadata": {},
                    "output_type": "execute_result"
                }
            ],
            "source": "df_CC=pd.read_csv('concelhos.txt',sep=';',encoding='iso8859_15')\ndf_CC=df_CC[df_CC['DD']==8]\ndf_CC"
        },
        {
            "cell_type": "code",
            "execution_count": 31,
            "metadata": {},
            "outputs": [
                {
                    "data": {
                        "text/plain": "(326077, 17)"
                    },
                    "execution_count": 31,
                    "metadata": {},
                    "output_type": "execute_result"
                }
            ],
            "source": "#columns_1={'DD','CC','LLLL','LOCALIDADE','ART_COD','ART_TIPO','PRI_PREP','ART_TITULO','SEG_PREP','ART_DESIG','ART_LOCAL','TRO\u00c7O','PORTA','CLIENTE','CP4','CP3','CPALF'}\ndf_PostalCode=pd.read_csv('todos_cp.txt',sep=';',encoding='iso8859_15')\n#df_PostalCode=pd.read_csv('todos_cp.txt',sep=';',encoding='latin-1',header=None,names=columns_1,usecols=columns_1)[columns_1]\ndf_PostalCode.shape"
        },
        {
            "cell_type": "code",
            "execution_count": 32,
            "metadata": {},
            "outputs": [
                {
                    "data": {
                        "text/html": "<div>\n<style scoped>\n    .dataframe tbody tr th:only-of-type {\n        vertical-align: middle;\n    }\n\n    .dataframe tbody tr th {\n        vertical-align: top;\n    }\n\n    .dataframe thead th {\n        text-align: right;\n    }\n</style>\n<table border=\"1\" class=\"dataframe\">\n  <thead>\n    <tr style=\"text-align: right;\">\n      <th></th>\n      <th>DD</th>\n      <th>CC</th>\n      <th>LLLL</th>\n      <th>LOCALIDADE</th>\n      <th>ART_COD</th>\n      <th>ART_TIPO</th>\n      <th>PRI_PREP</th>\n      <th>ART_TITULO</th>\n      <th>SEG_PREP</th>\n      <th>ART_DESIG</th>\n      <th>ART_LOCAL</th>\n      <th>TRO\u00c7O</th>\n      <th>PORTA</th>\n      <th>CLIENTE</th>\n      <th>CP4</th>\n      <th>CP3</th>\n      <th>CPALF</th>\n    </tr>\n  </thead>\n  <tbody>\n    <tr>\n      <th>95121</th>\n      <td>8</td>\n      <td>7</td>\n      <td>20818</td>\n      <td>Lagos</td>\n      <td>1.043661e+08</td>\n      <td>Rua</td>\n      <td>NaN</td>\n      <td>NaN</td>\n      <td>NaN</td>\n      <td>Manuel Vicente</td>\n      <td>Sarga\u00e7al</td>\n      <td>NaN</td>\n      <td>NaN</td>\n      <td>NaN</td>\n      <td>8600</td>\n      <td>325</td>\n      <td>LAGOS</td>\n    </tr>\n    <tr>\n      <th>95122</th>\n      <td>8</td>\n      <td>7</td>\n      <td>20818</td>\n      <td>Lagos</td>\n      <td>1.048971e+08</td>\n      <td>Travessa</td>\n      <td>NaN</td>\n      <td>Infante</td>\n      <td>NaN</td>\n      <td>Santo</td>\n      <td>NaN</td>\n      <td>NaN</td>\n      <td>NaN</td>\n      <td>NaN</td>\n      <td>8600</td>\n      <td>334</td>\n      <td>LAGOS</td>\n    </tr>\n    <tr>\n      <th>95123</th>\n      <td>8</td>\n      <td>7</td>\n      <td>20818</td>\n      <td>Lagos</td>\n      <td>1.048981e+08</td>\n      <td>Avenida</td>\n      <td>NaN</td>\n      <td>Infante</td>\n      <td>NaN</td>\n      <td>Santo</td>\n      <td>NaN</td>\n      <td>NaN</td>\n      <td>NaN</td>\n      <td>NaN</td>\n      <td>8600</td>\n      <td>290</td>\n      <td>LAGOS</td>\n    </tr>\n    <tr>\n      <th>95124</th>\n      <td>8</td>\n      <td>7</td>\n      <td>20818</td>\n      <td>Lagos</td>\n      <td>1.059060e+09</td>\n      <td>Beco</td>\n      <td>das</td>\n      <td>NaN</td>\n      <td>NaN</td>\n      <td>Escadinhas</td>\n      <td>Telheiro</td>\n      <td>NaN</td>\n      <td>NaN</td>\n      <td>NaN</td>\n      <td>8600</td>\n      <td>327</td>\n      <td>LAGOS</td>\n    </tr>\n    <tr>\n      <th>95125</th>\n      <td>8</td>\n      <td>7</td>\n      <td>20818</td>\n      <td>Lagos</td>\n      <td>1.059070e+09</td>\n      <td>Beco</td>\n      <td>dos</td>\n      <td>NaN</td>\n      <td>NaN</td>\n      <td>Barros</td>\n      <td>Telheiro</td>\n      <td>NaN</td>\n      <td>NaN</td>\n      <td>NaN</td>\n      <td>8600</td>\n      <td>327</td>\n      <td>LAGOS</td>\n    </tr>\n  </tbody>\n</table>\n</div>",
                        "text/plain": "       DD  CC   LLLL LOCALIDADE       ART_COD  ART_TIPO PRI_PREP ART_TITULO  \\\n95121   8   7  20818      Lagos  1.043661e+08       Rua      NaN        NaN   \n95122   8   7  20818      Lagos  1.048971e+08  Travessa      NaN    Infante   \n95123   8   7  20818      Lagos  1.048981e+08   Avenida      NaN    Infante   \n95124   8   7  20818      Lagos  1.059060e+09      Beco      das        NaN   \n95125   8   7  20818      Lagos  1.059070e+09      Beco      dos        NaN   \n\n      SEG_PREP       ART_DESIG ART_LOCAL TRO\u00c7O PORTA CLIENTE   CP4  CP3  CPALF  \n95121      NaN  Manuel Vicente  Sarga\u00e7al   NaN   NaN     NaN  8600  325  LAGOS  \n95122      NaN           Santo       NaN   NaN   NaN     NaN  8600  334  LAGOS  \n95123      NaN           Santo       NaN   NaN   NaN     NaN  8600  290  LAGOS  \n95124      NaN      Escadinhas  Telheiro   NaN   NaN     NaN  8600  327  LAGOS  \n95125      NaN          Barros  Telheiro   NaN   NaN     NaN  8600  327  LAGOS  "
                    },
                    "execution_count": 32,
                    "metadata": {},
                    "output_type": "execute_result"
                }
            ],
            "source": "df_PostalCode[df_PostalCode['CPALF']=='LAGOS'].head()"
        },
        {
            "cell_type": "code",
            "execution_count": 33,
            "metadata": {},
            "outputs": [
                {
                    "data": {
                        "text/html": "<div>\n<style scoped>\n    .dataframe tbody tr th:only-of-type {\n        vertical-align: middle;\n    }\n\n    .dataframe tbody tr th {\n        vertical-align: top;\n    }\n\n    .dataframe thead th {\n        text-align: right;\n    }\n</style>\n<table border=\"1\" class=\"dataframe\">\n  <thead>\n    <tr style=\"text-align: right;\">\n      <th></th>\n      <th>DD</th>\n      <th>CC</th>\n      <th>LLLL</th>\n      <th>LOCALIDADE</th>\n      <th>CP4</th>\n      <th>CP3</th>\n      <th>CPALF</th>\n    </tr>\n  </thead>\n  <tbody>\n    <tr>\n      <th>0</th>\n      <td>1</td>\n      <td>1</td>\n      <td>249</td>\n      <td>Alcafaz</td>\n      <td>3750</td>\n      <td>11</td>\n      <td>AGAD\u00c3O</td>\n    </tr>\n    <tr>\n      <th>1</th>\n      <td>1</td>\n      <td>1</td>\n      <td>250</td>\n      <td>Caselho</td>\n      <td>3750</td>\n      <td>12</td>\n      <td>AGAD\u00c3O</td>\n    </tr>\n    <tr>\n      <th>2</th>\n      <td>1</td>\n      <td>1</td>\n      <td>251</td>\n      <td>Corga da Serra</td>\n      <td>3750</td>\n      <td>13</td>\n      <td>AGAD\u00c3O</td>\n    </tr>\n    <tr>\n      <th>3</th>\n      <td>1</td>\n      <td>1</td>\n      <td>252</td>\n      <td>Foz</td>\n      <td>3750</td>\n      <td>14</td>\n      <td>AGAD\u00c3O</td>\n    </tr>\n    <tr>\n      <th>4</th>\n      <td>1</td>\n      <td>1</td>\n      <td>253</td>\n      <td>Guistola</td>\n      <td>3750</td>\n      <td>15</td>\n      <td>AGAD\u00c3O</td>\n    </tr>\n  </tbody>\n</table>\n</div>",
                        "text/plain": "   DD  CC  LLLL      LOCALIDADE   CP4  CP3   CPALF\n0   1   1   249         Alcafaz  3750   11  AGAD\u00c3O\n1   1   1   250         Caselho  3750   12  AGAD\u00c3O\n2   1   1   251  Corga da Serra  3750   13  AGAD\u00c3O\n3   1   1   252             Foz  3750   14  AGAD\u00c3O\n4   1   1   253        Guistola  3750   15  AGAD\u00c3O"
                    },
                    "execution_count": 33,
                    "metadata": {},
                    "output_type": "execute_result"
                }
            ],
            "source": "df_PostalCode=df_PostalCode[['DD','CC','LLLL','LOCALIDADE','CP4','CP3','CPALF']]\ndf_PostalCode.head()"
        },
        {
            "cell_type": "code",
            "execution_count": 34,
            "metadata": {},
            "outputs": [
                {
                    "data": {
                        "text/html": "<div>\n<style scoped>\n    .dataframe tbody tr th:only-of-type {\n        vertical-align: middle;\n    }\n\n    .dataframe tbody tr th {\n        vertical-align: top;\n    }\n\n    .dataframe thead th {\n        text-align: right;\n    }\n</style>\n<table border=\"1\" class=\"dataframe\">\n  <thead>\n    <tr style=\"text-align: right;\">\n      <th></th>\n      <th>CPALF</th>\n    </tr>\n  </thead>\n  <tbody>\n    <tr>\n      <th>0</th>\n      <td>ALBUFEIRA</td>\n    </tr>\n    <tr>\n      <th>1</th>\n      <td>ALCANTARILHA</td>\n    </tr>\n    <tr>\n      <th>2</th>\n      <td>ALCOUTIM</td>\n    </tr>\n    <tr>\n      <th>3</th>\n      <td>ALFERCE</td>\n    </tr>\n    <tr>\n      <th>4</th>\n      <td>ALGOZ</td>\n    </tr>\n  </tbody>\n</table>\n</div>",
                        "text/plain": "          CPALF\n0     ALBUFEIRA\n1  ALCANTARILHA\n2      ALCOUTIM\n3       ALFERCE\n4         ALGOZ"
                    },
                    "execution_count": 34,
                    "metadata": {},
                    "output_type": "execute_result"
                }
            ],
            "source": "#new_df=pd.DataFrame(df_PostalCode[df_PostalCode['DD']==8].groupby(['CPALF','CP4'])['CP3'].count())\n#new_df=new_df.reset_index()[['CPALF','CP4']]\n#new_df.head()\n\nnew_df=pd.DataFrame(df_PostalCode[df_PostalCode['DD']==8].groupby(['CPALF'])['CP4'].count())\nnew_df=new_df.reset_index()[['CPALF']]\nnew_df.head()"
        },
        {
            "cell_type": "code",
            "execution_count": 35,
            "metadata": {},
            "outputs": [
                {
                    "data": {
                        "text/plain": "73"
                    },
                    "execution_count": 35,
                    "metadata": {},
                    "output_type": "execute_result"
                }
            ],
            "source": "new_df.size"
        },
        {
            "cell_type": "code",
            "execution_count": 39,
            "metadata": {},
            "outputs": [],
            "source": "#new_df[['CPALF','CP4']]"
        },
        {
            "cell_type": "code",
            "execution_count": 40,
            "metadata": {},
            "outputs": [],
            "source": "# The code was removed by Watson Studio for sharing."
        },
        {
            "cell_type": "code",
            "execution_count": 60,
            "metadata": {},
            "outputs": [
                {
                    "name": "stdout",
                    "output_type": "stream",
                    "text": "[{'address_components': [{'long_name': 'Silves', 'short_name': 'Silves', 'types': ['locality', 'political']}, {'long_name': 'Faro District', 'short_name': 'Faro District', 'types': ['administrative_area_level_1', 'political']}, {'long_name': 'Portugal', 'short_name': 'PT', 'types': ['country', 'political']}], 'formatted_address': 'Silves, Portugal', 'geometry': {'bounds': {'northeast': {'lat': 37.305631, 'lng': -8.348163699999999}, 'southwest': {'lat': 37.1426028, 'lng': -8.535469299999999}}, 'location': {'lat': 37.1889987, 'lng': -8.441207799999999}, 'location_type': 'APPROXIMATE', 'viewport': {'northeast': {'lat': 37.305631, 'lng': -8.348163699999999}, 'southwest': {'lat': 37.1426028, 'lng': -8.535469299999999}}}, 'place_id': 'ChIJR7dMc_LZGg0RpqURX5Mg4s4', 'types': ['locality', 'political']}]\n37.1889987\n-8.441207799999999\n<class 'pandas.core.frame.DataFrame'>\n"
                }
            ],
            "source": "gmaps = googlemaps.Client(key=GOOGLE_MAPS_API_KEY)\naddress='Silves, Algarve, Portugal'\n#address='Silves, Algarve, 8300, Portugal'\n#location = gmaps.geocode(components={\"city\": \"Silves\", \"country\": \"PT\"})\n#location = gmaps.geocode(components={\"city\": \"Silves\", \"country\": \"PT\", \"postal_code\": \"8300\"})\nlocation = gmaps.geocode(address)\nprint(location)\nresult=json_normalize(location)\nprint(result['geometry.location.lat'][0])\nprint(result['geometry.location.lng'][0])\nprint(type(result))\n#dir(location)\n#latitude = location.latitude\n#print(latitude)\n#longitude = location.longitude\n#print(longitude)"
        },
        {
            "cell_type": "code",
            "execution_count": null,
            "metadata": {},
            "outputs": [],
            "source": ""
        },
        {
            "cell_type": "code",
            "execution_count": null,
            "metadata": {},
            "outputs": [],
            "source": ""
        },
        {
            "cell_type": "code",
            "execution_count": null,
            "metadata": {},
            "outputs": [],
            "source": ""
        },
        {
            "cell_type": "code",
            "execution_count": null,
            "metadata": {},
            "outputs": [],
            "source": ""
        },
        {
            "cell_type": "code",
            "execution_count": 57,
            "metadata": {
                "collapsed": true
            },
            "outputs": [
                {
                    "name": "stdout",
                    "output_type": "stream",
                    "text": "ALBUFEIRA, Algarve, Portugal\nALCANTARILHA, Algarve, Portugal\nALCOUTIM, Algarve, Portugal\nALFERCE, Algarve, Portugal\nALGOZ, Algarve, Portugal\nALJEZUR, Algarve, Portugal\nALMANCIL, Algarve, Portugal\nALTE, Algarve, Portugal\nALTURA, Algarve, Portugal\nALVOR, Algarve, Portugal\nAMEIXIAL, Algarve, Portugal\nARMA\u00c7\u00c3O DE P\u00caRA, Algarve, Portugal\nAZINHAL CTM, Algarve, Portugal\nBAR\u00c3O DE S\u00c3O JO\u00c3O, Algarve, Portugal\nBAR\u00c3O DE S\u00c3O MIGUEL, Algarve, Portugal\nBENAFIM, Algarve, Portugal\nBENSAFRIM, Algarve, Portugal\nBOLIQUEIME, Algarve, Portugal\nBORDEIRA, Algarve, Portugal\nBUDENS, Algarve, Portugal\nCABANAS DE TAVIRA, Algarve, Portugal\nCACHOPO, Algarve, Portugal\nCARVOEIRO LGA, Algarve, Portugal\nCASTRO MARIM, Algarve, Portugal\nCONCEI\u00c7\u00c3O TVR, Algarve, Portugal\nESTOMBAR, Algarve, Portugal\nFARO, Algarve, Portugal\nFERRAGUDO, Algarve, Portugal\nFERREIRAS, Algarve, Portugal\nFUSETA, Algarve, Portugal\nGI\u00d5ES, Algarve, Portugal\nGUIA ABF, Algarve, Portugal\nLAGOA, Algarve, Portugal\nLAGOS, Algarve, Portugal\nLOUL\u00c9, Algarve, Portugal\nLUZ LGS, Algarve, Portugal\nLUZ TVR, Algarve, Portugal\nMARMELETE, Algarve, Portugal\nMARTIM LONGO, Algarve, Portugal\nMEXILHOEIRA GRANDE, Algarve, Portugal\nMONCARAPACHO, Algarve, Portugal\nMONCHIQUE, Algarve, Portugal\nMONTE GORDO, Algarve, Portugal\nODECEIXE, Algarve, Portugal\nODELEITE, Algarve, Portugal\nODI\u00c1XERE, Algarve, Portugal\nOLH\u00c3O, Algarve, Portugal\nPADERNE ABF, Algarve, Portugal\nPARCHAL, Algarve, Portugal\nPEREIRO ACT, Algarve, Portugal\nPORCHES, Algarve, Portugal\nPORTIM\u00c3O, Algarve, Portugal\nP\u00caRA, Algarve, Portugal\nQUARTEIRA, Algarve, Portugal\nQUEREN\u00c7A, Algarve, Portugal\nRAPOSEIRA, Algarve, Portugal\nROGIL, Algarve, Portugal\nS BARTOLOMEU DE MESSINES, Algarve, Portugal\nSAGRES, Algarve, Portugal\nSALIR, Algarve, Portugal\nSANTA LUZIA TVR, Algarve, Portugal\nSANTO ESTEV\u00c3O TVR, Algarve, Portugal\nSILVES, Algarve, Portugal\nSTA CATARINA FONTE BISPO, Algarve, Portugal\nS\u00c3O BR\u00c1S DE ALPORTEL, Algarve, Portugal\nS\u00c3O MARCOS DA SERRA, Algarve, Portugal\nTAVIRA, Algarve, Portugal\nTUNES, Algarve, Portugal\nT\u00d4R, Algarve, Portugal\nVAQUEIROS ACT, Algarve, Portugal\nVILA DO BISPO, Algarve, Portugal\nVILA NOVA DE CACELA, Algarve, Portugal\nVILA REAL SANTO ANT\u00d3NIO, Algarve, Portugal\n"
                }
            ],
            "source": "for ind in new_df.index:\n    address='{}, Algarve, Portugal'.format(new_df['CPALF'][ind])\n    print(address)"
        },
        {
            "cell_type": "code",
            "execution_count": 61,
            "metadata": {
                "collapsed": true
            },
            "outputs": [
                {
                    "ename": "TypeError",
                    "evalue": "'numpy.int64' object is not callable",
                    "output_type": "error",
                    "traceback": [
                        "\u001b[0;31m---------------------------------------------------------------------------\u001b[0m",
                        "\u001b[0;31mTypeError\u001b[0m                                 Traceback (most recent call last)",
                        "\u001b[0;32m<ipython-input-61-305718a3cded>\u001b[0m in \u001b[0;36m<module>\u001b[0;34m\u001b[0m\n\u001b[1;32m     26\u001b[0m \u001b[0;31m#    all_locations.append(json_normalize(location))\u001b[0m\u001b[0;34m\u001b[0m\u001b[0;34m\u001b[0m\u001b[0;34m\u001b[0m\u001b[0m\n\u001b[1;32m     27\u001b[0m \u001b[0;31m#print(len(all_locations))\u001b[0m\u001b[0;34m\u001b[0m\u001b[0;34m\u001b[0m\u001b[0;34m\u001b[0m\u001b[0m\n\u001b[0;32m---> 28\u001b[0;31m \u001b[0mprint\u001b[0m\u001b[0;34m(\u001b[0m\u001b[0mall_locations\u001b[0m\u001b[0;34m.\u001b[0m\u001b[0msize\u001b[0m\u001b[0;34m(\u001b[0m\u001b[0;34m)\u001b[0m\u001b[0;34m)\u001b[0m\u001b[0;34m\u001b[0m\u001b[0;34m\u001b[0m\u001b[0m\n\u001b[0m",
                        "\u001b[0;31mTypeError\u001b[0m: 'numpy.int64' object is not callable"
                    ]
                }
            ],
            "source": "all_locations=pd.DataFrame()\nfor ind in new_df.index:\n    address='{}, Algarve, Portugal'.format(new_df['CPALF'][ind])\n    try:\n        gmaps = googlemaps.Client(key=GOOGLE_MAPS_API_KEY)\n        location = gmaps.geocode(address)\n    except geopy.exc.GeocoderUnavailable:\n        print('GeocoderUnavailable')\n        print(name)\n    except urllib.error.URLError:\n        print('URLError')\n        print(name)\n    except OSError:\n        print('OSError')\n        print(name)\n\n\n    if all_locations.empty:\n        all_locations=pd.DataFrame(json_normalize(location))\n    else:\n        all_locations=all_locations.append(json_normalize(location),sort=False)\n\n#        print(json_normalize(location))\n#    print(type(json_normalize(location)))\n#    if not location.empty():\n#    all_locations.append(json_normalize(location))\n#print(len(all_locations))\nprint(all_locations.shape)"
        },
        {
            "cell_type": "code",
            "execution_count": 128,
            "metadata": {},
            "outputs": [
                {
                    "data": {
                        "text/html": "<div>\n<style scoped>\n    .dataframe tbody tr th:only-of-type {\n        vertical-align: middle;\n    }\n\n    .dataframe tbody tr th {\n        vertical-align: top;\n    }\n\n    .dataframe thead th {\n        text-align: right;\n    }\n</style>\n<table border=\"1\" class=\"dataframe\">\n  <thead>\n    <tr style=\"text-align: right;\">\n      <th></th>\n      <th>index</th>\n      <th>address_components</th>\n      <th>formatted_address</th>\n      <th>geometry.bounds.northeast.lat</th>\n      <th>geometry.bounds.northeast.lng</th>\n      <th>geometry.bounds.southwest.lat</th>\n      <th>geometry.bounds.southwest.lng</th>\n      <th>geometry.location.lat</th>\n      <th>geometry.location.lng</th>\n      <th>geometry.location_type</th>\n      <th>geometry.viewport.northeast.lat</th>\n      <th>geometry.viewport.northeast.lng</th>\n      <th>geometry.viewport.southwest.lat</th>\n      <th>geometry.viewport.southwest.lng</th>\n      <th>place_id</th>\n      <th>types</th>\n      <th>partial_match</th>\n      <th>plus_code.compound_code</th>\n      <th>plus_code.global_code</th>\n    </tr>\n  </thead>\n  <tbody>\n    <tr>\n      <th>0</th>\n      <td>0</td>\n      <td>[{'long_name': 'Albufeira', 'short_name': 'Alb...</td>\n      <td>8200 Albufeira, Portugal</td>\n      <td>37.152455</td>\n      <td>-8.126932</td>\n      <td>37.071823</td>\n      <td>-8.309044</td>\n      <td>37.089072</td>\n      <td>-8.247880</td>\n      <td>APPROXIMATE</td>\n      <td>37.152455</td>\n      <td>-8.126932</td>\n      <td>37.071823</td>\n      <td>-8.309044</td>\n      <td>ChIJH8TdOK7OGg0RRRBEYqXnIu0</td>\n      <td>[locality, political]</td>\n      <td>NaN</td>\n      <td>NaN</td>\n      <td>NaN</td>\n    </tr>\n    <tr>\n      <th>1</th>\n      <td>0</td>\n      <td>[{'long_name': 'Alcantarilha', 'short_name': '...</td>\n      <td>8365 Alcantarilha, Portugal</td>\n      <td>37.204227</td>\n      <td>-8.325176</td>\n      <td>37.116170</td>\n      <td>-8.385164</td>\n      <td>37.130970</td>\n      <td>-8.348275</td>\n      <td>APPROXIMATE</td>\n      <td>37.204227</td>\n      <td>-8.325176</td>\n      <td>37.116170</td>\n      <td>-8.385164</td>\n      <td>ChIJy5Vg7azRGg0RjUqp4uJvkck</td>\n      <td>[locality, political]</td>\n      <td>NaN</td>\n      <td>NaN</td>\n      <td>NaN</td>\n    </tr>\n    <tr>\n      <th>2</th>\n      <td>0</td>\n      <td>[{'long_name': 'Alcoutim', 'short_name': 'Alco...</td>\n      <td>8970 Alcoutim, Portugal</td>\n      <td>37.477518</td>\n      <td>-7.468659</td>\n      <td>37.465337</td>\n      <td>-7.479642</td>\n      <td>37.469979</td>\n      <td>-7.473078</td>\n      <td>APPROXIMATE</td>\n      <td>37.477518</td>\n      <td>-7.468659</td>\n      <td>37.465337</td>\n      <td>-7.479642</td>\n      <td>ChIJowm92zZqEA0RRYMQEvvWKmI</td>\n      <td>[locality, political]</td>\n      <td>NaN</td>\n      <td>NaN</td>\n      <td>NaN</td>\n    </tr>\n    <tr>\n      <th>3</th>\n      <td>0</td>\n      <td>[{'long_name': 'Alferce', 'short_name': 'Alfer...</td>\n      <td>8550 Alferce, Portugal</td>\n      <td>NaN</td>\n      <td>NaN</td>\n      <td>NaN</td>\n      <td>NaN</td>\n      <td>37.334386</td>\n      <td>-8.489073</td>\n      <td>APPROXIMATE</td>\n      <td>37.343257</td>\n      <td>-8.473065</td>\n      <td>37.325514</td>\n      <td>-8.505080</td>\n      <td>ChIJx897UP8fGw0RdzDT6wtRkY4</td>\n      <td>[locality, political]</td>\n      <td>NaN</td>\n      <td>NaN</td>\n      <td>NaN</td>\n    </tr>\n    <tr>\n      <th>4</th>\n      <td>0</td>\n      <td>[{'long_name': 'Algoz', 'short_name': 'Algoz',...</td>\n      <td>8365 Algoz, Portugal</td>\n      <td>37.205315</td>\n      <td>-8.242090</td>\n      <td>37.141388</td>\n      <td>-8.330512</td>\n      <td>37.163989</td>\n      <td>-8.304248</td>\n      <td>APPROXIMATE</td>\n      <td>37.205315</td>\n      <td>-8.242090</td>\n      <td>37.141388</td>\n      <td>-8.330512</td>\n      <td>ChIJW_v1d-PPGg0RRJYv_2QHy8Q</td>\n      <td>[locality, political]</td>\n      <td>NaN</td>\n      <td>NaN</td>\n      <td>NaN</td>\n    </tr>\n  </tbody>\n</table>\n</div>",
                        "text/plain": "   index                                 address_components  \\\n0      0  [{'long_name': 'Albufeira', 'short_name': 'Alb...   \n1      0  [{'long_name': 'Alcantarilha', 'short_name': '...   \n2      0  [{'long_name': 'Alcoutim', 'short_name': 'Alco...   \n3      0  [{'long_name': 'Alferce', 'short_name': 'Alfer...   \n4      0  [{'long_name': 'Algoz', 'short_name': 'Algoz',...   \n\n             formatted_address  geometry.bounds.northeast.lat  \\\n0     8200 Albufeira, Portugal                      37.152455   \n1  8365 Alcantarilha, Portugal                      37.204227   \n2      8970 Alcoutim, Portugal                      37.477518   \n3       8550 Alferce, Portugal                            NaN   \n4         8365 Algoz, Portugal                      37.205315   \n\n   geometry.bounds.northeast.lng  geometry.bounds.southwest.lat  \\\n0                      -8.126932                      37.071823   \n1                      -8.325176                      37.116170   \n2                      -7.468659                      37.465337   \n3                            NaN                            NaN   \n4                      -8.242090                      37.141388   \n\n   geometry.bounds.southwest.lng  geometry.location.lat  \\\n0                      -8.309044              37.089072   \n1                      -8.385164              37.130970   \n2                      -7.479642              37.469979   \n3                            NaN              37.334386   \n4                      -8.330512              37.163989   \n\n   geometry.location.lng geometry.location_type  \\\n0              -8.247880            APPROXIMATE   \n1              -8.348275            APPROXIMATE   \n2              -7.473078            APPROXIMATE   \n3              -8.489073            APPROXIMATE   \n4              -8.304248            APPROXIMATE   \n\n   geometry.viewport.northeast.lat  geometry.viewport.northeast.lng  \\\n0                        37.152455                        -8.126932   \n1                        37.204227                        -8.325176   \n2                        37.477518                        -7.468659   \n3                        37.343257                        -8.473065   \n4                        37.205315                        -8.242090   \n\n   geometry.viewport.southwest.lat  geometry.viewport.southwest.lng  \\\n0                        37.071823                        -8.309044   \n1                        37.116170                        -8.385164   \n2                        37.465337                        -7.479642   \n3                        37.325514                        -8.505080   \n4                        37.141388                        -8.330512   \n\n                      place_id                  types partial_match  \\\n0  ChIJH8TdOK7OGg0RRRBEYqXnIu0  [locality, political]           NaN   \n1  ChIJy5Vg7azRGg0RjUqp4uJvkck  [locality, political]           NaN   \n2  ChIJowm92zZqEA0RRYMQEvvWKmI  [locality, political]           NaN   \n3  ChIJx897UP8fGw0RdzDT6wtRkY4  [locality, political]           NaN   \n4  ChIJW_v1d-PPGg0RRJYv_2QHy8Q  [locality, political]           NaN   \n\n  plus_code.compound_code plus_code.global_code  \n0                     NaN                   NaN  \n1                     NaN                   NaN  \n2                     NaN                   NaN  \n3                     NaN                   NaN  \n4                     NaN                   NaN  "
                    },
                    "execution_count": 128,
                    "metadata": {},
                    "output_type": "execute_result"
                }
            ],
            "source": "#all_locations = list(filter(all_locations.empty, all_locations))\nall_locations=all_locations.reset_index()\nall_locations.head()"
        },
        {
            "cell_type": "code",
            "execution_count": 129,
            "metadata": {},
            "outputs": [
                {
                    "data": {
                        "text/plain": "RangeIndex(start=0, stop=73, step=1)"
                    },
                    "execution_count": 129,
                    "metadata": {},
                    "output_type": "execute_result"
                }
            ],
            "source": "all_locations.index"
        },
        {
            "cell_type": "code",
            "execution_count": 48,
            "metadata": {},
            "outputs": [],
            "source": "# The code was removed by Watson Studio for sharing."
        },
        {
            "cell_type": "code",
            "execution_count": 193,
            "metadata": {},
            "outputs": [
                {
                    "name": "stdout",
                    "output_type": "stream",
                    "text": "   meta.code meta.errorDetail  meta.errorType            meta.requestId\n0        429   Quota exceeded  quota_exceeded  5e89fec30cc1fd001bf2e727\nerror\n"
                }
            ],
            "source": "latitude=37.089072\nlongitude=-8.247880\nurl = 'https://api.foursquare.com/v2/venues/explore?&client_id={}&client_secret={}&v={}&ll={},{}&radius={}&limit={}'.format(\nCLIENT_ID, \nCLIENT_SECRET,\nVERSION,\nlatitude,\nlongitude,\n999,\n99)\nresults = json_normalize(requests.get(url).json())\nprint(results)\ntry:\n    if not results.empty:\n        response_groups=results['response.groups'][0]\n        #print(type(response_groups))\n        print('response_groups')\n        print(response_groups)\n        if response_groups:\n            items=pd.DataFrame(response_groups)['items'][0]\n            #print(type(items))\n            print('items')\n            print(items)\n            if items:\n                venue=pd.DataFrame(items)['venue'][0]\n                #print(type(venue))\n                print('venue')\n                print(venue)\n                if venue:\n                    nearby_venues=pd.DataFrame.from_dict(venue,orient='index').T\n                    #print(type(nearby_venues))\n                    print('nearby_venues')\n                    print(nearby_venues)\n\nexcept KeyError:\n    print('error')\n\n#b=results['response.groups'][0]\n#c=pd.DataFrame((b))\n#d=c['items'][0]\n#e=pd.DataFrame(d)['venue'][0]\n#name=e['name']\n#print(name)\n#latitude=e['location']['lat']\n#print(latitude)"
        },
        {
            "cell_type": "code",
            "execution_count": 160,
            "metadata": {},
            "outputs": [
                {
                    "name": "stdout",
                    "output_type": "stream",
                    "text": "<class 'pandas.core.frame.DataFrame'>\n<class 'list'>\n<class 'pandas.core.frame.DataFrame'>\n<class 'list'>\n<class 'dict'>\n<class 'str'>\n"
                }
            ],
            "source": "print(type(results))\nprint(type(b))\nprint(type(c))\nprint(type(d))\nprint(type(e))\nprint(type(name))"
        },
        {
            "cell_type": "code",
            "execution_count": 170,
            "metadata": {},
            "outputs": [
                {
                    "data": {
                        "text/html": "<div>\n<style scoped>\n    .dataframe tbody tr th:only-of-type {\n        vertical-align: middle;\n    }\n\n    .dataframe tbody tr th {\n        vertical-align: top;\n    }\n\n    .dataframe thead th {\n        text-align: right;\n    }\n</style>\n<table border=\"1\" class=\"dataframe\">\n  <thead>\n    <tr style=\"text-align: right;\">\n      <th></th>\n      <th>id</th>\n      <th>name</th>\n      <th>location</th>\n      <th>categories</th>\n      <th>photos</th>\n    </tr>\n  </thead>\n  <tbody>\n    <tr>\n      <th>0</th>\n      <td>4e1da5c51838f4ab7440251a</td>\n      <td>Praia dos Pescadores</td>\n      <td>{'address': 'Largo Cais Herculano', 'lat': 37....</td>\n      <td>[{'id': '4bf58dd8d48988d1e2941735', 'name': 'B...</td>\n      <td>{'count': 0, 'groups': []}</td>\n    </tr>\n  </tbody>\n</table>\n</div>",
                        "text/plain": "                         id                  name  \\\n0  4e1da5c51838f4ab7440251a  Praia dos Pescadores   \n\n                                            location  \\\n0  {'address': 'Largo Cais Herculano', 'lat': 37....   \n\n                                          categories  \\\n0  [{'id': '4bf58dd8d48988d1e2941735', 'name': 'B...   \n\n                       photos  \n0  {'count': 0, 'groups': []}  "
                    },
                    "execution_count": 170,
                    "metadata": {},
                    "output_type": "execute_result"
                }
            ],
            "source": "nearby_venues=pd.DataFrame(pd.DataFrame(((results)['response.groups'][0]))['items'][0])['venue'][0]\na=pd.DataFrame.from_dict(nearby_venues,orient='index').T\n#a=pd.DataFrame.from_dict(nearby_venues,columns=['name','location'],orient='index')\n#nearby_venues=pd.DataFrame.from_dict(pd.DataFrame(pd.DataFrame(((results)['response.groups'][0]))['items'][0])['venue'][0].items()).T\na"
        },
        {
            "cell_type": "code",
            "execution_count": 120,
            "metadata": {
                "collapsed": true
            },
            "outputs": [
                {
                    "data": {
                        "text/plain": "{'id': '4e1da5c51838f4ab7440251a',\n 'name': 'Praia dos Pescadores',\n 'location': {'address': 'Largo Cais Herculano',\n  'lat': 37.08654254909226,\n  'lng': -8.250131607055664,\n  'labeledLatLngs': [{'label': 'display',\n    'lat': 37.08654254909226,\n    'lng': -8.250131607055664}],\n  'distance': 345,\n  'cc': 'PT',\n  'city': 'Albufeira',\n  'state': 'Algarve',\n  'country': 'Portugal',\n  'formattedAddress': ['Largo Cais Herculano', 'Albufeira', 'Portugal']},\n 'categories': [{'id': '4bf58dd8d48988d1e2941735',\n   'name': 'Beach',\n   'pluralName': 'Beaches',\n   'shortName': 'Beach',\n   'icon': {'prefix': 'https://ss3.4sqi.net/img/categories_v2/parks_outdoors/beach_',\n    'suffix': '.png'},\n   'primary': True}],\n 'photos': {'count': 0, 'groups': []}}"
                    },
                    "execution_count": 120,
                    "metadata": {},
                    "output_type": "execute_result"
                }
            ],
            "source": "items=pd.DataFrame(pd.DataFrame((results['response.groups'][0]))['items'][0])\nitems['venue'][0]"
        },
        {
            "cell_type": "code",
            "execution_count": 123,
            "metadata": {
                "collapsed": true
            },
            "outputs": [
                {
                    "ename": "KeyError",
                    "evalue": "'response.groups'",
                    "output_type": "error",
                    "traceback": [
                        "\u001b[0;31m---------------------------------------------------------------------------\u001b[0m",
                        "\u001b[0;31mKeyError\u001b[0m                                  Traceback (most recent call last)",
                        "\u001b[0;32m/opt/conda/envs/Python36/lib/python3.6/site-packages/pandas/core/indexes/base.py\u001b[0m in \u001b[0;36mget_loc\u001b[0;34m(self, key, method, tolerance)\u001b[0m\n\u001b[1;32m   2655\u001b[0m             \u001b[0;32mtry\u001b[0m\u001b[0;34m:\u001b[0m\u001b[0;34m\u001b[0m\u001b[0;34m\u001b[0m\u001b[0m\n\u001b[0;32m-> 2656\u001b[0;31m                 \u001b[0;32mreturn\u001b[0m \u001b[0mself\u001b[0m\u001b[0;34m.\u001b[0m\u001b[0m_engine\u001b[0m\u001b[0;34m.\u001b[0m\u001b[0mget_loc\u001b[0m\u001b[0;34m(\u001b[0m\u001b[0mkey\u001b[0m\u001b[0;34m)\u001b[0m\u001b[0;34m\u001b[0m\u001b[0;34m\u001b[0m\u001b[0m\n\u001b[0m\u001b[1;32m   2657\u001b[0m             \u001b[0;32mexcept\u001b[0m \u001b[0mKeyError\u001b[0m\u001b[0;34m:\u001b[0m\u001b[0;34m\u001b[0m\u001b[0;34m\u001b[0m\u001b[0m\n",
                        "\u001b[0;32mpandas/_libs/index.pyx\u001b[0m in \u001b[0;36mpandas._libs.index.IndexEngine.get_loc\u001b[0;34m()\u001b[0m\n",
                        "\u001b[0;32mpandas/_libs/index.pyx\u001b[0m in \u001b[0;36mpandas._libs.index.IndexEngine.get_loc\u001b[0;34m()\u001b[0m\n",
                        "\u001b[0;32mpandas/_libs/hashtable_class_helper.pxi\u001b[0m in \u001b[0;36mpandas._libs.hashtable.PyObjectHashTable.get_item\u001b[0;34m()\u001b[0m\n",
                        "\u001b[0;32mpandas/_libs/hashtable_class_helper.pxi\u001b[0m in \u001b[0;36mpandas._libs.hashtable.PyObjectHashTable.get_item\u001b[0;34m()\u001b[0m\n",
                        "\u001b[0;31mKeyError\u001b[0m: 'response.groups'",
                        "\nDuring handling of the above exception, another exception occurred:\n",
                        "\u001b[0;31mKeyError\u001b[0m                                  Traceback (most recent call last)",
                        "\u001b[0;32m<ipython-input-123-743c7e6d4d92>\u001b[0m in \u001b[0;36m<module>\u001b[0;34m\u001b[0m\n\u001b[0;32m----> 1\u001b[0;31m \u001b[0mvenue\u001b[0m\u001b[0;34m=\u001b[0m\u001b[0mpd\u001b[0m\u001b[0;34m.\u001b[0m\u001b[0mDataFrame\u001b[0m\u001b[0;34m(\u001b[0m\u001b[0mpd\u001b[0m\u001b[0;34m.\u001b[0m\u001b[0mDataFrame\u001b[0m\u001b[0;34m(\u001b[0m\u001b[0;34m(\u001b[0m\u001b[0;34m(\u001b[0m\u001b[0mresults\u001b[0m\u001b[0;34m)\u001b[0m\u001b[0;34m[\u001b[0m\u001b[0;34m'response.groups'\u001b[0m\u001b[0;34m]\u001b[0m\u001b[0;34m[\u001b[0m\u001b[0;36m0\u001b[0m\u001b[0;34m]\u001b[0m\u001b[0;34m)\u001b[0m\u001b[0;34m)\u001b[0m\u001b[0;34m[\u001b[0m\u001b[0;34m'items'\u001b[0m\u001b[0;34m]\u001b[0m\u001b[0;34m[\u001b[0m\u001b[0;36m0\u001b[0m\u001b[0;34m]\u001b[0m\u001b[0;34m)\u001b[0m\u001b[0;34m[\u001b[0m\u001b[0;34m'venue'\u001b[0m\u001b[0;34m]\u001b[0m\u001b[0;34m[\u001b[0m\u001b[0;36m0\u001b[0m\u001b[0;34m]\u001b[0m\u001b[0;34m\u001b[0m\u001b[0;34m\u001b[0m\u001b[0m\n\u001b[0m\u001b[1;32m      2\u001b[0m \u001b[0mname\u001b[0m\u001b[0;34m=\u001b[0m\u001b[0mvenue\u001b[0m\u001b[0;34m[\u001b[0m\u001b[0;34m'name'\u001b[0m\u001b[0;34m]\u001b[0m\u001b[0;34m\u001b[0m\u001b[0;34m\u001b[0m\u001b[0m\n\u001b[1;32m      3\u001b[0m \u001b[0mprint\u001b[0m\u001b[0;34m(\u001b[0m\u001b[0mname\u001b[0m\u001b[0;34m)\u001b[0m\u001b[0;34m\u001b[0m\u001b[0;34m\u001b[0m\u001b[0m\n\u001b[1;32m      4\u001b[0m \u001b[0mlatitude\u001b[0m\u001b[0;34m=\u001b[0m\u001b[0mvenue\u001b[0m\u001b[0;34m[\u001b[0m\u001b[0;34m'location'\u001b[0m\u001b[0;34m]\u001b[0m\u001b[0;34m[\u001b[0m\u001b[0;34m'lat'\u001b[0m\u001b[0;34m]\u001b[0m\u001b[0;34m\u001b[0m\u001b[0;34m\u001b[0m\u001b[0m\n\u001b[1;32m      5\u001b[0m \u001b[0mprint\u001b[0m\u001b[0;34m(\u001b[0m\u001b[0mlatitude\u001b[0m\u001b[0;34m)\u001b[0m\u001b[0;34m\u001b[0m\u001b[0;34m\u001b[0m\u001b[0m\n",
                        "\u001b[0;32m/opt/conda/envs/Python36/lib/python3.6/site-packages/pandas/core/frame.py\u001b[0m in \u001b[0;36m__getitem__\u001b[0;34m(self, key)\u001b[0m\n\u001b[1;32m   2925\u001b[0m             \u001b[0;32mif\u001b[0m \u001b[0mself\u001b[0m\u001b[0;34m.\u001b[0m\u001b[0mcolumns\u001b[0m\u001b[0;34m.\u001b[0m\u001b[0mnlevels\u001b[0m \u001b[0;34m>\u001b[0m \u001b[0;36m1\u001b[0m\u001b[0;34m:\u001b[0m\u001b[0;34m\u001b[0m\u001b[0;34m\u001b[0m\u001b[0m\n\u001b[1;32m   2926\u001b[0m                 \u001b[0;32mreturn\u001b[0m \u001b[0mself\u001b[0m\u001b[0;34m.\u001b[0m\u001b[0m_getitem_multilevel\u001b[0m\u001b[0;34m(\u001b[0m\u001b[0mkey\u001b[0m\u001b[0;34m)\u001b[0m\u001b[0;34m\u001b[0m\u001b[0;34m\u001b[0m\u001b[0m\n\u001b[0;32m-> 2927\u001b[0;31m             \u001b[0mindexer\u001b[0m \u001b[0;34m=\u001b[0m \u001b[0mself\u001b[0m\u001b[0;34m.\u001b[0m\u001b[0mcolumns\u001b[0m\u001b[0;34m.\u001b[0m\u001b[0mget_loc\u001b[0m\u001b[0;34m(\u001b[0m\u001b[0mkey\u001b[0m\u001b[0;34m)\u001b[0m\u001b[0;34m\u001b[0m\u001b[0;34m\u001b[0m\u001b[0m\n\u001b[0m\u001b[1;32m   2928\u001b[0m             \u001b[0;32mif\u001b[0m \u001b[0mis_integer\u001b[0m\u001b[0;34m(\u001b[0m\u001b[0mindexer\u001b[0m\u001b[0;34m)\u001b[0m\u001b[0;34m:\u001b[0m\u001b[0;34m\u001b[0m\u001b[0;34m\u001b[0m\u001b[0m\n\u001b[1;32m   2929\u001b[0m                 \u001b[0mindexer\u001b[0m \u001b[0;34m=\u001b[0m \u001b[0;34m[\u001b[0m\u001b[0mindexer\u001b[0m\u001b[0;34m]\u001b[0m\u001b[0;34m\u001b[0m\u001b[0;34m\u001b[0m\u001b[0m\n",
                        "\u001b[0;32m/opt/conda/envs/Python36/lib/python3.6/site-packages/pandas/core/indexes/base.py\u001b[0m in \u001b[0;36mget_loc\u001b[0;34m(self, key, method, tolerance)\u001b[0m\n\u001b[1;32m   2656\u001b[0m                 \u001b[0;32mreturn\u001b[0m \u001b[0mself\u001b[0m\u001b[0;34m.\u001b[0m\u001b[0m_engine\u001b[0m\u001b[0;34m.\u001b[0m\u001b[0mget_loc\u001b[0m\u001b[0;34m(\u001b[0m\u001b[0mkey\u001b[0m\u001b[0;34m)\u001b[0m\u001b[0;34m\u001b[0m\u001b[0;34m\u001b[0m\u001b[0m\n\u001b[1;32m   2657\u001b[0m             \u001b[0;32mexcept\u001b[0m \u001b[0mKeyError\u001b[0m\u001b[0;34m:\u001b[0m\u001b[0;34m\u001b[0m\u001b[0;34m\u001b[0m\u001b[0m\n\u001b[0;32m-> 2658\u001b[0;31m                 \u001b[0;32mreturn\u001b[0m \u001b[0mself\u001b[0m\u001b[0;34m.\u001b[0m\u001b[0m_engine\u001b[0m\u001b[0;34m.\u001b[0m\u001b[0mget_loc\u001b[0m\u001b[0;34m(\u001b[0m\u001b[0mself\u001b[0m\u001b[0;34m.\u001b[0m\u001b[0m_maybe_cast_indexer\u001b[0m\u001b[0;34m(\u001b[0m\u001b[0mkey\u001b[0m\u001b[0;34m)\u001b[0m\u001b[0;34m)\u001b[0m\u001b[0;34m\u001b[0m\u001b[0;34m\u001b[0m\u001b[0m\n\u001b[0m\u001b[1;32m   2659\u001b[0m         \u001b[0mindexer\u001b[0m \u001b[0;34m=\u001b[0m \u001b[0mself\u001b[0m\u001b[0;34m.\u001b[0m\u001b[0mget_indexer\u001b[0m\u001b[0;34m(\u001b[0m\u001b[0;34m[\u001b[0m\u001b[0mkey\u001b[0m\u001b[0;34m]\u001b[0m\u001b[0;34m,\u001b[0m \u001b[0mmethod\u001b[0m\u001b[0;34m=\u001b[0m\u001b[0mmethod\u001b[0m\u001b[0;34m,\u001b[0m \u001b[0mtolerance\u001b[0m\u001b[0;34m=\u001b[0m\u001b[0mtolerance\u001b[0m\u001b[0;34m)\u001b[0m\u001b[0;34m\u001b[0m\u001b[0;34m\u001b[0m\u001b[0m\n\u001b[1;32m   2660\u001b[0m         \u001b[0;32mif\u001b[0m \u001b[0mindexer\u001b[0m\u001b[0;34m.\u001b[0m\u001b[0mndim\u001b[0m \u001b[0;34m>\u001b[0m \u001b[0;36m1\u001b[0m \u001b[0;32mor\u001b[0m \u001b[0mindexer\u001b[0m\u001b[0;34m.\u001b[0m\u001b[0msize\u001b[0m \u001b[0;34m>\u001b[0m \u001b[0;36m1\u001b[0m\u001b[0;34m:\u001b[0m\u001b[0;34m\u001b[0m\u001b[0;34m\u001b[0m\u001b[0m\n",
                        "\u001b[0;32mpandas/_libs/index.pyx\u001b[0m in \u001b[0;36mpandas._libs.index.IndexEngine.get_loc\u001b[0;34m()\u001b[0m\n",
                        "\u001b[0;32mpandas/_libs/index.pyx\u001b[0m in \u001b[0;36mpandas._libs.index.IndexEngine.get_loc\u001b[0;34m()\u001b[0m\n",
                        "\u001b[0;32mpandas/_libs/hashtable_class_helper.pxi\u001b[0m in \u001b[0;36mpandas._libs.hashtable.PyObjectHashTable.get_item\u001b[0;34m()\u001b[0m\n",
                        "\u001b[0;32mpandas/_libs/hashtable_class_helper.pxi\u001b[0m in \u001b[0;36mpandas._libs.hashtable.PyObjectHashTable.get_item\u001b[0;34m()\u001b[0m\n",
                        "\u001b[0;31mKeyError\u001b[0m: 'response.groups'"
                    ]
                }
            ],
            "source": "venue=pd.DataFrame(pd.DataFrame(((results)['response.groups'][0]))['items'][0])['venue'][0]\nname=venue['name']\nprint(name)\nlatitude=venue['location']['lat']\nprint(latitude)"
        },
        {
            "cell_type": "code",
            "execution_count": 190,
            "metadata": {},
            "outputs": [
                {
                    "name": "stdout",
                    "output_type": "stream",
                    "text": "<class 'pandas.core.frame.DataFrame'>\nresults\nresponse_groups\nitems\nvenue\nnearby_venues\n                         id                  name  \\\n0  4e1da5c51838f4ab7440251a  Praia dos Pescadores   \n\n                                            location  \\\n0  {'address': 'Largo Cais Herculano', 'lat': 37....   \n\n                                          categories  \\\n0  [{'id': '4bf58dd8d48988d1e2941735', 'name': 'B...   \n\n                       photos  \n0  {'count': 0, 'groups': []}  \n<class 'pandas.core.frame.DataFrame'>\nresults\nresponse_groups\nitems\nvenue\nnearby_venues\n                         id  name  \\\n0  520baab511d250e873af5488  Aldi   \n\n                                            location  \\\n0  {'lat': 37.130790380468746, 'lng': -8.34856094...   \n\n                                          categories  \\\n0  [{'id': '4bf58dd8d48988d118951735', 'name': 'G...   \n\n                       photos  \n0  {'count': 0, 'groups': []}  \n<class 'pandas.core.frame.DataFrame'>\nresults\nresponse_groups\nitems\nvenue\nnearby_venues\n                         id           name  \\\n0  4c6bb6c56d390f4779490b9a  Praia fluvial   \n\n                                            location  \\\n0  {'address': 'Alcoutim', 'lat': 37.472274948453...   \n\n                                          categories  \\\n0  [{'id': '4bf58dd8d48988d1e2941735', 'name': 'B...   \n\n                       photos  \n0  {'count': 0, 'groups': []}  \n<class 'pandas.core.frame.DataFrame'>\nresults\nresponse_groups\nitems\nvenue\nnearby_venues\n                         id      name  \\\n0  4e502526b0fb088f3c266ccb  Roxy Bar   \n\n                                            location  \\\n0  {'address': 'Alferce', 'lat': 37.333708, 'lng'...   \n\n                                          categories  \\\n0  [{'id': '4bf58dd8d48988d116941735', 'name': 'B...   \n\n                       photos  \n0  {'count': 0, 'groups': []}  \n<class 'pandas.core.frame.DataFrame'>\nresults\nresponse_groups\nitems\nvenue\nnearby_venues\n                         id       name  \\\n0  50586675e4b0bc64c8d41f09  O Marinho   \n\n                                            location  \\\n0  {'lat': 37.1580231936642, 'lng': -8.3021264325...   \n\n                                          categories  \\\n0  [{'id': '4bf58dd8d48988d1c4941735', 'name': 'R...   \n\n                       photos  \n0  {'count': 0, 'groups': []}  \n<class 'pandas.core.frame.DataFrame'>\nresults\nresponse_groups\nitems\nvenue\nnearby_venues\n                         id                     name  \\\n0  4deb8d08d164ef597d07a2fe  Restaurante Ill Gera\u00e7\u00e3o   \n\n                                            location  \\\n0  {'lat': 37.31659227713913, 'lng': -8.803490918...   \n\n                                          categories  \\\n0  [{'id': '4bf58dd8d48988d1c4941735', 'name': 'R...   \n\n                       photos  \n0  {'count': 0, 'groups': []}  \n<class 'pandas.core.frame.DataFrame'>\nresults\nresponse_groups\nitems\nvenue\nnearby_venues\n                         id             name  \\\n0  520bed5011d272e4694f7f3d  Sushi-Ya Fusion   \n\n                                            location  \\\n0  {'address': 'Rua do Com\u00e9rcio, 56', 'lat': 37.0...   \n\n                                          categories  \\\n0  [{'id': '4bf58dd8d48988d1d2941735', 'name': 'S...   \n\n                       photos  \n0  {'count': 0, 'groups': []}  \n<class 'pandas.core.frame.DataFrame'>\nresults\nresponse_groups\nitems\nvenue\nnearby_venues\n                         id      name  \\\n0  4ffc3535e4b0017e795e208a  \u00c1gua Mel   \n\n                                            location  \\\n0  {'lat': 37.23547940840981, 'lng': -8.177475747...   \n\n                                          categories  \\\n0  [{'id': '5744ccdfe4b0c0459246b4e2', 'name': 'P...   \n\n                       photos  \n0  {'count': 0, 'groups': []}  \n<class 'pandas.core.frame.DataFrame'>\nresults\nerror\n<class 'pandas.core.frame.DataFrame'>\nresults\nresponse_groups\nitems\nvenue\nnearby_venues\n                         id                name  \\\n0  4c608d5312e5c928288b1f4c  Restaurante A Lota   \n\n                                            location  \\\n0  {'lat': 37.13029874502854, 'lng': -8.595909058...   \n\n                                          categories  \\\n0  [{'id': '4bf58dd8d48988d1ce941735', 'name': 'S...   \n\n                       photos  \n0  {'count': 0, 'groups': []}  \n<class 'pandas.core.frame.DataFrame'>\nresults\nresponse_groups\nitems\n<class 'pandas.core.frame.DataFrame'>\nresults\nresponse_groups\nitems\nvenue\nnearby_venues\n                         id                 name  \\\n0  4c65a3da7abde21e164b6168  Restaurante A Tasca   \n\n                                            location  \\\n0  {'lat': 37.10113278, 'lng': -8.358266, 'labele...   \n\n                                          categories  \\\n0  [{'id': '4bf58dd8d48988d1ce941735', 'name': 'S...   \n\n                       photos  \n0  {'count': 0, 'groups': []}  \n<class 'pandas.core.frame.DataFrame'>\nresults\nresponse_groups\nitems\nvenue\nnearby_venues\n                         id   name  \\\n0  59cec084037be133a3614910  Dusul   \n\n                                            location  \\\n0  {'lat': 37.284771, 'lng': -7.465318, 'labeledL...   \n\n                                          categories  \\\n0  [{'id': '56aa371ce4b08b9a8d57356c', 'name': 'B...   \n\n                       photos  \n0  {'count': 0, 'groups': []}  \n<class 'pandas.core.frame.DataFrame'>\nresults\nresponse_groups\nitems\nvenue\nnearby_venues\n                         id                        name  \\\n0  512a1619e4b023dd99957652  Caramba Restaurant and Bar   \n\n                                            location  \\\n0  {'lat': 37.139754288958315, 'lng': -8.77585190...   \n\n                                          categories  \\\n0  [{'id': '4def73e84765ae376e57713a', 'name': 'P...   \n\n                       photos  \n0  {'count': 0, 'groups': []}  \n<class 'pandas.core.frame.DataFrame'>\nresults\nresponse_groups\nitems\n<class 'pandas.core.frame.DataFrame'>\nresults\nresponse_groups\nitems\nvenue\nnearby_venues\n                         id                  name  \\\n0  521b4c52498eacde550dd041  Hamburgo Restaurante   \n\n                                            location  \\\n0  {'address': 'Benafim', 'lat': 37.2330694839813...   \n\n                                          categories  \\\n0  [{'id': '4bf58dd8d48988d1c4941735', 'name': 'R...   \n\n                       photos  \n0  {'count': 0, 'groups': []}  \n<class 'pandas.core.frame.DataFrame'>\nresults\nresponse_groups\nitems\nvenue\nnearby_venues\n                         id                name  \\\n0  56f6439e498e7a4c2116e466  Farmacia Bensafrim   \n\n                                            location  \\\n0  {'lat': 37.15636228910062, 'lng': -8.734160103...   \n\n                                          categories  \\\n0  [{'id': '4bf58dd8d48988d10f951735', 'name': 'P...   \n\n                       photos  \n0  {'count': 0, 'groups': []}  \n<class 'pandas.core.frame.DataFrame'>\nresults\nresponse_groups\nitems\nvenue\nnearby_venues\n                         id      name  \\\n0  4ea2bffe29c2abc8dee89677  O Retiro   \n\n                                            location  \\\n0  {'address': 'Fonte de Boliqueime, 118', 'lat':...   \n\n                                          categories  \\\n0  [{'id': '4edd64a0c7ddd24ca188df1a', 'name': 'F...   \n\n                       photos  \n0  {'count': 0, 'groups': []}  \n<class 'pandas.core.frame.DataFrame'>\nresults\nresponse_groups\nitems\nvenue\nnearby_venues\n                         id              name  \\\n0  51327727e4b0680a840ef421  Caf\u00e9 da Bordeira   \n\n                                            location  \\\n0  {'lat': 37.1961, 'lng': -8.860995, 'labeledLat...   \n\n                                          categories  \\\n0  [{'id': '4bf58dd8d48988d16d941735', 'name': 'C...   \n\n                       photos  \n0  {'count': 0, 'groups': []}  \n<class 'pandas.core.frame.DataFrame'>\nresults\nresponse_groups\nitems\nvenue\nnearby_venues\n                         id         name  \\\n0  4d18b7b6bb64224b2e4fc965  Intermarch\u00e9   \n\n                                            location  \\\n0  {'address': 'Estrada Nacional 125, rua Areias ...   \n\n                                          categories  \\\n0  [{'id': '52f2ab2ebcbc57f1066b8b46', 'name': 'S...   \n\n                       photos  \n0  {'count': 0, 'groups': []}  \n<class 'pandas.core.frame.DataFrame'>\nresults\nresponse_groups\nitems\nvenue\nnearby_venues\n                         id     name  \\\n0  500a9415e4b004b232ac990a  mircado   \n\n                                            location  \\\n0  {'lat': 37.1422004699707, 'lng': -7.5919542312...   \n\n                                          categories  \\\n0  [{'id': '4bf58dd8d48988d10e951735', 'name': 'F...   \n\n                       photos  \n0  {'count': 0, 'groups': []}  \n<class 'pandas.core.frame.DataFrame'>\nresults\nresponse_groups\nitems\nvenue\nnearby_venues\n                         id                  name  \\\n0  5187fcce498e300c592645d4  Retiro Dos Casadores   \n\n                                            location  \\\n0  {'lat': 37.333721, 'lng': -7.817837, 'labeledL...   \n\n                                          categories  \\\n0  [{'id': '4def73e84765ae376e57713a', 'name': 'P...   \n\n                       photos  \n0  {'count': 0, 'groups': []}  \n<class 'pandas.core.frame.DataFrame'>\nresults\nresponse_groups\nitems\nvenue\nnearby_venues\n                         id                     name  \\\n0  4fe090c5e4b0f37d58222564  Praia de Vale Centianes   \n\n                                            location  \\\n0  {'lat': 37.09175474515149, 'lng': -8.454088709...   \n\n                                          categories  \\\n0  [{'id': '4bf58dd8d48988d1e2941735', 'name': 'B...   \n\n                       photos  \n0  {'count': 0, 'groups': []}  \n<class 'pandas.core.frame.DataFrame'>\nresults\nresponse_groups\nitems\nvenue\nnearby_venues\n                         id                  name  \\\n0  4db050b84b22ba776d6daeaf  Castelo Castro Marim   \n\n                                            location  \\\n0  {'lat': 37.21835349620517, 'lng': -7.442807244...   \n\n                                          categories  \\\n0  [{'id': '50aaa49e4b90af0d42d5de11', 'name': 'C...   \n\n                       photos  \n0  {'count': 0, 'groups': []}  \n<class 'pandas.core.frame.DataFrame'>\nresults\nresponse_groups\nitems\nvenue\nnearby_venues\n                         id          name  \\\n0  4c5150c95ee81b8d60d30500  Benamor Golf   \n\n                                            location  \\\n0  {'address': 'EN 125', 'lat': 37.15264262104922...   \n\n                                          categories  \\\n0  [{'id': '4bf58dd8d48988d1e6941735', 'name': 'G...   \n\n                       photos  \n0  {'count': 0, 'groups': []}  \n<class 'pandas.core.frame.DataFrame'>\nresults\nresponse_groups\nitems\nvenue\nnearby_venues\n                         id        name  \\\n0  50216f66e4b03bde4d2e4199  O Charneco   \n\n                                            location  \\\n0  {'address': 'Rua Joaquim Manuel Charneco, 3', ...   \n\n                                          categories  \\\n0  [{'id': '4def73e84765ae376e57713a', 'name': 'P...   \n\n                       photos  \n0  {'count': 0, 'groups': []}  \n<class 'pandas.core.frame.DataFrame'>\nresults\nresponse_groups\nitems\nvenue\nnearby_venues\n                         id       name  \\\n0  4e69fc8d45ddadf2d040cdf0  Paparazzi   \n\n                                            location  \\\n0  {'address': 'R. Batista Lopes', 'lat': 37.0181...   \n\n                                          categories  \\\n0  [{'id': '4bf58dd8d48988d1ca941735', 'name': 'P...   \n\n                       photos  \n0  {'count': 0, 'groups': []}  \n<class 'pandas.core.frame.DataFrame'>\nresults\nresponse_groups\nitems\nvenue\nnearby_venues\n                         id          name  \\\n0  4df758517d8b5f396ac5b144  Praia Grande   \n\n                                            location  \\\n0  {'address': 'Ferragudo', 'lat': 37.11774692617...   \n\n                                          categories  \\\n0  [{'id': '4bf58dd8d48988d1e2941735', 'name': 'B...   \n\n                       photos  \n0  {'count': 0, 'groups': []}  \n<class 'pandas.core.frame.DataFrame'>\nresults\nresponse_groups\nitems\nvenue\nnearby_venues\n                         id                            name  \\\n0  4e0b88a618a86d2caa7c1e42  Restaurante O Nosso Franguinho   \n\n                                            location  \\\n0  {'lat': 37.11916137532799, 'lng': -8.239558339...   \n\n                                          categories  \\\n0  [{'id': '4bf58dd8d48988d1c4941735', 'name': 'R...   \n\n                       photos  \n0  {'count': 0, 'groups': []}  \n<class 'pandas.core.frame.DataFrame'>\nresults\nerror\n<class 'pandas.core.frame.DataFrame'>\nresults\nerror\n<class 'pandas.core.frame.DataFrame'>\nresults\nerror\n<class 'pandas.core.frame.DataFrame'>\nresults\nerror\n<class 'pandas.core.frame.DataFrame'>\nresults\nerror\n<class 'pandas.core.frame.DataFrame'>\nresults\nerror\n<class 'pandas.core.frame.DataFrame'>\nresults\nerror\n<class 'pandas.core.frame.DataFrame'>\nresults\nerror\n<class 'pandas.core.frame.DataFrame'>\nresults\nerror\n<class 'pandas.core.frame.DataFrame'>\nresults\nerror\n<class 'pandas.core.frame.DataFrame'>\nresults\nerror\n<class 'pandas.core.frame.DataFrame'>\nresults\nerror\n<class 'pandas.core.frame.DataFrame'>\nresults\nerror\n<class 'pandas.core.frame.DataFrame'>\nresults\nerror\n<class 'pandas.core.frame.DataFrame'>\nresults\nerror\n<class 'pandas.core.frame.DataFrame'>\nresults\nerror\n<class 'pandas.core.frame.DataFrame'>\nresults\nerror\n<class 'pandas.core.frame.DataFrame'>\nresults\nerror\n<class 'pandas.core.frame.DataFrame'>\nresults\nerror\n<class 'pandas.core.frame.DataFrame'>\nresults\nerror\n<class 'pandas.core.frame.DataFrame'>\nresults\nerror\n<class 'pandas.core.frame.DataFrame'>\nresults\nerror\n<class 'pandas.core.frame.DataFrame'>\nresults\nerror\n<class 'pandas.core.frame.DataFrame'>\nresults\nerror\n<class 'pandas.core.frame.DataFrame'>\nresults\nerror\n<class 'pandas.core.frame.DataFrame'>\nresults\nerror\n<class 'pandas.core.frame.DataFrame'>\nresults\nerror\n<class 'pandas.core.frame.DataFrame'>\nresults\nerror\n<class 'pandas.core.frame.DataFrame'>\nresults\nerror\n<class 'pandas.core.frame.DataFrame'>\nresults\nerror\n<class 'pandas.core.frame.DataFrame'>\nresults\nerror\n<class 'pandas.core.frame.DataFrame'>\nresults\nerror\n<class 'pandas.core.frame.DataFrame'>\nresults\nerror\n<class 'pandas.core.frame.DataFrame'>\nresults\nerror\n<class 'pandas.core.frame.DataFrame'>\nresults\nerror\n<class 'pandas.core.frame.DataFrame'>\nresults\nerror\n<class 'pandas.core.frame.DataFrame'>\nresults\nerror\n<class 'pandas.core.frame.DataFrame'>\nresults\nerror\n<class 'pandas.core.frame.DataFrame'>\nresults\nerror\n<class 'pandas.core.frame.DataFrame'>\nresults\nerror\n<class 'pandas.core.frame.DataFrame'>\nresults\nerror\n<class 'pandas.core.frame.DataFrame'>\nresults\nerror\n<class 'pandas.core.frame.DataFrame'>\nresults\nerror\n<class 'pandas.core.frame.DataFrame'>\nresults\nerror\n26\n2714.748346900001\n-598.1295422999999\n37.188333519178094\n-8.193555373972602\n"
                }
            ],
            "source": "all_results=pd.DataFrame()\nlatitude_sum=0\nlongitude_sum=0\nfor ind in all_locations.index:\n#for ind in new_df.index:\n\n#    print(ind)\n    latitude = all_locations['geometry.location.lat'][ind]\n    longitude = all_locations['geometry.location.lng'][ind]\n#    print(latitude)\n#    print(longitude)\n    latitude_sum=latitude_sum+latitude\n    longitude_sum=longitude_sum+longitude\n    \n    url = 'https://api.foursquare.com/v2/venues/explore?&client_id={}&client_secret={}&v={}&ll={},{}&radius={}&limit={}'.format(\n    CLIENT_ID, \n    CLIENT_SECRET,\n    VERSION,\n    latitude,\n    longitude,\n    999,\n    5)\n#    print(url)\n\n    results = json_normalize(requests.get(url).json())\n    print(type(results))\n    print('results')\n#    id not results.empty and not results['response.groups'][0] and not pd.DataFrame(pd.DataFrame(results['response.groups'][0])['items'][0]).empty and not \n    try:\n        if not results.empty:\n            response_groups=results['response.groups'][0]\n            #print(type(response_groups))\n            print('response_groups')\n            if response_groups:\n                items=pd.DataFrame(response_groups)['items'][0]\n                #print(type(items))\n                print('items')\n                if items:\n                    venue=pd.DataFrame(items)['venue'][0]\n                    #print(type(venue))\n                    print('venue')\n                    if venue:\n                        nearby_venues=pd.DataFrame.from_dict(venue,orient='index').T\n                        #print(type(nearby_venues))\n                        print('nearby_venues')\n                        print(nearby_venues)\n                        if not nearby_venues.empty:\n                            if all_results.empty:\n                                all_results=pd.DataFrame(nearby_venues)\n                            else:\n                                all_results=all_results.append(nearby_venues,sort=False)\n\n\n    except KeyError:\n        print('error')\n\nprint(len(all_results))\nprint(latitude_sum)\nprint(longitude_sum)\nprint(latitude_sum/len(all_locations))\nprint(longitude_sum/len(all_locations))"
        },
        {
            "cell_type": "code",
            "execution_count": 189,
            "metadata": {},
            "outputs": [
                {
                    "data": {
                        "text/html": "<div>\n<style scoped>\n    .dataframe tbody tr th:only-of-type {\n        vertical-align: middle;\n    }\n\n    .dataframe tbody tr th {\n        vertical-align: top;\n    }\n\n    .dataframe thead th {\n        text-align: right;\n    }\n</style>\n<table border=\"1\" class=\"dataframe\">\n  <thead>\n    <tr style=\"text-align: right;\">\n      <th></th>\n      <th>id</th>\n      <th>name</th>\n      <th>location</th>\n      <th>categories</th>\n      <th>photos</th>\n    </tr>\n  </thead>\n  <tbody>\n    <tr>\n      <th>0</th>\n      <td>4e1da5c51838f4ab7440251a</td>\n      <td>Praia dos Pescadores</td>\n      <td>{'address': 'Largo Cais Herculano', 'lat': 37....</td>\n      <td>[{'id': '4bf58dd8d48988d1e2941735', 'name': 'B...</td>\n      <td>{'count': 0, 'groups': []}</td>\n    </tr>\n    <tr>\n      <th>0</th>\n      <td>520baab511d250e873af5488</td>\n      <td>Aldi</td>\n      <td>{'lat': 37.130790380468746, 'lng': -8.34856094...</td>\n      <td>[{'id': '4bf58dd8d48988d118951735', 'name': 'G...</td>\n      <td>{'count': 0, 'groups': []}</td>\n    </tr>\n    <tr>\n      <th>0</th>\n      <td>4c6bb6c56d390f4779490b9a</td>\n      <td>Praia fluvial</td>\n      <td>{'address': 'Alcoutim', 'lat': 37.472274948453...</td>\n      <td>[{'id': '4bf58dd8d48988d1e2941735', 'name': 'B...</td>\n      <td>{'count': 0, 'groups': []}</td>\n    </tr>\n    <tr>\n      <th>0</th>\n      <td>4e502526b0fb088f3c266ccb</td>\n      <td>Roxy Bar</td>\n      <td>{'address': 'Alferce', 'lat': 37.333708, 'lng'...</td>\n      <td>[{'id': '4bf58dd8d48988d116941735', 'name': 'B...</td>\n      <td>{'count': 0, 'groups': []}</td>\n    </tr>\n    <tr>\n      <th>0</th>\n      <td>50586675e4b0bc64c8d41f09</td>\n      <td>O Marinho</td>\n      <td>{'lat': 37.1580231936642, 'lng': -8.3021264325...</td>\n      <td>[{'id': '4bf58dd8d48988d1c4941735', 'name': 'R...</td>\n      <td>{'count': 0, 'groups': []}</td>\n    </tr>\n  </tbody>\n</table>\n</div>",
                        "text/plain": "                         id                  name  \\\n0  4e1da5c51838f4ab7440251a  Praia dos Pescadores   \n0  520baab511d250e873af5488                  Aldi   \n0  4c6bb6c56d390f4779490b9a         Praia fluvial   \n0  4e502526b0fb088f3c266ccb              Roxy Bar   \n0  50586675e4b0bc64c8d41f09             O Marinho   \n\n                                            location  \\\n0  {'address': 'Largo Cais Herculano', 'lat': 37....   \n0  {'lat': 37.130790380468746, 'lng': -8.34856094...   \n0  {'address': 'Alcoutim', 'lat': 37.472274948453...   \n0  {'address': 'Alferce', 'lat': 37.333708, 'lng'...   \n0  {'lat': 37.1580231936642, 'lng': -8.3021264325...   \n\n                                          categories  \\\n0  [{'id': '4bf58dd8d48988d1e2941735', 'name': 'B...   \n0  [{'id': '4bf58dd8d48988d118951735', 'name': 'G...   \n0  [{'id': '4bf58dd8d48988d1e2941735', 'name': 'B...   \n0  [{'id': '4bf58dd8d48988d116941735', 'name': 'B...   \n0  [{'id': '4bf58dd8d48988d1c4941735', 'name': 'R...   \n\n                       photos  \n0  {'count': 0, 'groups': []}  \n0  {'count': 0, 'groups': []}  \n0  {'count': 0, 'groups': []}  \n0  {'count': 0, 'groups': []}  \n0  {'count': 0, 'groups': []}  "
                    },
                    "execution_count": 189,
                    "metadata": {},
                    "output_type": "execute_result"
                }
            ],
            "source": "all_results.head()"
        },
        {
            "cell_type": "code",
            "execution_count": null,
            "metadata": {
                "scrolled": false
            },
            "outputs": [],
            "source": "# create map using latitude and longitude values\nmap_Algarve = folium.Map(location=[latitude_sum/len(all_locations), longitude_sum/len(all_locations)], zoom_start=10)\n\nfor lat, lng, venue in zip(all_results['venue.location.lat'],\n                                           all_results['venue.location.lng'],\n                                           all_results['venue.name']):\n    label = 'Venue: {}'.format(venue)\n    label = folium.Popup(label, parse_html=True)\n    folium.CircleMarker(\n        [lat, lng],\n        radius=5,\n        popup=label,\n        color='blue',\n        fill=True,\n        fill_color='#3186cc',\n        fill_opacity=0.7).add_to(map_Algarve)  \n    \nmap_Algarve"
        },
        {
            "cell_type": "code",
            "execution_count": null,
            "metadata": {},
            "outputs": [],
            "source": "all_venues=pd.DataFrame()"
        },
        {
            "cell_type": "code",
            "execution_count": null,
            "metadata": {},
            "outputs": [],
            "source": "for i in range(len(all_results)):\n#    print(i)\n    venues=all_results[i]['response']['groups'][0]['items']\n    nearby_venues = json_normalize(venues)\n    all_venues.append(nearby_venues)\n\nprint(all_venues.size)"
        },
        {
            "cell_type": "code",
            "execution_count": null,
            "metadata": {},
            "outputs": [],
            "source": "venues=all_results[0]\n#venues=all_results[2]['response']['groups'][0]['items']\n#print(type(all_results[15]))\n#print(type(all_results[15]['response']))\n#print(type(all_results[15]['response']['groups']))\n#print(type(all_results[15]['response']['groups'][0]))\n#print(type(venues))\nnearby_venues = json_normalize(venues)\n#((nearby_venues))\n#nearby_venues\nall_venues.append(nearby_venues)\nall_venues\n#print(all_venues.size)"
        },
        {
            "cell_type": "code",
            "execution_count": null,
            "metadata": {},
            "outputs": [],
            "source": "a=all_results[0].get('response')\na.get('groups')"
        },
        {
            "cell_type": "code",
            "execution_count": null,
            "metadata": {},
            "outputs": [],
            "source": "# Convert the HTML response into a BeautifulSoup Object\nsoup = BeautifulSoup(all_results[9].content, 'html.parser')\n\n# Use the BeautifulSoup find_all method to extract each top site venue details.\ntop_venues = soup.find_all('div', class_='venueDetails')"
        },
        {
            "cell_type": "code",
            "execution_count": null,
            "metadata": {},
            "outputs": [],
            "source": "dir(all_results[9])"
        },
        {
            "cell_type": "code",
            "execution_count": null,
            "metadata": {},
            "outputs": [],
            "source": "address = 'Lagos (Algarve), Portugal'\ngeolocator = Nominatim()\nlocation = geolocator.geocode(address)\nprint((location))\nlatitude = location.latitude\nlongitude = location.longitude\n\nprint(latitude)\nprint(longitude)"
        },
        {
            "cell_type": "code",
            "execution_count": null,
            "metadata": {},
            "outputs": [],
            "source": ""
        },
        {
            "cell_type": "code",
            "execution_count": null,
            "metadata": {},
            "outputs": [],
            "source": "url = 'https://api.foursquare.com/v2/venues/explore?&client_id={}&client_secret={}&v={}&ll={},{}&radius={}&limit={}'.format(\n    CLIENT_ID, \n    CLIENT_SECRET,\n    VERSION,\n    latitude,\n    longitude,\n    1000,\n    100)\nurl"
        },
        {
            "cell_type": "code",
            "execution_count": null,
            "metadata": {},
            "outputs": [],
            "source": "results = requests.get(url).json()"
        },
        {
            "cell_type": "code",
            "execution_count": null,
            "metadata": {},
            "outputs": [],
            "source": "dir(results)"
        },
        {
            "cell_type": "code",
            "execution_count": null,
            "metadata": {},
            "outputs": [],
            "source": "results.items()"
        },
        {
            "cell_type": "code",
            "execution_count": null,
            "metadata": {},
            "outputs": [],
            "source": "# Convert the HTML response into a BeautifulSoup Object\nsoup = BeautifulSoup(results.content, 'html.parser')\n\n# Use the BeautifulSoup find_all method to extract each top site venue details.\ntop_venues = soup.find_all('div', class_='venueDetails')"
        },
        {
            "cell_type": "code",
            "execution_count": null,
            "metadata": {},
            "outputs": [],
            "source": ""
        }
    ],
    "metadata": {
        "kernelspec": {
            "display_name": "Python 3.6",
            "language": "python",
            "name": "python3"
        },
        "language_info": {
            "codemirror_mode": {
                "name": "ipython",
                "version": 3
            },
            "file_extension": ".py",
            "mimetype": "text/x-python",
            "name": "python",
            "nbconvert_exporter": "python",
            "pygments_lexer": "ipython3",
            "version": "3.6.9"
        }
    },
    "nbformat": 4,
    "nbformat_minor": 1
}