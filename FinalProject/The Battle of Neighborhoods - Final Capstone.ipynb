{
    "cells": [
        {
            "cell_type": "code",
            "execution_count": null,
            "metadata": {
                "scrolled": false
            },
            "outputs": [],
            "source": "!pip uninstall -y tensorboard\n!pip uninstall -y tensorflow\n!pip uninstall -y autoai-libs\n\n!pip install -U geocoder\n!pip install -U geopy\n!pip install -U googlemaps\n!pip install -U folium\n!pip install -U numpy\n!pip install -U pandas\n\nimport pandas as pd\nimport numpy as np\n\nfrom pandas import json_normalize  # tranform JSON file into a pandas dataframe\n\nimport googlemaps\nfrom datetime import datetime\nimport requests\nimport geopy\n\ngeopy.geocoders.options.default_user_agent = \"my-application\"\n\nimport ast\nimport json\nimport time\n\nimport folium\nfrom folium.plugins import HeatMap\n\nfrom ibm_botocore.client import Config\nimport ibm_boto3\n\nprint('Ready')"
        },
        {
            "cell_type": "code",
            "execution_count": null,
            "metadata": {},
            "outputs": [],
            "source": "# The code was removed by Watson Studio for sharing."
        },
        {
            "cell_type": "code",
            "execution_count": null,
            "metadata": {},
            "outputs": [],
            "source": "def download_file_cos(credentials, local_file_name, key):\n    cos = ibm_boto3.client(service_name='s3',\n                           ibm_api_key_id=credentials['IBM_API_KEY_ID'],\n                           ibm_service_instance_id=credentials['IAM_SERVICE_ID'],\n                           ibm_auth_endpoint=credentials['IBM_AUTH_ENDPOINT'],\n                           config=Config(signature_version='oauth'),\n                           endpoint_url=credentials['ENDPOINT'])\n    try:\n        res = cos.download_file(Bucket=credentials['BUCKET'], Key=key, Filename=local_file_name)\n    except Exception as e:\n        print(Exception, e)\n    else:\n        print('File Downloaded')"
        },
        {
            "cell_type": "code",
            "execution_count": null,
            "metadata": {},
            "outputs": [],
            "source": "def upload_file_cos(credentials, local_file_name, key):\n    cos = ibm_boto3.client(service_name='s3',\n                           ibm_api_key_id=credentials['IBM_API_KEY_ID'],\n                           ibm_service_instance_id=credentials['IAM_SERVICE_ID'],\n                           ibm_auth_endpoint=credentials['IBM_AUTH_ENDPOINT'],\n                           config=Config(signature_version='oauth'),\n                           endpoint_url=credentials['ENDPOINT'])\n    try:\n        res = cos.upload_file(Filename=local_file_name, Bucket=credentials['BUCKET'], Key=key)\n    except Exception as e:\n        print(Exception, e)\n    else:\n        print(' File Uploaded')"
        },
        {
            "cell_type": "code",
            "execution_count": null,
            "metadata": {},
            "outputs": [],
            "source": "download_file_cos(credentials, 'hotels_all.csv', 'hotels_all.csv')\ndownload_file_cos(credentials, 'food_Hotels.csv', 'food_Hotels.csv')\ndownload_file_cos(credentials, 'location_geometry.csv', 'location_geometry.csv')"
        },
        {
            "cell_type": "code",
            "execution_count": null,
            "metadata": {},
            "outputs": [],
            "source": "df_all_hotels_sorted = pd.read_csv('hotels_all.csv', sep=',', encoding='utf_8', index_col=False).reset_index()\ndf_all_hotels_sorted.shape"
        },
        {
            "cell_type": "code",
            "execution_count": null,
            "metadata": {},
            "outputs": [],
            "source": "df_all_hotels_sorted.head()"
        },
        {
            "cell_type": "code",
            "execution_count": null,
            "metadata": {},
            "outputs": [],
            "source": "df_location = pd.read_csv('location_geometry.csv', sep=',', encoding='utf_8', index_col=False).reset_index()[['geometry.location.lat', 'geometry.location.lng']]\ndf_location.head()"
        },
        {
            "cell_type": "code",
            "execution_count": null,
            "metadata": {},
            "outputs": [],
            "source": "map_center_lat = df_location['geometry.location.lat'].mean()\nmap_center_lng = df_location['geometry.location.lng'].mean()\nprint(map_center_lat)\nprint(map_center_lng)"
        },
        {
            "cell_type": "code",
            "execution_count": null,
            "metadata": {},
            "outputs": [],
            "source": "# create map using latitude and longitude values\nmap_Algarve = folium.Map(location=[map_center_lat, map_center_lng], zoom_start=10)\n\nfor ind in df_all_hotels_sorted.index:\n    venue = df_all_hotels_sorted['name'][ind]\n\n    location = df_all_hotels_sorted['location'][ind]\n    try:\n        location_json = ast.literal_eval(location)\n        coord = pd.DataFrame(location_json['labeledLatLngs'])\n        latitude = coord['lat'][0]\n        longitude = coord['lng'][0]\n    except KeyError:  # Some of the locations does not have 'labeledLatLngs', but just JSON string\n        try:\n            location_json = ast.literal_eval(location)\n            latitude = location_json['lat']\n            longitude = location_json['lng']\n        except ValueError:  # Some of those JSON string does not have 'quotes' around the values\n            latitude = location['lat']\n            longitude = location['lng']\n\n    name = u'Hotel: {}'.format(venue)\n    label = folium.Popup(name, parse_html=True, max_width=2650)\n\n    folium.CircleMarker(\n        [latitude, longitude],\n        radius=3,\n        popup=label,\n        color='blue',\n        fill=True,\n        # fill_color='#3186cc',\n        fillOpacity=0.7).add_to(map_Algarve)\n\nmap_Algarve"
        },
        {
            "cell_type": "code",
            "execution_count": null,
            "metadata": {},
            "outputs": [],
            "source": "all_hotels2show_map = pd.DataFrame(df_all_hotels_sorted)\n\nfor ind in df_all_hotels_sorted.index:\n    location = df_all_hotels_sorted['location'][ind]\n    location_json = ast.literal_eval(location)\n    try:\n        coord = pd.DataFrame(location_json['labeledLatLngs'])\n        latitude = coord['lat'][0]\n        longitude = coord['lng'][0]\n    except KeyError:\n        latitude = location_json['lat']\n        longitude = location_json['lng']\n\n    all_hotels2show_map.loc[ind, 'latitude'] = latitude\n    all_hotels2show_map.loc[ind, 'longitude'] = longitude\n\nall_hotels2show_map_food_ratio = all_hotels2show_map[['latitude', 'longitude', 'food.ratio']]\nall_hotels2show_map_nightlife_ratio = all_hotels2show_map[['latitude', 'longitude', 'nightlife.ratio']]\nprint(all_hotels2show_map.shape)"
        },
        {
            "cell_type": "code",
            "execution_count": null,
            "metadata": {},
            "outputs": [],
            "source": "all_hotels2show_map_food_ratio.head()"
        },
        {
            "cell_type": "code",
            "execution_count": null,
            "metadata": {},
            "outputs": [],
            "source": "all_hotels2show_map_nightlife_ratio.head()"
        },
        {
            "cell_type": "code",
            "execution_count": null,
            "metadata": {},
            "outputs": [],
            "source": "map_Algarve = folium.Map(location=[map_center_lat, map_center_lng], zoom_start=10)\nHeatMap(all_hotels2show_map_food_ratio).add_to(map_Algarve)\nmap_Algarve"
        },
        {
            "cell_type": "code",
            "execution_count": null,
            "metadata": {},
            "outputs": [],
            "source": "map_Algarve = folium.Map(location=[map_center_lat, map_center_lng], zoom_start=10)\nHeatMap(all_hotels2show_map_nightlife_ratio).add_to(map_Algarve)\nmap_Algarve"
        },
        {
            "cell_type": "code",
            "execution_count": null,
            "metadata": {},
            "outputs": [],
            "source": ""
        },
        {
            "cell_type": "code",
            "execution_count": null,
            "metadata": {},
            "outputs": [],
            "source": ""
        },
        {
            "cell_type": "code",
            "execution_count": null,
            "metadata": {},
            "outputs": [],
            "source": ""
        },
        {
            "cell_type": "code",
            "execution_count": null,
            "metadata": {},
            "outputs": [],
            "source": ""
        },
        {
            "cell_type": "code",
            "execution_count": null,
            "metadata": {},
            "outputs": [],
            "source": ""
        },
        {
            "cell_type": "code",
            "execution_count": null,
            "metadata": {},
            "outputs": [],
            "source": ""
        },
        {
            "cell_type": "code",
            "execution_count": null,
            "metadata": {},
            "outputs": [],
            "source": ""
        },
        {
            "cell_type": "code",
            "execution_count": null,
            "metadata": {},
            "outputs": [],
            "source": ""
        },
        {
            "cell_type": "code",
            "execution_count": null,
            "metadata": {},
            "outputs": [],
            "source": "download_file_cos(credentials,'concelhos.txt','concelhos.txt')\ndownload_file_cos(credentials,'distritos.txt','distritos.txt')\ndownload_file_cos(credentials,'todos_cp.txt','todos_cp.txt')\ndownload_file_cos(credentials,'location_geometry.csv','location_geometry.csv')\ndownload_file_cos(credentials,'hotels_all.csv','hotels_all.csv')\ndownload_file_cos(credentials,'hotels_Resort.csv','hotels_Resort.csv')\ndownload_file_cos(credentials,'food_Hotels.csv','food_Hotels.csv')\ndownload_file_cos(credentials,'food_Resort.csv','food_Resort.csv')\nprint('Done')"
        }
    ],
    "metadata": {
        "kernelspec": {
            "display_name": "Python 3.6",
            "language": "python",
            "name": "python3"
        },
        "language_info": {
            "codemirror_mode": {
                "name": "ipython",
                "version": 3
            },
            "file_extension": ".py",
            "mimetype": "text/x-python",
            "name": "python",
            "nbconvert_exporter": "python",
            "pygments_lexer": "ipython3",
            "version": "3.6.9"
        }
    },
    "nbformat": 4,
    "nbformat_minor": 1
}