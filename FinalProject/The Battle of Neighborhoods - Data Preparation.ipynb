{
    "cells": [
        {
            "cell_type": "code",
            "execution_count": null,
            "metadata": {
                "scrolled": false
            },
            "outputs": [],
            "source": "!pip uninstall -y tensorboard\n!pip uninstall -y tensorflow\n!pip uninstall -y autoai-libs\n\n!pip install -U geocoder\n!pip install -U geopy\n!pip install -U googlemaps\n!pip install -U folium\n!pip install -U numpy\n!pip install -U pandas\n\nimport pandas as pd\nimport numpy as np\n\nfrom pandas import json_normalize  # tranform JSON file into a pandas dataframe\n\nimport googlemaps\nfrom datetime import datetime\nimport requests\nimport geopy\n\ngeopy.geocoders.options.default_user_agent = \"my-application\"\n\nimport ast\nimport json\nimport time\n\nimport folium\nfrom folium.plugins import HeatMap\n\nfrom ibm_botocore.client import Config\nimport ibm_boto3\n\nprint('Ready')"
        },
        {
            "cell_type": "code",
            "execution_count": null,
            "metadata": {},
            "outputs": [],
            "source": "# The code was removed by Watson Studio for sharing."
        },
        {
            "cell_type": "code",
            "execution_count": null,
            "metadata": {},
            "outputs": [],
            "source": "!wget --cookies=on --save-cookies cookies.txt --keep-session-cookies --post-data 'user=EMAIL&password=PASSWORD' 'https://www.ctt.pt/fecas/login?service=https%3A%2F%2Fwww.ctt.pt%2Ffemgu%2Fj_spring_cas_security_check.jspx'\n!wget --cookies=on --load-cookies cookies.txt --keep-session-cookies 'https://www.ctt.pt/feapl_2/app/restricted/postalCodeSearch/postalCodeDownloadFiles!downloadPostalCodeFile.jspx' -O PostCodeFull.Pt.zip"
        },
        {
            "cell_type": "code",
            "execution_count": null,
            "metadata": {},
            "outputs": [],
            "source": "# The code was removed by Watson Studio for sharing."
        },
        {
            "cell_type": "code",
            "execution_count": null,
            "metadata": {},
            "outputs": [],
            "source": "def download_file_cos(credentials,local_file_name,key):  \n    cos = ibm_boto3.client(service_name='s3',\n    ibm_api_key_id=credentials['IBM_API_KEY_ID'],\n    ibm_service_instance_id=credentials['IAM_SERVICE_ID'],\n    ibm_auth_endpoint=credentials['IBM_AUTH_ENDPOINT'],\n    config=Config(signature_version='oauth'),\n    endpoint_url=credentials['ENDPOINT'])\n    try:\n        res=cos.download_file(Bucket=credentials['BUCKET'],Key=key,Filename=local_file_name)\n    except Exception as e:\n        print(Exception, e)\n    else:\n        print('File Downloaded')"
        },
        {
            "cell_type": "code",
            "execution_count": null,
            "metadata": {},
            "outputs": [],
            "source": "def upload_file_cos(credentials,local_file_name,key):  \n    cos = ibm_boto3.client(service_name='s3',\n    ibm_api_key_id=credentials['IBM_API_KEY_ID'],\n    ibm_service_instance_id=credentials['IAM_SERVICE_ID'],\n    ibm_auth_endpoint=credentials['IBM_AUTH_ENDPOINT'],\n    config=Config(signature_version='oauth'),\n    endpoint_url=credentials['ENDPOINT'])\n    try:\n        res=cos.upload_file(Filename=local_file_name, Bucket=credentials['BUCKET'],Key=key)\n    except Exception as e:\n        print(Exception, e)\n    else:\n        print(' File Uploaded')"
        },
        {
            "cell_type": "code",
            "execution_count": null,
            "metadata": {},
            "outputs": [],
            "source": "!ls -la"
        },
        {
            "cell_type": "code",
            "execution_count": null,
            "metadata": {},
            "outputs": [],
            "source": "# This ZIP contains (distritos.txt, concelhos.txt, todos_cp.txt)\n!unzip -x PostCodeFull.Pt.zip"
        },
        {
            "cell_type": "code",
            "execution_count": null,
            "metadata": {},
            "outputs": [],
            "source": "df_DD=pd.read_csv('distritos.txt',sep=';',encoding='iso8859_15')\ndf_DD.head()"
        },
        {
            "cell_type": "code",
            "execution_count": null,
            "metadata": {},
            "outputs": [],
            "source": "df_CC=pd.read_csv('concelhos.txt',sep=';',encoding='iso8859_15')\ndf_CC=df_CC[df_CC['DD']==8]\ndf_CC.head()"
        },
        {
            "cell_type": "code",
            "execution_count": null,
            "metadata": {},
            "outputs": [],
            "source": "df_PostalCode=pd.read_csv('todos_cp.txt',sep=';',encoding='iso8859_15', index_col=False).reset_index()[['DD','CC','LLLL','LOCALIDADE','CP4','CP3','CPALF']]\ndf_PostalCode.head()"
        },
        {
            "cell_type": "code",
            "execution_count": null,
            "metadata": {},
            "outputs": [],
            "source": "# Select only location from Algarve\ndf_CPALF_Algarve=pd.DataFrame(df_PostalCode[df_PostalCode['DD']==8].groupby(['CPALF'])['CP4'].count()).reset_index()[['CPALF']]\ndf_CPALF_Algarve.head()"
        },
        {
            "cell_type": "code",
            "execution_count": null,
            "metadata": {},
            "outputs": [],
            "source": "# The code was removed by Watson Studio for sharing."
        },
        {
            "cell_type": "code",
            "execution_count": null,
            "metadata": {},
            "outputs": [],
            "source": "df_all_locations=pd.DataFrame()\nfor ind in df_CPALF_Algarve.index:\n    address='{}, Algarve, Portugal'.format(df_CPALF_Algarve['CPALF'][ind])\n    try:\n        gmaps = googlemaps.Client(key=GOOGLE_MAPS_API_KEY,timeout=1)\n        location = gmaps.geocode(address)\n    except geopy.exc.GeocoderUnavailable:\n        print('GeocoderUnavailable')\n        print(name)\n    except urllib.error.URLError:\n        print('URLError')\n        print(name)\n    except OSError:\n        print('OSError')\n        print(name)\n\n\n    if df_all_locations.empty:\n        df_all_locations=pd.DataFrame(json_normalize(location))\n    else:\n        df_all_locations=df_all_locations.append(json_normalize(location),sort=False)\n\nprint(df_all_locations.shape)"
        },
        {
            "cell_type": "code",
            "execution_count": null,
            "metadata": {},
            "outputs": [],
            "source": "df_location_geometry=df_all_locations.reset_index()[['geometry.location.lat','geometry.location.lng']].reset_index()\ndf_location_geometry.to_csv('location_geometry.csv',index=False)\nupload_file_cos(credentials,'location_geometry.csv','location_geometry.csv')"
        },
        {
            "cell_type": "code",
            "execution_count": null,
            "metadata": {},
            "outputs": [],
            "source": "# Remove duplications\ndf_location_geometry_sorted=df_location_geometry.sort_values(by=['geometry.location.lat', 'geometry.location.lng'],ignore_index=True).reset_index()[['geometry.location.lat','geometry.location.lng']]\ndf_location_geometry_sorted.head()"
        },
        {
            "cell_type": "code",
            "execution_count": null,
            "metadata": {},
            "outputs": [],
            "source": "# The code was removed by Watson Studio for sharing."
        },
        {
            "cell_type": "code",
            "execution_count": null,
            "metadata": {},
            "outputs": [],
            "source": "#category='4bf58dd8d48988d12f951735' # Resort\ncategory='4bf58dd8d48988d1fa931735' # Hotel\n\ndf_all_hotels=pd.DataFrame()\nfor ind in df_location_geometry_sorted.index:\n\n    latitude = df_location_geometry_sorted['geometry.location.lat'][ind]\n    longitude = df_location_geometry_sorted['geometry.location.lng'][ind]\n\n    url = 'https://api.foursquare.com/v2/venues/search?&client_id={}&client_secret={}&v={}&ll={},{}&radius={}&limit={}&intent=browse&categoryId={}'.format(\n        CLIENT_ID, \n        CLIENT_SECRET,\n        VERSION,\n        latitude,\n        longitude,\n        9999,\n        50,\n        category)\n    results = json_normalize(requests.get(url).json())\n    try:\n        if not results.empty:\n            response_venues=results['response.venues'][0]\n            if response_venues:\n                if df_all_hotels.empty:\n                    df_all_hotels=pd.DataFrame(response_venues)\n                else:\n                    df_all_hotels=df_all_hotels.append(response_venues,sort=False)\n    except KeyError:\n        print('Error')\n\nprint(len(df_all_hotels))"
        },
        {
            "cell_type": "code",
            "execution_count": null,
            "metadata": {},
            "outputs": [],
            "source": "# Remove duplications\ndf_all_hotels_sorted = df_all_hotels.sort_values(by=['name'], ignore_index=True).reset_index()[['id', 'location', 'name']]\ndf_all_hotels_sorted.drop_duplicates(subset=['id'],ignore_index=True,inplace=True)\ndf_all_hotels_sorted.head()"
        },
        {
            "cell_type": "code",
            "execution_count": null,
            "metadata": {},
            "outputs": [],
            "source": "# Searching for all food venues\ncategory='4d4b7105d754a06374d81259' # Food\ndf_all_food=pd.DataFrame()\n\nfor ind in df_all_hotels_sorted.index:\n\n    location = df_all_hotels_sorted['location'][ind]\n    try:\n        coord=pd.DataFrame(location['labeledLatLngs'])\n        latitude = coord['lat'][0]\n        longitude = coord['lng'][0]\n    except KeyError: # Some of the locations does not have 'labeledLatLngs', but just JSON string\n        try:\n            location_json = ast.literal_eval(location)\n            latitude = location_json['lat']\n            longitude = location_json['lng']\n        except ValueError: # Some of those JSON string does not have 'quotes' around the values\n            latitude = location['lat']\n            longitude = location['lng']\n\n    try:\n        url = 'https://api.foursquare.com/v2/venues/search?&client_id={}&client_secret={}&v={}&ll={},{}&radius={}&limit={}&intent=browse&categoryId={}'.format(\n            CLIENT_ID, \n            CLIENT_SECRET,\n            VERSION,\n            latitude,\n            longitude,\n            999,\n            50,\n            category)\n        results = json_normalize(requests.get(url).json())\n\n        if not results.empty:\n            response_venues=results['response.venues'][0]\n            if response_venues:\n                if df_all_food.empty:\n                    df_all_food=pd.DataFrame(response_venues)\n                    df_all_hotels_sorted['food.count'] = 0\n                else:\n                    df_all_food=df_all_food.append(response_venues,sort=False)\n                df_all_hotels_sorted.loc[ind, 'food.count'] = len(response_venues)\n\n    except KeyError:\n        print('Error')\n\nprint(df_all_food.shape)"
        },
        {
            "cell_type": "code",
            "execution_count": null,
            "metadata": {},
            "outputs": [],
            "source": "df_all_food_sorted=df_all_food.sort_values(by=['name'],ignore_index=True).reset_index()[['id','location','name']]\ndf_all_food_sorted.drop_duplicates(subset=['id'],ignore_index=True,inplace=True)\ndf_all_food_sorted.shape"
        },
        {
            "cell_type": "code",
            "execution_count": null,
            "metadata": {},
            "outputs": [],
            "source": "df_all_food_sorted.head()"
        },
        {
            "cell_type": "code",
            "execution_count": null,
            "metadata": {},
            "outputs": [],
            "source": "df_all_food_sorted.to_csv('food_Hotels.csv',index=False)\nupload_file_cos(credentials,'food_Hotels.csv','food_Hotels.csv')"
        },
        {
            "cell_type": "code",
            "execution_count": null,
            "metadata": {},
            "outputs": [],
            "source": "# Searching for all Nightlife venues\ncategory = '4d4b7105d754a06376d81259'  # Nightlife Spot\ndf_all_Nightlife=pd.DataFrame()\n\nfor ind in df_all_hotels_sorted.index:\n\n    location = df_all_hotels_sorted['location'][ind]\n    try:\n        coord=pd.DataFrame(location['labeledLatLngs'])\n        latitude = coord['lat'][0]\n        longitude = coord['lng'][0]\n    except KeyError: # Some of the locations does not have 'labeledLatLngs', but just JSON string\n        try:\n            location_json = ast.literal_eval(location)\n            latitude = location_json['lat']\n            longitude = location_json['lng']\n        except ValueError: # Some of those JSON string does not have 'quotes' around the values\n            latitude = location['lat']\n            longitude = location['lng']\n\n    try:\n        url = 'https://api.foursquare.com/v2/venues/search?&client_id={}&client_secret={}&v={}&ll={},{}&radius={}&limit={}&intent=browse&categoryId={}'.format(\n            CLIENT_ID, \n            CLIENT_SECRET,\n            VERSION,\n            latitude,\n            longitude,\n            999,\n            50,\n            category)\n        results = json_normalize(requests.get(url).json())\n\n        if not results.empty:\n            response_venues=results['response.venues'][0]\n            if response_venues:\n                if df_all_Nightlife.empty:\n                    df_all_Nightlife=pd.DataFrame(response_venues)\n                    df_all_hotels_sorted['nightlife.count'] = 0\n                else:\n                    df_all_Nightlife=df_all_Nightlife.append(response_venues,sort=False)\n                df_all_hotels_sorted.loc[ind, 'nightlife.count'] = len(response_venues)\n\n    except KeyError:\n        print('Error')\n\nprint(df_all_Nightlife.shape)"
        },
        {
            "cell_type": "code",
            "execution_count": null,
            "metadata": {},
            "outputs": [],
            "source": "df_all_Nightlife_sorted=df_all_Nightlife.sort_values(by=['name'],ignore_index=True).reset_index()[['id','location','name']]\ndf_all_Nightlife_sorted.drop_duplicates(subset=['id'],ignore_index=True,inplace=True)\ndf_all_Nightlife_sorted.shape"
        },
        {
            "cell_type": "code",
            "execution_count": null,
            "metadata": {},
            "outputs": [],
            "source": "df_all_Nightlife_sorted.head()"
        },
        {
            "cell_type": "code",
            "execution_count": null,
            "metadata": {},
            "outputs": [],
            "source": "df_all_Nightlife_sorted.to_csv('nightlife_Hotels.csv',index=False)\nupload_file_cos(credentials,'nightlife_Hotels.csv','nightlife_Hotels.csv')"
        },
        {
            "cell_type": "code",
            "execution_count": null,
            "metadata": {},
            "outputs": [],
            "source": "df_all_hotels_sorted['food.ratio'] = df_all_hotels_sorted['food.count'] / 50\ndf_all_hotels_sorted['nightlife.ratio'] = df_all_hotels_sorted['nightlife.count'] / 50\ndf_all_hotels_sorted.head()"
        },
        {
            "cell_type": "code",
            "execution_count": null,
            "metadata": {},
            "outputs": [],
            "source": "df_all_hotels_sorted.to_csv('hotels_all.csv',index=False)\nupload_file_cos(credentials,'hotels_all.csv','hotels_all.csv')"
        }
    ],
    "metadata": {
        "kernelspec": {
            "display_name": "Python 3.6",
            "language": "python",
            "name": "python3"
        },
        "language_info": {
            "codemirror_mode": {
                "name": "ipython",
                "version": 3
            },
            "file_extension": ".py",
            "mimetype": "text/x-python",
            "name": "python",
            "nbconvert_exporter": "python",
            "pygments_lexer": "ipython3",
            "version": "3.6.9"
        }
    },
    "nbformat": 4,
    "nbformat_minor": 1
}