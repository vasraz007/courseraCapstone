{
    "cells": [
        {
            "cell_type": "code",
            "execution_count": 51,
            "metadata": {
                "scrolled": false
            },
            "outputs": [
                {
                    "name": "stdout",
                    "output_type": "stream",
                    "text": "\u001b[33mWARNING: Skipping tensorboard as it is not installed.\u001b[0m\n\u001b[33mWARNING: Skipping tensorflow as it is not installed.\u001b[0m\n\u001b[33mWARNING: Skipping autoai-libs as it is not installed.\u001b[0m\nRequirement already up-to-date: geocoder in /opt/conda/envs/Python36/lib/python3.6/site-packages (1.38.1)\nRequirement already satisfied, skipping upgrade: click in /opt/conda/envs/Python36/lib/python3.6/site-packages (from geocoder) (7.0)\nRequirement already satisfied, skipping upgrade: ratelim in /opt/conda/envs/Python36/lib/python3.6/site-packages (from geocoder) (0.1.6)\nRequirement already satisfied, skipping upgrade: future in /opt/conda/envs/Python36/lib/python3.6/site-packages (from geocoder) (0.17.1)\nRequirement already satisfied, skipping upgrade: six in /opt/conda/envs/Python36/lib/python3.6/site-packages (from geocoder) (1.12.0)\nRequirement already satisfied, skipping upgrade: requests in /opt/conda/envs/Python36/lib/python3.6/site-packages (from geocoder) (2.21.0)\nRequirement already satisfied, skipping upgrade: decorator in /opt/conda/envs/Python36/lib/python3.6/site-packages (from ratelim->geocoder) (4.3.2)\nRequirement already satisfied, skipping upgrade: urllib3<1.25,>=1.21.1 in /opt/conda/envs/Python36/lib/python3.6/site-packages (from requests->geocoder) (1.24.1)\nRequirement already satisfied, skipping upgrade: idna<2.9,>=2.5 in /opt/conda/envs/Python36/lib/python3.6/site-packages (from requests->geocoder) (2.8)\nRequirement already satisfied, skipping upgrade: certifi>=2017.4.17 in /opt/conda/envs/Python36/lib/python3.6/site-packages (from requests->geocoder) (2020.4.5.1)\nRequirement already satisfied, skipping upgrade: chardet<3.1.0,>=3.0.2 in /opt/conda/envs/Python36/lib/python3.6/site-packages (from requests->geocoder) (3.0.4)\nRequirement already up-to-date: geopy in /opt/conda/envs/Python36/lib/python3.6/site-packages (1.21.0)\nRequirement already satisfied, skipping upgrade: geographiclib<2,>=1.49 in /opt/conda/envs/Python36/lib/python3.6/site-packages (from geopy) (1.49)\nRequirement already up-to-date: googlemaps in /opt/conda/envs/Python36/lib/python3.6/site-packages (4.2.2)\nRequirement already satisfied, skipping upgrade: requests<3.0,>=2.20.0 in /opt/conda/envs/Python36/lib/python3.6/site-packages (from googlemaps) (2.21.0)\nRequirement already satisfied, skipping upgrade: certifi>=2017.4.17 in /opt/conda/envs/Python36/lib/python3.6/site-packages (from requests<3.0,>=2.20.0->googlemaps) (2020.4.5.1)\nRequirement already satisfied, skipping upgrade: chardet<3.1.0,>=3.0.2 in /opt/conda/envs/Python36/lib/python3.6/site-packages (from requests<3.0,>=2.20.0->googlemaps) (3.0.4)\nRequirement already satisfied, skipping upgrade: urllib3<1.25,>=1.21.1 in /opt/conda/envs/Python36/lib/python3.6/site-packages (from requests<3.0,>=2.20.0->googlemaps) (1.24.1)\nRequirement already satisfied, skipping upgrade: idna<2.9,>=2.5 in /opt/conda/envs/Python36/lib/python3.6/site-packages (from requests<3.0,>=2.20.0->googlemaps) (2.8)\nRequirement already up-to-date: folium in /opt/conda/envs/Python36/lib/python3.6/site-packages (0.10.1)\nRequirement already satisfied, skipping upgrade: numpy in /opt/conda/envs/Python36/lib/python3.6/site-packages (from folium) (1.18.3)\nRequirement already satisfied, skipping upgrade: requests in /opt/conda/envs/Python36/lib/python3.6/site-packages (from folium) (2.21.0)\nRequirement already satisfied, skipping upgrade: jinja2>=2.9 in /opt/conda/envs/Python36/lib/python3.6/site-packages (from folium) (2.10)\nRequirement already satisfied, skipping upgrade: branca>=0.3.0 in /opt/conda/envs/Python36/lib/python3.6/site-packages (from folium) (0.4.0)\nRequirement already satisfied, skipping upgrade: urllib3<1.25,>=1.21.1 in /opt/conda/envs/Python36/lib/python3.6/site-packages (from requests->folium) (1.24.1)\nRequirement already satisfied, skipping upgrade: idna<2.9,>=2.5 in /opt/conda/envs/Python36/lib/python3.6/site-packages (from requests->folium) (2.8)\nRequirement already satisfied, skipping upgrade: chardet<3.1.0,>=3.0.2 in /opt/conda/envs/Python36/lib/python3.6/site-packages (from requests->folium) (3.0.4)\nRequirement already satisfied, skipping upgrade: certifi>=2017.4.17 in /opt/conda/envs/Python36/lib/python3.6/site-packages (from requests->folium) (2020.4.5.1)\nRequirement already satisfied, skipping upgrade: MarkupSafe>=0.23 in /opt/conda/envs/Python36/lib/python3.6/site-packages (from jinja2>=2.9->folium) (1.1.0)\nRequirement already satisfied, skipping upgrade: six in /opt/conda/envs/Python36/lib/python3.6/site-packages (from branca>=0.3.0->folium) (1.12.0)\nRequirement already up-to-date: numpy in /opt/conda/envs/Python36/lib/python3.6/site-packages (1.18.3)\nRequirement already up-to-date: pandas in /opt/conda/envs/Python36/lib/python3.6/site-packages (1.0.3)\nRequirement already satisfied, skipping upgrade: pytz>=2017.2 in /opt/conda/envs/Python36/lib/python3.6/site-packages (from pandas) (2018.9)\nRequirement already satisfied, skipping upgrade: numpy>=1.13.3 in /opt/conda/envs/Python36/lib/python3.6/site-packages (from pandas) (1.18.3)\nRequirement already satisfied, skipping upgrade: python-dateutil>=2.6.1 in /opt/conda/envs/Python36/lib/python3.6/site-packages (from pandas) (2.7.5)\nRequirement already satisfied, skipping upgrade: six>=1.5 in /opt/conda/envs/Python36/lib/python3.6/site-packages (from python-dateutil>=2.6.1->pandas) (1.12.0)\nReady\n"
                }
            ],
            "source": "!pip uninstall -y tensorboard\n!pip uninstall -y tensorflow\n!pip uninstall -y autoai-libs\n\n!pip install -U geocoder\n!pip install -U geopy\n!pip install -U googlemaps\n!pip install -U folium\n!pip install -U numpy\n!pip install -U pandas\n\nimport pandas as pd\nimport numpy as np\n\nfrom pandas import json_normalize  # tranform JSON file into a pandas dataframe\n\nimport googlemaps\nfrom datetime import datetime\nimport requests\nimport geopy\n\ngeopy.geocoders.options.default_user_agent = \"my-application\"\n\nimport ast\nimport json\nimport time\n\nimport folium\nfrom folium.plugins import HeatMap\n\nfrom ibm_botocore.client import Config\nimport ibm_boto3\n\nprint('Ready')"
        },
        {
            "cell_type": "code",
            "execution_count": 52,
            "metadata": {},
            "outputs": [],
            "source": "# The code was removed by Watson Studio for sharing."
        },
        {
            "cell_type": "code",
            "execution_count": 53,
            "metadata": {},
            "outputs": [
                {
                    "name": "stdout",
                    "output_type": "stream",
                    "text": "--2020-04-25 14:37:44--  https://www.ctt.pt/fecas/login?service=https%3A%2F%2Fwww.ctt.pt%2Ffemgu%2Fj_spring_cas_security_check.jspx\nResolving www.ctt.pt (www.ctt.pt)... 62.28.56.1\nConnecting to www.ctt.pt (www.ctt.pt)|62.28.56.1|:443... connected.\nHTTP request sent, awaiting response... 200 OK\nLength: 10936 (11K) [text/html]\nSaving to: \u2018login?service=https:%2F%2Fwww.ctt.pt%2Ffemgu%2Fj_spring_cas_security_check.jspx.1\u2019\n\n100%[======================================>] 10,936      --.-K/s   in 0.04s   \n\n2020-04-25 14:37:45 (241 KB/s) - \u2018login?service=https:%2F%2Fwww.ctt.pt%2Ffemgu%2Fj_spring_cas_security_check.jspx.1\u2019 saved [10936/10936]\n\n--2020-04-25 14:37:46--  https://www.ctt.pt/feapl_2/app/restricted/postalCodeSearch/postalCodeDownloadFiles!downloadPostalCodeFile.jspx\nResolving www.ctt.pt (www.ctt.pt)... 62.28.56.1\nConnecting to www.ctt.pt (www.ctt.pt)|62.28.56.1|:443... connected.\nHTTP request sent, awaiting response... 302 Found\nLocation: https://www.ctt.pt/fecas/login?service=https%3A%2F%2Fwww.ctt.pt%2Ffeapl_2%2Fj_spring_cas_security_check.jspx%3Bjsessionid%3DzCWMXuw4kPv3XaE83BNYjVN5vLq9r15PhhC06zbF.application-server-six-41 [following]\n--2020-04-25 14:37:47--  https://www.ctt.pt/fecas/login?service=https%3A%2F%2Fwww.ctt.pt%2Ffeapl_2%2Fj_spring_cas_security_check.jspx%3Bjsessionid%3DzCWMXuw4kPv3XaE83BNYjVN5vLq9r15PhhC06zbF.application-server-six-41\nConnecting to www.ctt.pt (www.ctt.pt)|62.28.56.1|:443... connected.\nHTTP request sent, awaiting response... 200 OK\nLength: 9835 (9.6K) [text/html]\nSaving to: \u2018PostCodeFull.Pt.zip\u2019\n\n100%[======================================>] 9,835       --.-K/s   in 0.04s   \n\n2020-04-25 14:37:47 (215 KB/s) - \u2018PostCodeFull.Pt.zip\u2019 saved [9835/9835]\n\n"
                }
            ],
            "source": "!wget --cookies=on --save-cookies cookies.txt --keep-session-cookies --post-data 'user=EMAIL&password=PASSWORD' 'https://www.ctt.pt/fecas/login?service=https%3A%2F%2Fwww.ctt.pt%2Ffemgu%2Fj_spring_cas_security_check.jspx'\n!wget --cookies=on --load-cookies cookies.txt --keep-session-cookies 'https://www.ctt.pt/feapl_2/app/restricted/postalCodeSearch/postalCodeDownloadFiles!downloadPostalCodeFile.jspx' -O PostCodeFull.Pt.zip"
        },
        {
            "cell_type": "code",
            "execution_count": 54,
            "metadata": {},
            "outputs": [],
            "source": "# The code was removed by Watson Studio for sharing."
        },
        {
            "cell_type": "code",
            "execution_count": 55,
            "metadata": {},
            "outputs": [],
            "source": "def download_file_cos(credentials,local_file_name,key):  \n    cos = ibm_boto3.client(service_name='s3',\n    ibm_api_key_id=credentials['IBM_API_KEY_ID'],\n    ibm_service_instance_id=credentials['IAM_SERVICE_ID'],\n    ibm_auth_endpoint=credentials['IBM_AUTH_ENDPOINT'],\n    config=Config(signature_version='oauth'),\n    endpoint_url=credentials['ENDPOINT'])\n    try:\n        res=cos.download_file(Bucket=credentials['BUCKET'],Key=key,Filename=local_file_name)\n    except Exception as e:\n        print(Exception, e)\n    else:\n        print('File Downloaded')"
        },
        {
            "cell_type": "code",
            "execution_count": 56,
            "metadata": {},
            "outputs": [],
            "source": "def upload_file_cos(credentials,local_file_name,key):  \n    cos = ibm_boto3.client(service_name='s3',\n    ibm_api_key_id=credentials['IBM_API_KEY_ID'],\n    ibm_service_instance_id=credentials['IAM_SERVICE_ID'],\n    ibm_auth_endpoint=credentials['IBM_AUTH_ENDPOINT'],\n    config=Config(signature_version='oauth'),\n    endpoint_url=credentials['ENDPOINT'])\n    try:\n        res=cos.upload_file(Filename=local_file_name, Bucket=credentials['BUCKET'],Key=key)\n    except Exception as e:\n        print(Exception, e)\n    else:\n        print(' File Uploaded')"
        },
        {
            "cell_type": "code",
            "execution_count": 57,
            "metadata": {},
            "outputs": [
                {
                    "name": "stdout",
                    "output_type": "stream",
                    "text": "total 28260\r\ndrwxr-x--- 2 dsxuser dsxuser     4096 Apr 25 14:37 .\r\ndrwx------ 1 dsxuser dsxuser     4096 Apr 25 09:50 ..\r\n-rw-r----- 1 dsxuser dsxuser     5703 Apr 25 10:35 concelhos.txt\r\n-rw-r----- 1 dsxuser dsxuser      201 Apr 25 14:37 cookies.txt\r\n-rw-r----- 1 dsxuser dsxuser      456 Apr 25 10:35 distritos.txt\r\n-rw-r----- 1 dsxuser dsxuser  1216044 Apr 25 13:33 food_Hotels.csv\r\n-rw-r----- 1 dsxuser dsxuser   283782 Apr 25 14:32 hotels_all.csv\r\n-rw-r----- 1 dsxuser dsxuser   119358 Apr 25 10:35 hotels_Resort.csv\r\n-rw-r----- 1 dsxuser dsxuser     2041 Apr 25 12:50 location_geometry.csv\r\n-rw-r----- 1 dsxuser dsxuser    10936 Apr 25 11:48 login?service=https:%2F%2Fwww.ctt.pt%2Ffemgu%2Fj_spring_cas_security_check.jspx\r\n-rw-r----- 1 dsxuser dsxuser    10936 Apr 25 14:37 login?service=https:%2F%2Fwww.ctt.pt%2Ffemgu%2Fj_spring_cas_security_check.jspx.1\r\n-rw-r----- 1 dsxuser dsxuser   438008 Apr 25 13:39 nightlife_Hotels.csv\r\n-rw-r----- 1 dsxuser dsxuser     9835 Apr 25 14:37 PostCodeFull.Pt.zip\r\n-rw-r----- 1 dsxuser dsxuser 26807486 Apr 25 10:35 todos_cp.txt\r\n"
                }
            ],
            "source": "!ls -la"
        },
        {
            "cell_type": "code",
            "execution_count": 58,
            "metadata": {},
            "outputs": [
                {
                    "name": "stdout",
                    "output_type": "stream",
                    "text": "Archive:  PostCodeFull.Pt.zip\r\n  End-of-central-directory signature not found.  Either this file is not\r\n  a zipfile, or it constitutes one disk of a multi-part archive.  In the\r\n  latter case the central directory and zipfile comment will be found on\r\n  the last disk(s) of this archive.\r\nunzip:  cannot find zipfile directory in one of PostCodeFull.Pt.zip or\r\n        PostCodeFull.Pt.zip.zip, and cannot find PostCodeFull.Pt.zip.ZIP, period.\r\n"
                }
            ],
            "source": "# This ZIP contains (distritos.txt, concelhos.txt, todos_cp.txt)\n!unzip -x PostCodeFull.Pt.zip"
        },
        {
            "cell_type": "code",
            "execution_count": 59,
            "metadata": {},
            "outputs": [
                {
                    "data": {
                        "text/html": "<div>\n<style scoped>\n    .dataframe tbody tr th:only-of-type {\n        vertical-align: middle;\n    }\n\n    .dataframe tbody tr th {\n        vertical-align: top;\n    }\n\n    .dataframe thead th {\n        text-align: right;\n    }\n</style>\n<table border=\"1\" class=\"dataframe\">\n  <thead>\n    <tr style=\"text-align: right;\">\n      <th></th>\n      <th>DD</th>\n      <th>DESIG</th>\n    </tr>\n  </thead>\n  <tbody>\n    <tr>\n      <th>0</th>\n      <td>1</td>\n      <td>Aveiro</td>\n    </tr>\n    <tr>\n      <th>1</th>\n      <td>2</td>\n      <td>Beja</td>\n    </tr>\n    <tr>\n      <th>2</th>\n      <td>3</td>\n      <td>Braga</td>\n    </tr>\n    <tr>\n      <th>3</th>\n      <td>4</td>\n      <td>Bragan\u00e7a</td>\n    </tr>\n    <tr>\n      <th>4</th>\n      <td>5</td>\n      <td>Castelo Branco</td>\n    </tr>\n  </tbody>\n</table>\n</div>",
                        "text/plain": "   DD           DESIG\n0   1          Aveiro\n1   2            Beja\n2   3           Braga\n3   4        Bragan\u00e7a\n4   5  Castelo Branco"
                    },
                    "execution_count": 59,
                    "metadata": {},
                    "output_type": "execute_result"
                }
            ],
            "source": "df_DD=pd.read_csv('distritos.txt',sep=';',encoding='iso8859_15')\ndf_DD.head()"
        },
        {
            "cell_type": "code",
            "execution_count": 60,
            "metadata": {},
            "outputs": [
                {
                    "data": {
                        "text/html": "<div>\n<style scoped>\n    .dataframe tbody tr th:only-of-type {\n        vertical-align: middle;\n    }\n\n    .dataframe tbody tr th {\n        vertical-align: top;\n    }\n\n    .dataframe thead th {\n        text-align: right;\n    }\n</style>\n<table border=\"1\" class=\"dataframe\">\n  <thead>\n    <tr style=\"text-align: right;\">\n      <th></th>\n      <th>DD</th>\n      <th>CC</th>\n      <th>DESIG</th>\n    </tr>\n  </thead>\n  <tbody>\n    <tr>\n      <th>101</th>\n      <td>8</td>\n      <td>6</td>\n      <td>Lagoa (Algarve)</td>\n    </tr>\n    <tr>\n      <th>102</th>\n      <td>8</td>\n      <td>7</td>\n      <td>Lagos</td>\n    </tr>\n    <tr>\n      <th>103</th>\n      <td>8</td>\n      <td>8</td>\n      <td>Loul\u00e9</td>\n    </tr>\n    <tr>\n      <th>104</th>\n      <td>8</td>\n      <td>9</td>\n      <td>Monchique</td>\n    </tr>\n    <tr>\n      <th>105</th>\n      <td>8</td>\n      <td>10</td>\n      <td>Olh\u00e3o</td>\n    </tr>\n  </tbody>\n</table>\n</div>",
                        "text/plain": "     DD  CC            DESIG\n101   8   6  Lagoa (Algarve)\n102   8   7            Lagos\n103   8   8            Loul\u00e9\n104   8   9        Monchique\n105   8  10            Olh\u00e3o"
                    },
                    "execution_count": 60,
                    "metadata": {},
                    "output_type": "execute_result"
                }
            ],
            "source": "df_CC=pd.read_csv('concelhos.txt',sep=';',encoding='iso8859_15')\ndf_CC=df_CC[df_CC['DD']==8]\ndf_CC.head()"
        },
        {
            "cell_type": "code",
            "execution_count": 61,
            "metadata": {},
            "outputs": [
                {
                    "data": {
                        "text/html": "<div>\n<style scoped>\n    .dataframe tbody tr th:only-of-type {\n        vertical-align: middle;\n    }\n\n    .dataframe tbody tr th {\n        vertical-align: top;\n    }\n\n    .dataframe thead th {\n        text-align: right;\n    }\n</style>\n<table border=\"1\" class=\"dataframe\">\n  <thead>\n    <tr style=\"text-align: right;\">\n      <th></th>\n      <th>DD</th>\n      <th>CC</th>\n      <th>LLLL</th>\n      <th>LOCALIDADE</th>\n      <th>CP4</th>\n      <th>CP3</th>\n      <th>CPALF</th>\n    </tr>\n  </thead>\n  <tbody>\n    <tr>\n      <th>0</th>\n      <td>1</td>\n      <td>1</td>\n      <td>249</td>\n      <td>Alcafaz</td>\n      <td>3750</td>\n      <td>11</td>\n      <td>AGAD\u00c3O</td>\n    </tr>\n    <tr>\n      <th>1</th>\n      <td>1</td>\n      <td>1</td>\n      <td>250</td>\n      <td>Caselho</td>\n      <td>3750</td>\n      <td>12</td>\n      <td>AGAD\u00c3O</td>\n    </tr>\n    <tr>\n      <th>2</th>\n      <td>1</td>\n      <td>1</td>\n      <td>251</td>\n      <td>Corga da Serra</td>\n      <td>3750</td>\n      <td>13</td>\n      <td>AGAD\u00c3O</td>\n    </tr>\n    <tr>\n      <th>3</th>\n      <td>1</td>\n      <td>1</td>\n      <td>252</td>\n      <td>Foz</td>\n      <td>3750</td>\n      <td>14</td>\n      <td>AGAD\u00c3O</td>\n    </tr>\n    <tr>\n      <th>4</th>\n      <td>1</td>\n      <td>1</td>\n      <td>253</td>\n      <td>Guistola</td>\n      <td>3750</td>\n      <td>15</td>\n      <td>AGAD\u00c3O</td>\n    </tr>\n  </tbody>\n</table>\n</div>",
                        "text/plain": "   DD  CC  LLLL      LOCALIDADE   CP4  CP3   CPALF\n0   1   1   249         Alcafaz  3750   11  AGAD\u00c3O\n1   1   1   250         Caselho  3750   12  AGAD\u00c3O\n2   1   1   251  Corga da Serra  3750   13  AGAD\u00c3O\n3   1   1   252             Foz  3750   14  AGAD\u00c3O\n4   1   1   253        Guistola  3750   15  AGAD\u00c3O"
                    },
                    "execution_count": 61,
                    "metadata": {},
                    "output_type": "execute_result"
                }
            ],
            "source": "df_PostalCode=pd.read_csv('todos_cp.txt',sep=';',encoding='iso8859_15', index_col=False).reset_index()[['DD','CC','LLLL','LOCALIDADE','CP4','CP3','CPALF']]\ndf_PostalCode.head()"
        },
        {
            "cell_type": "code",
            "execution_count": 62,
            "metadata": {},
            "outputs": [
                {
                    "data": {
                        "text/html": "<div>\n<style scoped>\n    .dataframe tbody tr th:only-of-type {\n        vertical-align: middle;\n    }\n\n    .dataframe tbody tr th {\n        vertical-align: top;\n    }\n\n    .dataframe thead th {\n        text-align: right;\n    }\n</style>\n<table border=\"1\" class=\"dataframe\">\n  <thead>\n    <tr style=\"text-align: right;\">\n      <th></th>\n      <th>CPALF</th>\n    </tr>\n  </thead>\n  <tbody>\n    <tr>\n      <th>0</th>\n      <td>ALBUFEIRA</td>\n    </tr>\n    <tr>\n      <th>1</th>\n      <td>ALCANTARILHA</td>\n    </tr>\n    <tr>\n      <th>2</th>\n      <td>ALCOUTIM</td>\n    </tr>\n    <tr>\n      <th>3</th>\n      <td>ALFERCE</td>\n    </tr>\n    <tr>\n      <th>4</th>\n      <td>ALGOZ</td>\n    </tr>\n  </tbody>\n</table>\n</div>",
                        "text/plain": "          CPALF\n0     ALBUFEIRA\n1  ALCANTARILHA\n2      ALCOUTIM\n3       ALFERCE\n4         ALGOZ"
                    },
                    "execution_count": 62,
                    "metadata": {},
                    "output_type": "execute_result"
                }
            ],
            "source": "# Select only location from Algarve\ndf_CPALF_Algarve=pd.DataFrame(df_PostalCode[df_PostalCode['DD']==8].groupby(['CPALF'])['CP4'].count()).reset_index()[['CPALF']]\ndf_CPALF_Algarve.head()"
        },
        {
            "cell_type": "code",
            "execution_count": 63,
            "metadata": {},
            "outputs": [],
            "source": "# The code was removed by Watson Studio for sharing."
        },
        {
            "cell_type": "code",
            "execution_count": 64,
            "metadata": {},
            "outputs": [
                {
                    "name": "stdout",
                    "output_type": "stream",
                    "text": "(73, 18)\n"
                }
            ],
            "source": "df_all_locations=pd.DataFrame()\nfor ind in df_CPALF_Algarve.index:\n    address='{}, Algarve, Portugal'.format(df_CPALF_Algarve['CPALF'][ind])\n    try:\n        gmaps = googlemaps.Client(key=GOOGLE_MAPS_API_KEY,timeout=1)\n        location = gmaps.geocode(address)\n    except geopy.exc.GeocoderUnavailable:\n        print('GeocoderUnavailable')\n        print(name)\n    except urllib.error.URLError:\n        print('URLError')\n        print(name)\n    except OSError:\n        print('OSError')\n        print(name)\n\n\n    if df_all_locations.empty:\n        df_all_locations=pd.DataFrame(json_normalize(location))\n    else:\n        df_all_locations=df_all_locations.append(json_normalize(location),sort=False)\n\nprint(df_all_locations.shape)"
        },
        {
            "cell_type": "code",
            "execution_count": 65,
            "metadata": {},
            "outputs": [
                {
                    "name": "stdout",
                    "output_type": "stream",
                    "text": " File Uploaded\n"
                }
            ],
            "source": "df_location_geometry=df_all_locations.reset_index()[['geometry.location.lat','geometry.location.lng']].reset_index()\ndf_location_geometry.to_csv('location_geometry.csv',index=False)\nupload_file_cos(credentials,'location_geometry.csv','location_geometry.csv')"
        },
        {
            "cell_type": "code",
            "execution_count": 66,
            "metadata": {},
            "outputs": [
                {
                    "data": {
                        "text/html": "<div>\n<style scoped>\n    .dataframe tbody tr th:only-of-type {\n        vertical-align: middle;\n    }\n\n    .dataframe tbody tr th {\n        vertical-align: top;\n    }\n\n    .dataframe thead th {\n        text-align: right;\n    }\n</style>\n<table border=\"1\" class=\"dataframe\">\n  <thead>\n    <tr style=\"text-align: right;\">\n      <th></th>\n      <th>geometry.location.lat</th>\n      <th>geometry.location.lng</th>\n    </tr>\n  </thead>\n  <tbody>\n    <tr>\n      <th>0</th>\n      <td>37.016829</td>\n      <td>-8.940593</td>\n    </tr>\n    <tr>\n      <th>1</th>\n      <td>37.019355</td>\n      <td>-7.930440</td>\n    </tr>\n    <tr>\n      <th>2</th>\n      <td>37.026042</td>\n      <td>-7.842351</td>\n    </tr>\n    <tr>\n      <th>3</th>\n      <td>37.047121</td>\n      <td>-7.744386</td>\n    </tr>\n    <tr>\n      <th>4</th>\n      <td>37.071629</td>\n      <td>-8.101987</td>\n    </tr>\n  </tbody>\n</table>\n</div>",
                        "text/plain": "   geometry.location.lat  geometry.location.lng\n0              37.016829              -8.940593\n1              37.019355              -7.930440\n2              37.026042              -7.842351\n3              37.047121              -7.744386\n4              37.071629              -8.101987"
                    },
                    "execution_count": 66,
                    "metadata": {},
                    "output_type": "execute_result"
                }
            ],
            "source": "# Remove duplications\ndf_location_geometry_sorted=df_location_geometry.sort_values(by=['geometry.location.lat', 'geometry.location.lng'],ignore_index=True).reset_index()[['geometry.location.lat','geometry.location.lng']]\ndf_location_geometry_sorted.head()"
        },
        {
            "cell_type": "code",
            "execution_count": 67,
            "metadata": {},
            "outputs": [],
            "source": "# The code was removed by Watson Studio for sharing."
        },
        {
            "cell_type": "code",
            "execution_count": 68,
            "metadata": {},
            "outputs": [
                {
                    "name": "stdout",
                    "output_type": "stream",
                    "text": "2785\n"
                }
            ],
            "source": "#category='4bf58dd8d48988d12f951735' # Resort\ncategory='4bf58dd8d48988d1fa931735' # Hotel\n\ndf_all_hotels=pd.DataFrame()\nfor ind in df_location_geometry_sorted.index:\n\n    latitude = df_location_geometry_sorted['geometry.location.lat'][ind]\n    longitude = df_location_geometry_sorted['geometry.location.lng'][ind]\n\n    url = 'https://api.foursquare.com/v2/venues/search?&client_id={}&client_secret={}&v={}&ll={},{}&radius={}&limit={}&intent=browse&categoryId={}'.format(\n        CLIENT_ID, \n        CLIENT_SECRET,\n        VERSION,\n        latitude,\n        longitude,\n        9999,\n        50,\n        category)\n    results = json_normalize(requests.get(url).json())\n    try:\n        if not results.empty:\n            response_venues=results['response.venues'][0]\n            if response_venues:\n                if df_all_hotels.empty:\n                    df_all_hotels=pd.DataFrame(response_venues)\n                else:\n                    df_all_hotels=df_all_hotels.append(response_venues,sort=False)\n    except KeyError:\n        print('Error')\n\nprint(len(df_all_hotels))"
        },
        {
            "cell_type": "code",
            "execution_count": 69,
            "metadata": {},
            "outputs": [
                {
                    "data": {
                        "text/html": "<div>\n<style scoped>\n    .dataframe tbody tr th:only-of-type {\n        vertical-align: middle;\n    }\n\n    .dataframe tbody tr th {\n        vertical-align: top;\n    }\n\n    .dataframe thead th {\n        text-align: right;\n    }\n</style>\n<table border=\"1\" class=\"dataframe\">\n  <thead>\n    <tr style=\"text-align: right;\">\n      <th></th>\n      <th>id</th>\n      <th>location</th>\n      <th>name</th>\n    </tr>\n  </thead>\n  <tbody>\n    <tr>\n      <th>0</th>\n      <td>5b2d6e07b2958f002c54e4ba</td>\n      <td>{'lat': 37.090429, 'lng': -8.209487, 'labeledL...</td>\n      <td>1-211 appartement</td>\n    </tr>\n    <tr>\n      <th>1</th>\n      <td>4f7350c2e4b0257534d4008b</td>\n      <td>{'address': 'Algarve', 'lat': 37.10418, 'lng':...</td>\n      <td>402</td>\n    </tr>\n    <tr>\n      <th>2</th>\n      <td>575882b6498e96a54155636e</td>\n      <td>{'lat': 37.093356, 'lng': -8.743884, 'labeledL...</td>\n      <td>A Cabana B&amp;B</td>\n    </tr>\n    <tr>\n      <th>3</th>\n      <td>5011b9abe4b0c3be96766adf</td>\n      <td>{'lat': 37.09199419481045, 'lng': -8.209547670...</td>\n      <td>Acqua Maris</td>\n    </tr>\n    <tr>\n      <th>4</th>\n      <td>4da4481b2939b1f7049e2e57</td>\n      <td>{'address': 'Rocha Baixinha', 'lat': 37.082724...</td>\n      <td>Adriana Beach Club &amp; Spa</td>\n    </tr>\n  </tbody>\n</table>\n</div>",
                        "text/plain": "                         id  \\\n0  5b2d6e07b2958f002c54e4ba   \n1  4f7350c2e4b0257534d4008b   \n2  575882b6498e96a54155636e   \n3  5011b9abe4b0c3be96766adf   \n4  4da4481b2939b1f7049e2e57   \n\n                                            location                      name  \n0  {'lat': 37.090429, 'lng': -8.209487, 'labeledL...         1-211 appartement  \n1  {'address': 'Algarve', 'lat': 37.10418, 'lng':...                       402  \n2  {'lat': 37.093356, 'lng': -8.743884, 'labeledL...              A Cabana B&B  \n3  {'lat': 37.09199419481045, 'lng': -8.209547670...               Acqua Maris  \n4  {'address': 'Rocha Baixinha', 'lat': 37.082724...  Adriana Beach Club & Spa  "
                    },
                    "execution_count": 69,
                    "metadata": {},
                    "output_type": "execute_result"
                }
            ],
            "source": "# Remove duplications\ndf_all_hotels_sorted = df_all_hotels.sort_values(by=['name'], ignore_index=True).reset_index()[['id', 'location', 'name']]\ndf_all_hotels_sorted.drop_duplicates(subset=['id'],ignore_index=True,inplace=True)\ndf_all_hotels_sorted.head()"
        },
        {
            "cell_type": "code",
            "execution_count": 70,
            "metadata": {},
            "outputs": [
                {
                    "name": "stdout",
                    "output_type": "stream",
                    "text": "(18655, 7)\n"
                }
            ],
            "source": "# Searching for all food venues\ncategory='4d4b7105d754a06374d81259' # Food\ndf_all_food=pd.DataFrame()\n\nfor ind in df_all_hotels_sorted.index:\n\n    location = df_all_hotels_sorted['location'][ind]\n    try:\n        coord=pd.DataFrame(location['labeledLatLngs'])\n        latitude = coord['lat'][0]\n        longitude = coord['lng'][0]\n    except KeyError: # Some of the locations does not have 'labeledLatLngs', but just JSON string\n        try:\n            location_json = ast.literal_eval(location)\n            latitude = location_json['lat']\n            longitude = location_json['lng']\n        except ValueError: # Some of those JSON string does not have 'quotes' around the values\n            latitude = location['lat']\n            longitude = location['lng']\n\n    try:\n        url = 'https://api.foursquare.com/v2/venues/search?&client_id={}&client_secret={}&v={}&ll={},{}&radius={}&limit={}&intent=browse&categoryId={}'.format(\n            CLIENT_ID, \n            CLIENT_SECRET,\n            VERSION,\n            latitude,\n            longitude,\n            999,\n            50,\n            category)\n        results = json_normalize(requests.get(url).json())\n\n        if not results.empty:\n            response_venues=results['response.venues'][0]\n            if response_venues:\n                if df_all_food.empty:\n                    df_all_food=pd.DataFrame(response_venues)\n                    df_all_hotels_sorted['food.count'] = 0\n                else:\n                    df_all_food=df_all_food.append(response_venues,sort=False)\n                df_all_hotels_sorted.loc[ind, 'food.count'] = len(response_venues)\n\n    except KeyError:\n        print('Error')\n\nprint(df_all_food.shape)"
        },
        {
            "cell_type": "code",
            "execution_count": 78,
            "metadata": {},
            "outputs": [
                {
                    "data": {
                        "text/plain": "(3691, 3)"
                    },
                    "execution_count": 78,
                    "metadata": {},
                    "output_type": "execute_result"
                }
            ],
            "source": "df_all_food_sorted=df_all_food.sort_values(by=['name'],ignore_index=True).reset_index()[['id','location','name']]\ndf_all_food_sorted.drop_duplicates(subset=['id'],ignore_index=True,inplace=True)\ndf_all_food_sorted.shape"
        },
        {
            "cell_type": "code",
            "execution_count": null,
            "metadata": {},
            "outputs": [],
            "source": "df_all_food_sorted.head()"
        },
        {
            "cell_type": "code",
            "execution_count": 72,
            "metadata": {},
            "outputs": [
                {
                    "name": "stdout",
                    "output_type": "stream",
                    "text": " File Uploaded\n"
                }
            ],
            "source": "df_all_food_sorted.to_csv('food_Hotels.csv',index=False)\nupload_file_cos(credentials,'food_Hotels.csv','food_Hotels.csv')"
        },
        {
            "cell_type": "code",
            "execution_count": 73,
            "metadata": {},
            "outputs": [
                {
                    "name": "stdout",
                    "output_type": "stream",
                    "text": "(10254, 7)\n"
                }
            ],
            "source": "# Searching for all Nightlife venues\ncategory = '4d4b7105d754a06376d81259'  # Nightlife Spot\ndf_all_Nightlife=pd.DataFrame()\n\nfor ind in df_all_hotels_sorted.index:\n\n    location = df_all_hotels_sorted['location'][ind]\n    try:\n        coord=pd.DataFrame(location['labeledLatLngs'])\n        latitude = coord['lat'][0]\n        longitude = coord['lng'][0]\n    except KeyError: # Some of the locations does not have 'labeledLatLngs', but just JSON string\n        try:\n            location_json = ast.literal_eval(location)\n            latitude = location_json['lat']\n            longitude = location_json['lng']\n        except ValueError: # Some of those JSON string does not have 'quotes' around the values\n            latitude = location['lat']\n            longitude = location['lng']\n\n    try:\n        url = 'https://api.foursquare.com/v2/venues/search?&client_id={}&client_secret={}&v={}&ll={},{}&radius={}&limit={}&intent=browse&categoryId={}'.format(\n            CLIENT_ID, \n            CLIENT_SECRET,\n            VERSION,\n            latitude,\n            longitude,\n            999,\n            50,\n            category)\n        results = json_normalize(requests.get(url).json())\n\n        if not results.empty:\n            response_venues=results['response.venues'][0]\n            if response_venues:\n                if df_all_Nightlife.empty:\n                    df_all_Nightlife=pd.DataFrame(response_venues)\n                    df_all_hotels_sorted['nightlife.count'] = 0\n                else:\n                    df_all_Nightlife=df_all_Nightlife.append(response_venues,sort=False)\n                df_all_hotels_sorted.loc[ind, 'nightlife.count'] = len(response_venues)\n\n    except KeyError:\n        print('Error')\n\nprint(df_all_Nightlife.shape)"
        },
        {
            "cell_type": "code",
            "execution_count": 79,
            "metadata": {},
            "outputs": [
                {
                    "data": {
                        "text/plain": "(1369, 3)"
                    },
                    "execution_count": 79,
                    "metadata": {},
                    "output_type": "execute_result"
                }
            ],
            "source": "df_all_Nightlife_sorted=df_all_Nightlife.sort_values(by=['name'],ignore_index=True).reset_index()[['id','location','name']]\ndf_all_Nightlife_sorted.drop_duplicates(subset=['id'],ignore_index=True,inplace=True)\ndf_all_Nightlife_sorted.shape"
        },
        {
            "cell_type": "code",
            "execution_count": null,
            "metadata": {},
            "outputs": [],
            "source": "df_all_Nightlife_sorted.head()"
        },
        {
            "cell_type": "code",
            "execution_count": 75,
            "metadata": {},
            "outputs": [
                {
                    "name": "stdout",
                    "output_type": "stream",
                    "text": " File Uploaded\n"
                }
            ],
            "source": "df_all_Nightlife_sorted.to_csv('nightlife_Hotels.csv',index=False)\nupload_file_cos(credentials,'nightlife_Hotels.csv','nightlife_Hotels.csv')"
        },
        {
            "cell_type": "code",
            "execution_count": 76,
            "metadata": {},
            "outputs": [
                {
                    "data": {
                        "text/html": "<div>\n<style scoped>\n    .dataframe tbody tr th:only-of-type {\n        vertical-align: middle;\n    }\n\n    .dataframe tbody tr th {\n        vertical-align: top;\n    }\n\n    .dataframe thead th {\n        text-align: right;\n    }\n</style>\n<table border=\"1\" class=\"dataframe\">\n  <thead>\n    <tr style=\"text-align: right;\">\n      <th></th>\n      <th>id</th>\n      <th>location</th>\n      <th>name</th>\n      <th>food.count</th>\n      <th>nightlife.count</th>\n      <th>food.ratio</th>\n      <th>nightlife.ratio</th>\n    </tr>\n  </thead>\n  <tbody>\n    <tr>\n      <th>0</th>\n      <td>5b2d6e07b2958f002c54e4ba</td>\n      <td>{'lat': 37.090429, 'lng': -8.209487, 'labeledL...</td>\n      <td>1-211 appartement</td>\n      <td>30</td>\n      <td>17</td>\n      <td>0.60</td>\n      <td>0.34</td>\n    </tr>\n    <tr>\n      <th>1</th>\n      <td>4f7350c2e4b0257534d4008b</td>\n      <td>{'address': 'Algarve', 'lat': 37.10418, 'lng':...</td>\n      <td>402</td>\n      <td>9</td>\n      <td>2</td>\n      <td>0.18</td>\n      <td>0.04</td>\n    </tr>\n    <tr>\n      <th>2</th>\n      <td>575882b6498e96a54155636e</td>\n      <td>{'lat': 37.093356, 'lng': -8.743884, 'labeledL...</td>\n      <td>A Cabana B&amp;B</td>\n      <td>10</td>\n      <td>2</td>\n      <td>0.20</td>\n      <td>0.04</td>\n    </tr>\n    <tr>\n      <th>3</th>\n      <td>5011b9abe4b0c3be96766adf</td>\n      <td>{'lat': 37.09199419481045, 'lng': -8.209547670...</td>\n      <td>Acqua Maris</td>\n      <td>33</td>\n      <td>17</td>\n      <td>0.66</td>\n      <td>0.34</td>\n    </tr>\n    <tr>\n      <th>4</th>\n      <td>4da4481b2939b1f7049e2e57</td>\n      <td>{'address': 'Rocha Baixinha', 'lat': 37.082724...</td>\n      <td>Adriana Beach Club &amp; Spa</td>\n      <td>9</td>\n      <td>5</td>\n      <td>0.18</td>\n      <td>0.10</td>\n    </tr>\n  </tbody>\n</table>\n</div>",
                        "text/plain": "                         id  \\\n0  5b2d6e07b2958f002c54e4ba   \n1  4f7350c2e4b0257534d4008b   \n2  575882b6498e96a54155636e   \n3  5011b9abe4b0c3be96766adf   \n4  4da4481b2939b1f7049e2e57   \n\n                                            location  \\\n0  {'lat': 37.090429, 'lng': -8.209487, 'labeledL...   \n1  {'address': 'Algarve', 'lat': 37.10418, 'lng':...   \n2  {'lat': 37.093356, 'lng': -8.743884, 'labeledL...   \n3  {'lat': 37.09199419481045, 'lng': -8.209547670...   \n4  {'address': 'Rocha Baixinha', 'lat': 37.082724...   \n\n                       name  food.count  nightlife.count  food.ratio  \\\n0         1-211 appartement          30               17        0.60   \n1                       402           9                2        0.18   \n2              A Cabana B&B          10                2        0.20   \n3               Acqua Maris          33               17        0.66   \n4  Adriana Beach Club & Spa           9                5        0.18   \n\n   nightlife.ratio  \n0             0.34  \n1             0.04  \n2             0.04  \n3             0.34  \n4             0.10  "
                    },
                    "execution_count": 76,
                    "metadata": {},
                    "output_type": "execute_result"
                }
            ],
            "source": "df_all_hotels_sorted['food.ratio'] = df_all_hotels_sorted['food.count'] / 50\ndf_all_hotels_sorted['nightlife.ratio'] = df_all_hotels_sorted['nightlife.count'] / 50\ndf_all_hotels_sorted.head()"
        },
        {
            "cell_type": "code",
            "execution_count": 77,
            "metadata": {},
            "outputs": [
                {
                    "name": "stdout",
                    "output_type": "stream",
                    "text": " File Uploaded\n"
                }
            ],
            "source": "df_all_hotels_sorted.to_csv('hotels_all.csv',index=False)\nupload_file_cos(credentials,'hotels_all.csv','hotels_all.csv')"
        }
    ],
    "metadata": {
        "kernelspec": {
            "display_name": "Python 3.6",
            "language": "python",
            "name": "python3"
        },
        "language_info": {
            "codemirror_mode": {
                "name": "ipython",
                "version": 3
            },
            "file_extension": ".py",
            "mimetype": "text/x-python",
            "name": "python",
            "nbconvert_exporter": "python",
            "pygments_lexer": "ipython3",
            "version": "3.6.9"
        }
    },
    "nbformat": 4,
    "nbformat_minor": 1
}