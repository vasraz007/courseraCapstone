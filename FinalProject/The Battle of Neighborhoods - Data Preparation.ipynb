{
    "cells": [
        {
            "cell_type": "code",
            "execution_count": null,
            "metadata": {
                "scrolled": true
            },
            "outputs": [],
            "source": "!pip uninstall -y tensorboard\n!pip uninstall -y tensorflow\n!pip uninstall -y autoai-libs\n\n!pip install -U geocoder\n!pip install -U geopy\n!pip install -U googlemaps\n!pip install -U folium\n!pip install -U numpy\n!pip install -U pandas\n\nimport pandas as pd\nimport numpy as np\n\nfrom pandas import json_normalize  # tranform JSON file into a pandas dataframe\n\nimport googlemaps\nfrom datetime import datetime\nimport requests\nimport geopy\n\ngeopy.geocoders.options.default_user_agent = \"my-application\"\n\nimport ast\nimport json\nimport time\n\nimport folium\nfrom folium.plugins import HeatMap\n\nfrom ibm_botocore.client import Config\nimport ibm_boto3\n\nprint('Ready')"
        },
        {
            "cell_type": "code",
            "execution_count": 2,
            "metadata": {},
            "outputs": [],
            "source": "# The code was removed by Watson Studio for sharing."
        },
        {
            "cell_type": "code",
            "execution_count": null,
            "metadata": {
                "scrolled": true
            },
            "outputs": [],
            "source": "!wget --cookies=on --save-cookies cookies.txt --keep-session-cookies --post-data 'user=EMAIL&password=PASSWORD' 'https://www.ctt.pt/fecas/login?service=https%3A%2F%2Fwww.ctt.pt%2Ffemgu%2Fj_spring_cas_security_check.jspx'\n!wget --cookies=on --load-cookies cookies.txt --keep-session-cookies 'https://www.ctt.pt/feapl_2/app/restricted/postalCodeSearch/postalCodeDownloadFiles!downloadPostalCodeFile.jspx' -O PostCodeFull.Pt.zip"
        },
        {
            "cell_type": "code",
            "execution_count": 4,
            "metadata": {},
            "outputs": [],
            "source": "# The code was removed by Watson Studio for sharing."
        },
        {
            "cell_type": "code",
            "execution_count": 5,
            "metadata": {},
            "outputs": [],
            "source": "def download_file_cos(credentials, local_file_name, key):\n    cos = ibm_boto3.client(service_name='s3',\n                           ibm_api_key_id=credentials['IBM_API_KEY_ID'],\n                           ibm_service_instance_id=credentials['IAM_SERVICE_ID'],\n                           ibm_auth_endpoint=credentials['IBM_AUTH_ENDPOINT'],\n                           config=Config(signature_version='oauth'),\n                           endpoint_url=credentials['ENDPOINT'])\n    try:\n        res = cos.download_file(Bucket=credentials['BUCKET'], Key=key, Filename=local_file_name)\n    except Exception as e:\n        print(Exception, e)\n    else:\n        print('File Downloaded')"
        },
        {
            "cell_type": "code",
            "execution_count": 6,
            "metadata": {},
            "outputs": [],
            "source": "def upload_file_cos(credentials, local_file_name, key):\n    cos = ibm_boto3.client(service_name='s3',\n                           ibm_api_key_id=credentials['IBM_API_KEY_ID'],\n                           ibm_service_instance_id=credentials['IAM_SERVICE_ID'],\n                           ibm_auth_endpoint=credentials['IBM_AUTH_ENDPOINT'],\n                           config=Config(signature_version='oauth'),\n                           endpoint_url=credentials['ENDPOINT'])\n    try:\n        res = cos.upload_file(Filename=local_file_name, Bucket=credentials['BUCKET'], Key=key)\n    except Exception as e:\n        print(Exception, e)\n    else:\n        print(' File Uploaded')"
        },
        {
            "cell_type": "code",
            "execution_count": null,
            "metadata": {
                "scrolled": true
            },
            "outputs": [],
            "source": "!ls -la"
        },
        {
            "cell_type": "code",
            "execution_count": 8,
            "metadata": {},
            "outputs": [
                {
                    "name": "stdout",
                    "output_type": "stream",
                    "text": "File Downloaded\nFile Downloaded\nFile Downloaded\n"
                }
            ],
            "source": "download_file_cos(credentials, 'concelhos.txt', 'concelhos.txt')\ndownload_file_cos(credentials, 'distritos.txt', 'distritos.txt')\ndownload_file_cos(credentials, 'todos_cp.txt', 'todos_cp.txt')"
        },
        {
            "cell_type": "code",
            "execution_count": null,
            "metadata": {
                "scrolled": true
            },
            "outputs": [],
            "source": "# This ZIP contains (distritos.txt, concelhos.txt, todos_cp.txt)\n!unzip -x PostCodeFull.Pt.zip"
        },
        {
            "cell_type": "code",
            "execution_count": 10,
            "metadata": {},
            "outputs": [
                {
                    "data": {
                        "text/html": "<div>\n<style scoped>\n    .dataframe tbody tr th:only-of-type {\n        vertical-align: middle;\n    }\n\n    .dataframe tbody tr th {\n        vertical-align: top;\n    }\n\n    .dataframe thead th {\n        text-align: right;\n    }\n</style>\n<table border=\"1\" class=\"dataframe\">\n  <thead>\n    <tr style=\"text-align: right;\">\n      <th></th>\n      <th>DD</th>\n      <th>DESIG</th>\n    </tr>\n  </thead>\n  <tbody>\n    <tr>\n      <th>0</th>\n      <td>1</td>\n      <td>Aveiro</td>\n    </tr>\n    <tr>\n      <th>1</th>\n      <td>2</td>\n      <td>Beja</td>\n    </tr>\n    <tr>\n      <th>2</th>\n      <td>3</td>\n      <td>Braga</td>\n    </tr>\n    <tr>\n      <th>3</th>\n      <td>4</td>\n      <td>Bragan\u00e7a</td>\n    </tr>\n    <tr>\n      <th>4</th>\n      <td>5</td>\n      <td>Castelo Branco</td>\n    </tr>\n  </tbody>\n</table>\n</div>",
                        "text/plain": "   DD           DESIG\n0   1          Aveiro\n1   2            Beja\n2   3           Braga\n3   4        Bragan\u00e7a\n4   5  Castelo Branco"
                    },
                    "execution_count": 10,
                    "metadata": {},
                    "output_type": "execute_result"
                }
            ],
            "source": "df_DD = pd.read_csv('distritos.txt', sep=';', encoding='iso8859_15')\ndf_DD.head()"
        },
        {
            "cell_type": "code",
            "execution_count": 11,
            "metadata": {},
            "outputs": [
                {
                    "data": {
                        "text/html": "<div>\n<style scoped>\n    .dataframe tbody tr th:only-of-type {\n        vertical-align: middle;\n    }\n\n    .dataframe tbody tr th {\n        vertical-align: top;\n    }\n\n    .dataframe thead th {\n        text-align: right;\n    }\n</style>\n<table border=\"1\" class=\"dataframe\">\n  <thead>\n    <tr style=\"text-align: right;\">\n      <th></th>\n      <th>DD</th>\n      <th>CC</th>\n      <th>DESIG</th>\n    </tr>\n  </thead>\n  <tbody>\n    <tr>\n      <th>101</th>\n      <td>8</td>\n      <td>6</td>\n      <td>Lagoa (Algarve)</td>\n    </tr>\n    <tr>\n      <th>102</th>\n      <td>8</td>\n      <td>7</td>\n      <td>Lagos</td>\n    </tr>\n    <tr>\n      <th>103</th>\n      <td>8</td>\n      <td>8</td>\n      <td>Loul\u00e9</td>\n    </tr>\n    <tr>\n      <th>104</th>\n      <td>8</td>\n      <td>9</td>\n      <td>Monchique</td>\n    </tr>\n    <tr>\n      <th>105</th>\n      <td>8</td>\n      <td>10</td>\n      <td>Olh\u00e3o</td>\n    </tr>\n  </tbody>\n</table>\n</div>",
                        "text/plain": "     DD  CC            DESIG\n101   8   6  Lagoa (Algarve)\n102   8   7            Lagos\n103   8   8            Loul\u00e9\n104   8   9        Monchique\n105   8  10            Olh\u00e3o"
                    },
                    "execution_count": 11,
                    "metadata": {},
                    "output_type": "execute_result"
                }
            ],
            "source": "df_CC = pd.read_csv('concelhos.txt', sep=';', encoding='iso8859_15')\ndf_CC = df_CC[df_CC['DD'] == 8]\ndf_CC.head()"
        },
        {
            "cell_type": "code",
            "execution_count": 12,
            "metadata": {},
            "outputs": [
                {
                    "data": {
                        "text/html": "<div>\n<style scoped>\n    .dataframe tbody tr th:only-of-type {\n        vertical-align: middle;\n    }\n\n    .dataframe tbody tr th {\n        vertical-align: top;\n    }\n\n    .dataframe thead th {\n        text-align: right;\n    }\n</style>\n<table border=\"1\" class=\"dataframe\">\n  <thead>\n    <tr style=\"text-align: right;\">\n      <th></th>\n      <th>DD</th>\n      <th>CC</th>\n      <th>LLLL</th>\n      <th>LOCALIDADE</th>\n      <th>CP4</th>\n      <th>CP3</th>\n      <th>CPALF</th>\n    </tr>\n  </thead>\n  <tbody>\n    <tr>\n      <th>0</th>\n      <td>1</td>\n      <td>1</td>\n      <td>249</td>\n      <td>Alcafaz</td>\n      <td>3750</td>\n      <td>11</td>\n      <td>AGAD\u00c3O</td>\n    </tr>\n    <tr>\n      <th>1</th>\n      <td>1</td>\n      <td>1</td>\n      <td>250</td>\n      <td>Caselho</td>\n      <td>3750</td>\n      <td>12</td>\n      <td>AGAD\u00c3O</td>\n    </tr>\n    <tr>\n      <th>2</th>\n      <td>1</td>\n      <td>1</td>\n      <td>251</td>\n      <td>Corga da Serra</td>\n      <td>3750</td>\n      <td>13</td>\n      <td>AGAD\u00c3O</td>\n    </tr>\n    <tr>\n      <th>3</th>\n      <td>1</td>\n      <td>1</td>\n      <td>252</td>\n      <td>Foz</td>\n      <td>3750</td>\n      <td>14</td>\n      <td>AGAD\u00c3O</td>\n    </tr>\n    <tr>\n      <th>4</th>\n      <td>1</td>\n      <td>1</td>\n      <td>253</td>\n      <td>Guistola</td>\n      <td>3750</td>\n      <td>15</td>\n      <td>AGAD\u00c3O</td>\n    </tr>\n  </tbody>\n</table>\n</div>",
                        "text/plain": "   DD  CC  LLLL      LOCALIDADE   CP4  CP3   CPALF\n0   1   1   249         Alcafaz  3750   11  AGAD\u00c3O\n1   1   1   250         Caselho  3750   12  AGAD\u00c3O\n2   1   1   251  Corga da Serra  3750   13  AGAD\u00c3O\n3   1   1   252             Foz  3750   14  AGAD\u00c3O\n4   1   1   253        Guistola  3750   15  AGAD\u00c3O"
                    },
                    "execution_count": 12,
                    "metadata": {},
                    "output_type": "execute_result"
                }
            ],
            "source": "df_PostalCode = pd.read_csv('todos_cp.txt', sep=';', encoding='iso8859_15', index_col=False).reset_index()[['DD', 'CC', 'LLLL', 'LOCALIDADE', 'CP4', 'CP3', 'CPALF']]\ndf_PostalCode.head()"
        },
        {
            "cell_type": "code",
            "execution_count": 13,
            "metadata": {},
            "outputs": [
                {
                    "data": {
                        "text/html": "<div>\n<style scoped>\n    .dataframe tbody tr th:only-of-type {\n        vertical-align: middle;\n    }\n\n    .dataframe tbody tr th {\n        vertical-align: top;\n    }\n\n    .dataframe thead th {\n        text-align: right;\n    }\n</style>\n<table border=\"1\" class=\"dataframe\">\n  <thead>\n    <tr style=\"text-align: right;\">\n      <th></th>\n      <th>CPALF</th>\n    </tr>\n  </thead>\n  <tbody>\n    <tr>\n      <th>0</th>\n      <td>ALBUFEIRA</td>\n    </tr>\n    <tr>\n      <th>1</th>\n      <td>ALCANTARILHA</td>\n    </tr>\n    <tr>\n      <th>2</th>\n      <td>ALCOUTIM</td>\n    </tr>\n    <tr>\n      <th>3</th>\n      <td>ALFERCE</td>\n    </tr>\n    <tr>\n      <th>4</th>\n      <td>ALGOZ</td>\n    </tr>\n  </tbody>\n</table>\n</div>",
                        "text/plain": "          CPALF\n0     ALBUFEIRA\n1  ALCANTARILHA\n2      ALCOUTIM\n3       ALFERCE\n4         ALGOZ"
                    },
                    "execution_count": 13,
                    "metadata": {},
                    "output_type": "execute_result"
                }
            ],
            "source": "# Select only location from Algarve\ndf_CPALF_Algarve = pd.DataFrame(df_PostalCode[df_PostalCode['DD'] == 8].groupby(['CPALF'])['CP4'].count()).reset_index()[['CPALF']]\ndf_CPALF_Algarve.head()"
        },
        {
            "cell_type": "code",
            "execution_count": 14,
            "metadata": {},
            "outputs": [],
            "source": "# The code was removed by Watson Studio for sharing."
        },
        {
            "cell_type": "code",
            "execution_count": 15,
            "metadata": {},
            "outputs": [
                {
                    "name": "stdout",
                    "output_type": "stream",
                    "text": "(73, 18)\n"
                }
            ],
            "source": "df_all_locations = pd.DataFrame()\nfor row in df_CPALF_Algarve.itertuples():\n    address = '{}, Algarve, Portugal'.format(getattr(row, 'CPALF'))\n    try:\n        gmaps = googlemaps.Client(key=GOOGLE_MAPS_API_KEY, timeout=1)\n        location = gmaps.geocode(address)\n    except geopy.exc.GeocoderUnavailable:\n        print('GeocoderUnavailable')\n        print(name)\n    except urllib.error.URLError:\n        print('URLError')\n        print(name)\n    except OSError:\n        print('OSError')\n        print(name)\n\n    if df_all_locations.empty:\n        df_all_locations = pd.DataFrame(json_normalize(location))\n    else:\n        df_all_locations = df_all_locations.append(json_normalize(location), sort=False)\n\nprint(df_all_locations.shape)"
        },
        {
            "cell_type": "code",
            "execution_count": 16,
            "metadata": {},
            "outputs": [
                {
                    "name": "stdout",
                    "output_type": "stream",
                    "text": " File Uploaded\n"
                }
            ],
            "source": "df_location_geometry = df_all_locations.reset_index()[['geometry.location.lat', 'geometry.location.lng']].reset_index()\ndf_location_geometry.to_csv('location_geometry.csv', index=False)\nupload_file_cos(credentials, 'location_geometry.csv', 'location_geometry.csv')"
        },
        {
            "cell_type": "code",
            "execution_count": 17,
            "metadata": {},
            "outputs": [
                {
                    "data": {
                        "text/html": "<div>\n<style scoped>\n    .dataframe tbody tr th:only-of-type {\n        vertical-align: middle;\n    }\n\n    .dataframe tbody tr th {\n        vertical-align: top;\n    }\n\n    .dataframe thead th {\n        text-align: right;\n    }\n</style>\n<table border=\"1\" class=\"dataframe\">\n  <thead>\n    <tr style=\"text-align: right;\">\n      <th></th>\n      <th>latitude</th>\n      <th>longitude</th>\n    </tr>\n  </thead>\n  <tbody>\n    <tr>\n      <th>0</th>\n      <td>37.016829</td>\n      <td>-8.940593</td>\n    </tr>\n    <tr>\n      <th>1</th>\n      <td>37.019355</td>\n      <td>-7.930440</td>\n    </tr>\n    <tr>\n      <th>2</th>\n      <td>37.026042</td>\n      <td>-7.842351</td>\n    </tr>\n    <tr>\n      <th>3</th>\n      <td>37.047121</td>\n      <td>-7.744386</td>\n    </tr>\n    <tr>\n      <th>4</th>\n      <td>37.071629</td>\n      <td>-8.101987</td>\n    </tr>\n  </tbody>\n</table>\n</div>",
                        "text/plain": "    latitude  longitude\n0  37.016829  -8.940593\n1  37.019355  -7.930440\n2  37.026042  -7.842351\n3  37.047121  -7.744386\n4  37.071629  -8.101987"
                    },
                    "execution_count": 17,
                    "metadata": {},
                    "output_type": "execute_result"
                }
            ],
            "source": "# Remove duplications\ndf_location_geometry_sorted = df_location_geometry.sort_values(by=['geometry.location.lat', 'geometry.location.lng'], ignore_index=True).reset_index()[['geometry.location.lat', 'geometry.location.lng']]\ndf_location_geometry_sorted.columns = ['latitude', 'longitude']\ndf_location_geometry_sorted.head()"
        },
        {
            "cell_type": "code",
            "execution_count": 18,
            "metadata": {},
            "outputs": [],
            "source": "# The code was removed by Watson Studio for sharing."
        },
        {
            "cell_type": "code",
            "execution_count": 19,
            "metadata": {},
            "outputs": [
                {
                    "name": "stdout",
                    "output_type": "stream",
                    "text": "2785\n"
                }
            ],
            "source": "# category='4bf58dd8d48988d12f951735' # Resort\ncategory = '4bf58dd8d48988d1fa931735'  # Hotel\n\ndf_all_hotels = pd.DataFrame()\nfor row in df_location_geometry_sorted.itertuples():\n\n    latitude = getattr(row, 'latitude')\n    longitude = getattr(row, 'longitude')\n\n    url = 'https://api.foursquare.com/v2/venues/search?&client_id={}&client_secret={}&v={}&ll={},{}&radius={}&limit={}&intent=browse&categoryId={}'.format(\n        CLIENT_ID,\n        CLIENT_SECRET,\n        VERSION,\n        latitude,\n        longitude,\n        9999,\n        50,\n        category)\n    results = json_normalize(requests.get(url).json())\n    try:\n        if not results.empty:\n            response_venues = results['response.venues'][0]\n            if response_venues:\n                if df_all_hotels.empty:\n                    df_all_hotels = pd.DataFrame(response_venues)\n                else:\n                    df_all_hotels = df_all_hotels.append(response_venues, sort=False)\n    except KeyError:\n        print('Error')\n\nprint(len(df_all_hotels))"
        },
        {
            "cell_type": "code",
            "execution_count": 20,
            "metadata": {},
            "outputs": [
                {
                    "data": {
                        "text/html": "<div>\n<style scoped>\n    .dataframe tbody tr th:only-of-type {\n        vertical-align: middle;\n    }\n\n    .dataframe tbody tr th {\n        vertical-align: top;\n    }\n\n    .dataframe thead th {\n        text-align: right;\n    }\n</style>\n<table border=\"1\" class=\"dataframe\">\n  <thead>\n    <tr style=\"text-align: right;\">\n      <th></th>\n      <th>id</th>\n      <th>location</th>\n      <th>name</th>\n    </tr>\n  </thead>\n  <tbody>\n    <tr>\n      <th>0</th>\n      <td>5b2d6e07b2958f002c54e4ba</td>\n      <td>{'lat': 37.090429, 'lng': -8.209487, 'labeledL...</td>\n      <td>1-211 appartement</td>\n    </tr>\n    <tr>\n      <th>1</th>\n      <td>4f7350c2e4b0257534d4008b</td>\n      <td>{'address': 'Algarve', 'lat': 37.10418, 'lng':...</td>\n      <td>402</td>\n    </tr>\n    <tr>\n      <th>2</th>\n      <td>575882b6498e96a54155636e</td>\n      <td>{'lat': 37.093356, 'lng': -8.743884, 'labeledL...</td>\n      <td>A Cabana B&amp;B</td>\n    </tr>\n    <tr>\n      <th>3</th>\n      <td>5011b9abe4b0c3be96766adf</td>\n      <td>{'lat': 37.09199419481045, 'lng': -8.209547670...</td>\n      <td>Acqua Maris</td>\n    </tr>\n    <tr>\n      <th>4</th>\n      <td>4da4481b2939b1f7049e2e57</td>\n      <td>{'address': 'Rocha Baixinha', 'lat': 37.082724...</td>\n      <td>Adriana Beach Club &amp; Spa</td>\n    </tr>\n  </tbody>\n</table>\n</div>",
                        "text/plain": "                         id  \\\n0  5b2d6e07b2958f002c54e4ba   \n1  4f7350c2e4b0257534d4008b   \n2  575882b6498e96a54155636e   \n3  5011b9abe4b0c3be96766adf   \n4  4da4481b2939b1f7049e2e57   \n\n                                            location                      name  \n0  {'lat': 37.090429, 'lng': -8.209487, 'labeledL...         1-211 appartement  \n1  {'address': 'Algarve', 'lat': 37.10418, 'lng':...                       402  \n2  {'lat': 37.093356, 'lng': -8.743884, 'labeledL...              A Cabana B&B  \n3  {'lat': 37.09199419481045, 'lng': -8.209547670...               Acqua Maris  \n4  {'address': 'Rocha Baixinha', 'lat': 37.082724...  Adriana Beach Club & Spa  "
                    },
                    "execution_count": 20,
                    "metadata": {},
                    "output_type": "execute_result"
                }
            ],
            "source": "# Remove duplications\ndf_all_hotels_sorted = df_all_hotels.sort_values(by=['name'], ignore_index=True).reset_index()[['id', 'location', 'name']]\ndf_all_hotels_sorted.drop_duplicates(subset=['id'], ignore_index=True, inplace=True)\ndf_all_hotels_sorted.head()"
        },
        {
            "cell_type": "code",
            "execution_count": 21,
            "metadata": {},
            "outputs": [
                {
                    "name": "stdout",
                    "output_type": "stream",
                    "text": "(18654, 7)\n"
                }
            ],
            "source": "# Searching for all food venues\ncategory = '4d4b7105d754a06374d81259'  # Food\ndf_all_food = pd.DataFrame()\n\nfor ind in df_all_hotels_sorted.index:\n\n    location = df_all_hotels_sorted['location'][ind]\n    try:\n        coord = pd.DataFrame(location['labeledLatLngs'])\n        latitude = coord['lat'][0]\n        longitude = coord['lng'][0]\n    except KeyError:  # Some of the locations does not have 'labeledLatLngs', but just JSON string\n        try:\n            location_json = ast.literal_eval(location)\n            latitude = location_json['lat']\n            longitude = location_json['lng']\n        except ValueError:  # Some of those JSON string does not have 'quotes' around the values\n            latitude = location['lat']\n            longitude = location['lng']\n\n    try:\n        url = 'https://api.foursquare.com/v2/venues/search?&client_id={}&client_secret={}&v={}&ll={},{}&radius={}&limit={}&intent=browse&categoryId={}'.format(\n            CLIENT_ID,\n            CLIENT_SECRET,\n            VERSION,\n            latitude,\n            longitude,\n            999,\n            50,\n            category)\n        results = json_normalize(requests.get(url).json())\n\n        if not results.empty:\n            response_venues = results['response.venues'][0]\n            if response_venues:\n                if df_all_food.empty:\n                    df_all_food = pd.DataFrame(response_venues)\n                    df_all_hotels_sorted['food.count'] = 0\n                else:\n                    df_all_food = df_all_food.append(response_venues, sort=False)\n                df_all_hotels_sorted.loc[ind, 'food.count'] = len(response_venues)\n\n    except KeyError:\n        print('Error')\n\nprint(df_all_food.shape)"
        },
        {
            "cell_type": "code",
            "execution_count": 22,
            "metadata": {},
            "outputs": [
                {
                    "data": {
                        "text/plain": "(3691, 3)"
                    },
                    "execution_count": 22,
                    "metadata": {},
                    "output_type": "execute_result"
                }
            ],
            "source": "# Remove duplications\ndf_all_food_sorted = df_all_food.sort_values(by=['name'], ignore_index=True).reset_index()[['id', 'location', 'name']]\ndf_all_food_sorted.drop_duplicates(subset=['id'], ignore_index=True, inplace=True)\ndf_all_food_sorted.shape"
        },
        {
            "cell_type": "code",
            "execution_count": 23,
            "metadata": {},
            "outputs": [
                {
                    "data": {
                        "text/html": "<div>\n<style scoped>\n    .dataframe tbody tr th:only-of-type {\n        vertical-align: middle;\n    }\n\n    .dataframe tbody tr th {\n        vertical-align: top;\n    }\n\n    .dataframe thead th {\n        text-align: right;\n    }\n</style>\n<table border=\"1\" class=\"dataframe\">\n  <thead>\n    <tr style=\"text-align: right;\">\n      <th></th>\n      <th>id</th>\n      <th>location</th>\n      <th>name</th>\n    </tr>\n  </thead>\n  <tbody>\n    <tr>\n      <th>0</th>\n      <td>51f3dd29498e816eed7f6862</td>\n      <td>{'lat': 37.314621921807245, 'lng': -8.80378810...</td>\n      <td>.it</td>\n    </tr>\n    <tr>\n      <th>1</th>\n      <td>4c703848df6b8cfae19fb74d</td>\n      <td>{'address': 'C.C. La Plaza', 'crossStreet': 'A...</td>\n      <td>100 Montaditos</td>\n    </tr>\n    <tr>\n      <th>2</th>\n      <td>5baa2b0f4aa3f80039248ec9</td>\n      <td>{'address': 'Rua 1.\u00ba de Dezembro 38', 'lat': 3...</td>\n      <td>100% Livre</td>\n    </tr>\n    <tr>\n      <th>3</th>\n      <td>503c975d830222581ce53204</td>\n      <td>{'address': 'Mercado de Loul\u00e9', 'crossStreet':...</td>\n      <td>11 Gourmet</td>\n    </tr>\n    <tr>\n      <th>4</th>\n      <td>59ad27729de23b724c244c30</td>\n      <td>{'address': 'Campo De Golf De Palmares', 'lat'...</td>\n      <td>180 Bar &amp; Restaurant</td>\n    </tr>\n  </tbody>\n</table>\n</div>",
                        "text/plain": "                         id  \\\n0  51f3dd29498e816eed7f6862   \n1  4c703848df6b8cfae19fb74d   \n2  5baa2b0f4aa3f80039248ec9   \n3  503c975d830222581ce53204   \n4  59ad27729de23b724c244c30   \n\n                                            location                  name  \n0  {'lat': 37.314621921807245, 'lng': -8.80378810...                   .it  \n1  {'address': 'C.C. La Plaza', 'crossStreet': 'A...        100 Montaditos  \n2  {'address': 'Rua 1.\u00ba de Dezembro 38', 'lat': 3...            100% Livre  \n3  {'address': 'Mercado de Loul\u00e9', 'crossStreet':...            11 Gourmet  \n4  {'address': 'Campo De Golf De Palmares', 'lat'...  180 Bar & Restaurant  "
                    },
                    "execution_count": 23,
                    "metadata": {},
                    "output_type": "execute_result"
                }
            ],
            "source": "df_all_food_sorted.head()"
        },
        {
            "cell_type": "code",
            "execution_count": 24,
            "metadata": {},
            "outputs": [
                {
                    "name": "stdout",
                    "output_type": "stream",
                    "text": " File Uploaded\n"
                }
            ],
            "source": "df_all_food_sorted.to_csv('food_Hotels.csv', index=False)\nupload_file_cos(credentials, 'food_Hotels.csv', 'food_Hotels.csv')"
        },
        {
            "cell_type": "code",
            "execution_count": 25,
            "metadata": {},
            "outputs": [
                {
                    "name": "stdout",
                    "output_type": "stream",
                    "text": "(10254, 7)\n"
                }
            ],
            "source": "# Searching for all Nightlife venues\ncategory = '4d4b7105d754a06376d81259'  # Nightlife Spot\ndf_all_Nightlife = pd.DataFrame()\n\nfor ind in df_all_hotels_sorted.index:\n\n    location = df_all_hotels_sorted['location'][ind]\n    try:\n        coord = pd.DataFrame(location['labeledLatLngs'])\n        latitude = coord['lat'][0]\n        longitude = coord['lng'][0]\n    except KeyError:  # Some of the locations does not have 'labeledLatLngs', but just JSON string\n        try:\n            location_json = ast.literal_eval(location)\n            latitude = location_json['lat']\n            longitude = location_json['lng']\n        except ValueError:  # Some of those JSON string does not have 'quotes' around the values\n            latitude = location['lat']\n            longitude = location['lng']\n\n    try:\n        url = 'https://api.foursquare.com/v2/venues/search?&client_id={}&client_secret={}&v={}&ll={},{}&radius={}&limit={}&intent=browse&categoryId={}'.format(\n            CLIENT_ID,\n            CLIENT_SECRET,\n            VERSION,\n            latitude,\n            longitude,\n            999,\n            50,\n            category)\n        results = json_normalize(requests.get(url).json())\n\n        if not results.empty:\n            response_venues = results['response.venues'][0]\n            if response_venues:\n                if df_all_Nightlife.empty:\n                    df_all_Nightlife = pd.DataFrame(response_venues)\n                    df_all_hotels_sorted['nightlife.count'] = 0\n                else:\n                    df_all_Nightlife = df_all_Nightlife.append(response_venues, sort=False)\n                df_all_hotels_sorted.loc[ind, 'nightlife.count'] = len(response_venues)\n\n    except KeyError:\n        print('Error')\n\nprint(df_all_Nightlife.shape)"
        },
        {
            "cell_type": "code",
            "execution_count": 26,
            "metadata": {},
            "outputs": [
                {
                    "data": {
                        "text/plain": "(1369, 3)"
                    },
                    "execution_count": 26,
                    "metadata": {},
                    "output_type": "execute_result"
                }
            ],
            "source": "# Remove duplications\ndf_all_Nightlife_sorted = df_all_Nightlife.sort_values(by=['name'], ignore_index=True).reset_index()[['id', 'location', 'name']]\ndf_all_Nightlife_sorted.drop_duplicates(subset=['id'], ignore_index=True, inplace=True)\ndf_all_Nightlife_sorted.shape"
        },
        {
            "cell_type": "code",
            "execution_count": 27,
            "metadata": {},
            "outputs": [
                {
                    "data": {
                        "text/html": "<div>\n<style scoped>\n    .dataframe tbody tr th:only-of-type {\n        vertical-align: middle;\n    }\n\n    .dataframe tbody tr th {\n        vertical-align: top;\n    }\n\n    .dataframe thead th {\n        text-align: right;\n    }\n</style>\n<table border=\"1\" class=\"dataframe\">\n  <thead>\n    <tr style=\"text-align: right;\">\n      <th></th>\n      <th>id</th>\n      <th>location</th>\n      <th>name</th>\n    </tr>\n  </thead>\n  <tbody>\n    <tr>\n      <th>0</th>\n      <td>5543bbcc498eeb86510c86d8</td>\n      <td>{'address': 'Largo da Praia, 12', 'lat': 37.09...</td>\n      <td>\"O Bote\" Beach Club</td>\n    </tr>\n    <tr>\n      <th>1</th>\n      <td>51c4f6a4498e6bf2acdc42fb</td>\n      <td>{'lat': 37.12104716901985, 'lng': -8.340093294...</td>\n      <td>100 Limites</td>\n    </tr>\n    <tr>\n      <th>2</th>\n      <td>5479f5ec498e5ae4c497b369</td>\n      <td>{'lat': 37.139101700596505, 'lng': -8.02349424...</td>\n      <td>11 da Vila</td>\n    </tr>\n    <tr>\n      <th>3</th>\n      <td>4cc07b741c6c6dcba2ac755e</td>\n      <td>{'lat': 37.075586615583, 'lng': -8.11933685238...</td>\n      <td>19th Hole</td>\n    </tr>\n    <tr>\n      <th>4</th>\n      <td>5b5f090d029a55002caaa0f0</td>\n      <td>{'address': 'Travessa do Golfe', 'crossStreet'...</td>\n      <td>19th Hole Bar and Restaurant</td>\n    </tr>\n  </tbody>\n</table>\n</div>",
                        "text/plain": "                         id  \\\n0  5543bbcc498eeb86510c86d8   \n1  51c4f6a4498e6bf2acdc42fb   \n2  5479f5ec498e5ae4c497b369   \n3  4cc07b741c6c6dcba2ac755e   \n4  5b5f090d029a55002caaa0f0   \n\n                                            location  \\\n0  {'address': 'Largo da Praia, 12', 'lat': 37.09...   \n1  {'lat': 37.12104716901985, 'lng': -8.340093294...   \n2  {'lat': 37.139101700596505, 'lng': -8.02349424...   \n3  {'lat': 37.075586615583, 'lng': -8.11933685238...   \n4  {'address': 'Travessa do Golfe', 'crossStreet'...   \n\n                           name  \n0           \"O Bote\" Beach Club  \n1                   100 Limites  \n2                    11 da Vila  \n3                     19th Hole  \n4  19th Hole Bar and Restaurant  "
                    },
                    "execution_count": 27,
                    "metadata": {},
                    "output_type": "execute_result"
                }
            ],
            "source": "df_all_Nightlife_sorted.head()"
        },
        {
            "cell_type": "code",
            "execution_count": 28,
            "metadata": {},
            "outputs": [
                {
                    "name": "stdout",
                    "output_type": "stream",
                    "text": " File Uploaded\n"
                }
            ],
            "source": "df_all_Nightlife_sorted.to_csv('nightlife_Hotels.csv', index=False)\nupload_file_cos(credentials, 'nightlife_Hotels.csv', 'nightlife_Hotels.csv')"
        },
        {
            "cell_type": "code",
            "execution_count": 29,
            "metadata": {},
            "outputs": [
                {
                    "data": {
                        "text/html": "<div>\n<style scoped>\n    .dataframe tbody tr th:only-of-type {\n        vertical-align: middle;\n    }\n\n    .dataframe tbody tr th {\n        vertical-align: top;\n    }\n\n    .dataframe thead th {\n        text-align: right;\n    }\n</style>\n<table border=\"1\" class=\"dataframe\">\n  <thead>\n    <tr style=\"text-align: right;\">\n      <th></th>\n      <th>id</th>\n      <th>location</th>\n      <th>name</th>\n      <th>food.count</th>\n      <th>nightlife.count</th>\n      <th>food.ratio</th>\n      <th>nightlife.ratio</th>\n    </tr>\n  </thead>\n  <tbody>\n    <tr>\n      <th>0</th>\n      <td>5b2d6e07b2958f002c54e4ba</td>\n      <td>{'lat': 37.090429, 'lng': -8.209487, 'labeledL...</td>\n      <td>1-211 appartement</td>\n      <td>30</td>\n      <td>17</td>\n      <td>0.60</td>\n      <td>0.34</td>\n    </tr>\n    <tr>\n      <th>1</th>\n      <td>4f7350c2e4b0257534d4008b</td>\n      <td>{'address': 'Algarve', 'lat': 37.10418, 'lng':...</td>\n      <td>402</td>\n      <td>9</td>\n      <td>2</td>\n      <td>0.18</td>\n      <td>0.04</td>\n    </tr>\n    <tr>\n      <th>2</th>\n      <td>575882b6498e96a54155636e</td>\n      <td>{'lat': 37.093356, 'lng': -8.743884, 'labeledL...</td>\n      <td>A Cabana B&amp;B</td>\n      <td>10</td>\n      <td>2</td>\n      <td>0.20</td>\n      <td>0.04</td>\n    </tr>\n    <tr>\n      <th>3</th>\n      <td>5011b9abe4b0c3be96766adf</td>\n      <td>{'lat': 37.09199419481045, 'lng': -8.209547670...</td>\n      <td>Acqua Maris</td>\n      <td>33</td>\n      <td>17</td>\n      <td>0.66</td>\n      <td>0.34</td>\n    </tr>\n    <tr>\n      <th>4</th>\n      <td>4da4481b2939b1f7049e2e57</td>\n      <td>{'address': 'Rocha Baixinha', 'lat': 37.082724...</td>\n      <td>Adriana Beach Club &amp; Spa</td>\n      <td>9</td>\n      <td>5</td>\n      <td>0.18</td>\n      <td>0.10</td>\n    </tr>\n  </tbody>\n</table>\n</div>",
                        "text/plain": "                         id  \\\n0  5b2d6e07b2958f002c54e4ba   \n1  4f7350c2e4b0257534d4008b   \n2  575882b6498e96a54155636e   \n3  5011b9abe4b0c3be96766adf   \n4  4da4481b2939b1f7049e2e57   \n\n                                            location  \\\n0  {'lat': 37.090429, 'lng': -8.209487, 'labeledL...   \n1  {'address': 'Algarve', 'lat': 37.10418, 'lng':...   \n2  {'lat': 37.093356, 'lng': -8.743884, 'labeledL...   \n3  {'lat': 37.09199419481045, 'lng': -8.209547670...   \n4  {'address': 'Rocha Baixinha', 'lat': 37.082724...   \n\n                       name  food.count  nightlife.count  food.ratio  \\\n0         1-211 appartement          30               17        0.60   \n1                       402           9                2        0.18   \n2              A Cabana B&B          10                2        0.20   \n3               Acqua Maris          33               17        0.66   \n4  Adriana Beach Club & Spa           9                5        0.18   \n\n   nightlife.ratio  \n0             0.34  \n1             0.04  \n2             0.04  \n3             0.34  \n4             0.10  "
                    },
                    "execution_count": 29,
                    "metadata": {},
                    "output_type": "execute_result"
                }
            ],
            "source": "df_all_hotels_sorted['food.ratio'] = df_all_hotels_sorted['food.count'] / 50\ndf_all_hotels_sorted['nightlife.ratio'] = df_all_hotels_sorted['nightlife.count'] / 50\ndf_all_hotels_sorted.head()"
        },
        {
            "cell_type": "code",
            "execution_count": 30,
            "metadata": {},
            "outputs": [
                {
                    "name": "stdout",
                    "output_type": "stream",
                    "text": " File Uploaded\n"
                }
            ],
            "source": "df_all_hotels_sorted.to_csv('hotels_all.csv', index=False)\nupload_file_cos(credentials, 'hotels_all.csv', 'hotels_all.csv')"
        }
    ],
    "metadata": {
        "kernelspec": {
            "display_name": "Python 3.6",
            "language": "python",
            "name": "python3"
        },
        "language_info": {
            "codemirror_mode": {
                "name": "ipython",
                "version": 3
            },
            "file_extension": ".py",
            "mimetype": "text/x-python",
            "name": "python",
            "nbconvert_exporter": "python",
            "pygments_lexer": "ipython3",
            "version": "3.6.9"
        }
    },
    "nbformat": 4,
    "nbformat_minor": 1
}
